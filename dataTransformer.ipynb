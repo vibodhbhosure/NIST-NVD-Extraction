{
 "cells": [
  {
   "cell_type": "markdown",
   "metadata": {},
   "source": [
    "### Data Pre-Processing"
   ]
  },
  {
   "cell_type": "code",
   "execution_count": 5,
   "metadata": {},
   "outputs": [
    {
     "name": "stdout",
     "output_type": "stream",
     "text": [
      "Unique Tags: ['B-ACT', 'B-APT', 'B-EMAIL', 'B-ENCR', 'B-FILE', 'B-IDTY', 'B-IP', 'B-LOC', 'B-MAL', 'B-OS', 'B-PROT', 'B-SECTEAM', 'B-SHA2', 'B-TIME', 'B-TOOL', 'B-URL', 'B-VULID', 'B-VULNAME', 'E-ACT', 'E-APT', 'E-EMAIL', 'E-ENCR', 'E-FILE', 'E-IDTY', 'E-IP', 'E-LOC', 'E-MAL', 'E-OS', 'E-PROT', 'E-S-SECTEAM', 'E-SECTEAM', 'E-SHA2', 'E-TIME', 'E-TOOL', 'E-URL', 'E-VULNAME', 'I-ACT', 'I-APT', 'I-FILE', 'I-IDTY', 'I-LOC', 'I-MAL', 'I-OS', 'I-PROT', 'I-SECTEAM', 'I-TIME', 'I-TOOL', 'I-URL', 'I-VULNAME', 'O', 'PROT', 'S-ACT', 'S-APT', 'S-DOM', 'S-EMAIL', 'S-ENCR', 'S-FILE', 'S-IDTY', 'S-IP', 'S-LOC', 'S-MAL', 'S-MD5', 'S-OS', 'S-PROT', 'S-S-SECTEAM', 'S-SECTEAM', 'S-SHA1', 'S-SHA2', 'S-TIME', 'S-TOOL', 'S-URL', 'S-VULID', 'S-VULNAME']\n",
      "Sample:\n",
      "   sentence_id   word     tag\n",
      "0            0   From       O\n",
      "1            0  April  B-TIME\n",
      "2            0  19-24  I-TIME\n",
      "3            0      ,  I-TIME\n",
      "4            0   2017  E-TIME\n"
     ]
    }
   ],
   "source": [
    "import pandas as pd\n",
    "\n",
    "def load_bio_file(file_path):\n",
    "    sentences = []\n",
    "    sentence = []\n",
    "\n",
    "    with open(file_path, 'r') as file:\n",
    "        for line in file:\n",
    "            line = line.strip()\n",
    "            if line == '':\n",
    "                if sentence:\n",
    "                    sentences.append(sentence)\n",
    "                    sentence = []\n",
    "                continue\n",
    "            parts = line.split()\n",
    "            if len(parts) == 2:\n",
    "                token, tag = parts\n",
    "                sentence.append((token, tag))\n",
    "\n",
    "    if sentence:\n",
    "        sentences.append(sentence)\n",
    "\n",
    "    return sentences\n",
    "\n",
    "def convert_to_dataframe(sentences):\n",
    "    data = {\n",
    "        \"sentence_id\": [],\n",
    "        \"word\": [],\n",
    "        \"tag\": []\n",
    "    }\n",
    "    for i, sentence in enumerate(sentences):\n",
    "        for token, tag in sentence:\n",
    "            data[\"sentence_id\"].append(i)\n",
    "            data[\"word\"].append(token)\n",
    "            data[\"tag\"].append(tag)\n",
    "    return pd.DataFrame(data)\n",
    "\n",
    "# 📌 Replace this with your actual file path\n",
    "file_path = \"APTNERtrain.txt\"\n",
    "\n",
    "# 🔧 Load and convert the BIO data\n",
    "sentences = load_bio_file(file_path)\n",
    "df = convert_to_dataframe(sentences)\n",
    "\n",
    "# ✅ Save to CSV for future use\n",
    "df.to_csv(\"ner_data_train.csv\", index=False)\n",
    "\n",
    "# ✅ Show entity tag types\n",
    "print(\"Unique Tags:\", sorted(df['tag'].unique()))\n",
    "print(\"Sample:\")\n",
    "print(df.head())"
   ]
  },
  {
   "cell_type": "code",
   "execution_count": 6,
   "metadata": {},
   "outputs": [
    {
     "name": "stdout",
     "output_type": "stream",
     "text": [
      "Unique Tags: ['B-ACT', 'B-APT', 'B-FILE', 'B-IDTY', 'B-LOC', 'B-MAL', 'B-OS', 'B-PROT', 'B-SECTEAM', 'B-TIME', 'B-TOOL', 'B-VULID', 'B-VULNAME', 'E-ACT', 'E-APT', 'E-FILE', 'E-IDTY', 'E-LOC', 'E-MAL', 'E-OS', 'E-PROT', 'E-SECTEAM', 'E-TIME', 'E-TOOL', 'E-VULID', 'E-VULNAME', 'I-ACT', 'I-APT', 'I-FILE', 'I-IDTY', 'I-LOC', 'I-MAL', 'I-OS', 'I-PROT', 'I-SECTEAM', 'I-TIME', 'I-TOOL', 'O', 'S-ACT', 'S-APT', 'S-DOM', 'S-EMAIL', 'S-ENCR', 'S-FILE', 'S-IDTY', 'S-IP', 'S-LOC', 'S-MAL', 'S-MD5', 'S-OS', 'S-PROT', 'S-SECTEAM', 'S-SHA2', 'S-TIME', 'S-TOOL', 'S-URL', 'S-VULID', 'S-VULNAME']\n",
      "Sample:\n",
      "   sentence_id         word tag\n",
      "0            0          One   O\n",
      "1            0  certificate   O\n",
      "2            0          was   O\n",
      "3            0    generated   O\n",
      "4            0      locally   O\n"
     ]
    }
   ],
   "source": [
    "file_path = \"APTNERtest.txt\"\n",
    "\n",
    "# 🔧 Load and convert the BIO data\n",
    "sentences = load_bio_file(file_path)\n",
    "df = convert_to_dataframe(sentences)\n",
    "\n",
    "# ✅ Save to CSV for future use\n",
    "df.to_csv(\"ner_data_test.csv\", index=False)\n",
    "\n",
    "# ✅ Show entity tag types\n",
    "print(\"Unique Tags:\", sorted(df['tag'].unique()))\n",
    "print(\"Sample:\")\n",
    "print(df.head())"
   ]
  },
  {
   "cell_type": "markdown",
   "metadata": {},
   "source": [
    "### MEMM"
   ]
  },
  {
   "cell_type": "code",
   "execution_count": 7,
   "metadata": {},
   "outputs": [],
   "source": [
    "import pandas as pd\n",
    "from sklearn.linear_model import LogisticRegression\n",
    "from sklearn.preprocessing import LabelEncoder\n",
    "from sklearn.metrics import classification_report\n",
    "from sklearn.feature_extraction import DictVectorizer\n",
    "from sklearn_crfsuite import CRF, metrics as crf_metrics\n",
    "import nltk\n",
    "from nltk.tag import hmm\n",
    "import warnings\n",
    "warnings.filterwarnings(\"ignore\")"
   ]
  },
  {
   "cell_type": "code",
   "execution_count": 18,
   "metadata": {},
   "outputs": [],
   "source": [
    "train_df = pd.read_csv(\"ner_data_train.csv\")\n",
    "test_df = pd.read_csv(\"ner_data_test.csv\")"
   ]
  },
  {
   "cell_type": "code",
   "execution_count": 19,
   "metadata": {},
   "outputs": [],
   "source": [
    "train_df.dropna(subset=[\"word\", \"tag\"], inplace=True)\n",
    "test_df.dropna(subset=[\"word\", \"tag\"], inplace=True)"
   ]
  },
  {
   "cell_type": "code",
   "execution_count": 20,
   "metadata": {},
   "outputs": [],
   "source": [
    "def word2features(sent, i):\n",
    "    word = str(sent[i][0]) if sent[i][0] is not None else \"\"\n",
    "\n",
    "    features = {\n",
    "        'word': word,\n",
    "        'is_upper': word.isupper(),\n",
    "        'is_title': word.istitle(),\n",
    "        'is_digit': word.isdigit()\n",
    "    }\n",
    "\n",
    "    # Previous word\n",
    "    if i > 0:\n",
    "        prev_word = str(sent[i - 1][0]) if sent[i - 1][0] is not None else \"\"\n",
    "        features.update({\n",
    "            '-1:word': prev_word,\n",
    "            '-1:is_title': prev_word.istitle()\n",
    "        })\n",
    "    else:\n",
    "        features['BOS'] = True\n",
    "\n",
    "    # Next word\n",
    "    if i < len(sent) - 1:\n",
    "        next_word = str(sent[i + 1][0]) if sent[i + 1][0] is not None else \"\"\n",
    "        features.update({\n",
    "            '+1:word': next_word,\n",
    "            '+1:is_title': next_word.istitle()\n",
    "        })\n",
    "    else:\n",
    "        features['EOS'] = True\n",
    "\n",
    "    return features\n",
    "\n",
    "def prepare_data(df):\n",
    "    grouped = df.groupby(\"sentence_id\").apply(lambda x: list(zip(x[\"word\"], x[\"tag\"])))\n",
    "    return list(grouped)\n",
    "\n",
    "def extract_features_labels(sentences):\n",
    "    X, y = [], []\n",
    "    for sent in sentences:\n",
    "        X.append([word2features(sent, i) for i in range(len(sent))])\n",
    "        y.append([tag for _, tag in sent])\n",
    "    return X, y"
   ]
  },
  {
   "cell_type": "code",
   "execution_count": 21,
   "metadata": {},
   "outputs": [],
   "source": [
    "train_sents = prepare_data(train_df)\n",
    "test_sents = prepare_data(test_df)\n",
    "X_train_feats, y_train = extract_features_labels(train_sents)\n",
    "X_test_feats, y_test = extract_features_labels(test_sents)"
   ]
  },
  {
   "cell_type": "code",
   "execution_count": 22,
   "metadata": {},
   "outputs": [
    {
     "name": "stdout",
     "output_type": "stream",
     "text": [
      "📌 MEMM Results:\n",
      "\n",
      "              precision    recall  f1-score   support\n",
      "\n",
      "       B-ACT       0.10      0.80      0.18        10\n",
      "       B-APT       0.15      0.67      0.24        12\n",
      "      B-FILE       0.00      0.00      0.00         6\n",
      "      B-IDTY       0.03      0.08      0.04        25\n",
      "       B-LOC       0.54      0.73      0.62        26\n",
      "       B-MAL       0.06      0.27      0.10        15\n",
      "        B-OS       0.00      0.00      0.00         4\n",
      "      B-PROT       0.00      0.00      0.00         2\n",
      "   B-SECTEAM       0.72      0.54      0.62        24\n",
      "      B-TIME       0.82      0.49      0.61       177\n",
      "      B-TOOL       0.50      0.09      0.15       135\n",
      "     B-VULID       0.00      0.00      0.00         3\n",
      "   B-VULNAME       0.00      0.00      0.00         1\n",
      "       E-ACT       0.05      0.25      0.08        12\n",
      "       E-APT       0.15      0.67      0.24        12\n",
      "      E-FILE       0.00      0.00      0.00         6\n",
      "      E-IDTY       0.04      0.12      0.05        25\n",
      "       E-LOC       0.58      0.73      0.64        26\n",
      "       E-MAL       0.03      0.13      0.05        15\n",
      "        E-OS       0.00      0.00      0.00         4\n",
      "      E-PROT       0.00      0.00      0.00         2\n",
      "   E-SECTEAM       0.82      0.58      0.68        24\n",
      "      E-TIME       0.86      0.68      0.76       176\n",
      "      E-TOOL       0.61      0.10      0.18       135\n",
      "     E-VULID       0.00      0.00      0.00         3\n",
      "   E-VULNAME       0.00      0.00      0.00         1\n",
      "       I-ACT       0.29      0.67      0.40         3\n",
      "       I-APT       0.00      0.00      0.00         3\n",
      "      I-FILE       0.00      0.00      0.00        29\n",
      "      I-IDTY       0.00      0.00      0.00        41\n",
      "       I-LOC       0.00      0.00      0.00         3\n",
      "       I-MAL       0.00      0.00      0.00         3\n",
      "        I-OS       0.00      0.00      0.00         1\n",
      "      I-PROT       0.00      0.00      0.00         2\n",
      "   I-SECTEAM       0.75      0.56      0.64        16\n",
      "      I-TIME       0.50      0.04      0.08       135\n",
      "      I-TOOL       0.44      0.09      0.15        44\n",
      "           O       0.95      0.98      0.96     34905\n",
      "       S-ACT       0.45      0.61      0.52        41\n",
      "       S-APT       0.85      0.69      0.76       466\n",
      "       S-DOM       0.00      0.00      0.00        43\n",
      "     S-EMAIL       0.00      0.00      0.00        23\n",
      "      S-ENCR       1.00      0.88      0.94        41\n",
      "      S-FILE       0.50      0.13      0.21        90\n",
      "      S-IDTY       0.36      0.30      0.33       101\n",
      "        S-IP       0.00      0.00      0.00        35\n",
      "       S-LOC       0.61      0.81      0.70       140\n",
      "       S-MAL       0.76      0.25      0.38       716\n",
      "       S-MD5       0.00      0.00      0.00        32\n",
      "        S-OS       0.86      0.77      0.81        31\n",
      "      S-PROT       0.77      0.32      0.45        85\n",
      "   S-SECTEAM       0.97      0.87      0.92       167\n",
      "      S-SHA2       0.09      0.11      0.10        27\n",
      "      S-TIME       0.66      0.65      0.66       100\n",
      "      S-TOOL       0.97      0.38      0.54       739\n",
      "       S-URL       0.00      0.00      0.00         8\n",
      "     S-VULID       0.44      0.63      0.52        30\n",
      "   S-VULNAME       0.14      0.62      0.23        13\n",
      "\n",
      "    accuracy                           0.92     38994\n",
      "   macro avg       0.32      0.30      0.27     38994\n",
      "weighted avg       0.92      0.92      0.91     38994\n",
      "\n"
     ]
    }
   ],
   "source": [
    "X_flat = [f for seq in X_train_feats for f in seq]\n",
    "y_flat = [t for seq in y_train for t in seq]\n",
    "X_test_flat = [f for seq in X_test_feats for f in seq]\n",
    "y_test_flat = [t for seq in y_test for t in seq]\n",
    "\n",
    "vec = DictVectorizer()\n",
    "X_train_vec = vec.fit_transform(X_flat)\n",
    "X_test_vec = vec.transform(X_test_flat)\n",
    "\n",
    "all_labels = y_flat + y_test_flat\n",
    "le = LabelEncoder()\n",
    "le.fit(all_labels)\n",
    "\n",
    "y_train_enc = le.transform(y_flat)\n",
    "y_test_enc = le.transform(y_test_flat)\n",
    "\n",
    "clf = LogisticRegression(max_iter=200)\n",
    "clf.fit(X_train_vec, y_train_enc)\n",
    "y_pred_enc = clf.predict(X_test_vec)\n",
    "y_pred = le.inverse_transform(y_pred_enc)\n",
    "\n",
    "print(\"📌 MEMM Results:\\n\")\n",
    "print(classification_report(y_test_flat, y_pred))"
   ]
  },
  {
   "cell_type": "markdown",
   "metadata": {},
   "source": [
    "### CRF Model"
   ]
  },
  {
   "cell_type": "code",
   "execution_count": 23,
   "metadata": {},
   "outputs": [
    {
     "name": "stdout",
     "output_type": "stream",
     "text": [
      "📌 CRF Results:\n",
      "\n",
      "              precision    recall  f1-score   support\n",
      "\n",
      "       B-ACT       0.12      0.80      0.21        10\n",
      "       B-APT       0.15      0.83      0.26        12\n",
      "      B-FILE       0.00      0.00      0.00         6\n",
      "      B-IDTY       0.03      0.12      0.05        25\n",
      "       B-LOC       0.55      0.69      0.61        26\n",
      "       B-MAL       0.04      0.20      0.07        15\n",
      "        B-OS       1.00      0.25      0.40         4\n",
      "      B-PROT       0.00      0.00      0.00         2\n",
      "   B-SECTEAM       0.74      0.58      0.65        24\n",
      "      B-TIME       0.80      0.58      0.68       177\n",
      "      B-TOOL       0.48      0.12      0.19       135\n",
      "     B-VULID       0.00      0.00      0.00         3\n",
      "   B-VULNAME       0.00      0.00      0.00         1\n",
      "       E-ACT       0.09      0.50      0.15        12\n",
      "       E-APT       0.12      0.67      0.21        12\n",
      "      E-FILE       0.00      0.00      0.00         6\n",
      "      E-IDTY       0.03      0.12      0.05        25\n",
      "       E-LOC       0.55      0.69      0.61        26\n",
      "       E-MAL       0.04      0.20      0.07        15\n",
      "        E-OS       1.00      0.25      0.40         4\n",
      "      E-PROT       0.00      0.00      0.00         2\n",
      "   E-SECTEAM       0.68      0.54      0.60        24\n",
      "      E-TIME       0.88      0.64      0.74       176\n",
      "      E-TOOL       0.45      0.11      0.18       135\n",
      "     E-VULID       0.00      0.00      0.00         3\n",
      "   E-VULNAME       0.00      0.00      0.00         1\n",
      "       I-ACT       0.11      0.33      0.17         3\n",
      "       I-APT       0.00      0.00      0.00         3\n",
      "      I-FILE       0.00      0.00      0.00        29\n",
      "      I-IDTY       0.00      0.00      0.00        41\n",
      "       I-LOC       0.00      0.00      0.00         3\n",
      "       I-MAL       0.00      0.00      0.00         3\n",
      "        I-OS       1.00      1.00      1.00         1\n",
      "      I-PROT       0.00      0.00      0.00         2\n",
      "   I-SECTEAM       0.55      0.69      0.61        16\n",
      "      I-TIME       0.70      0.14      0.23       135\n",
      "      I-TOOL       0.44      0.18      0.26        44\n",
      "           O       0.94      0.98      0.96     34905\n",
      "       S-ACT       0.76      0.63      0.69        41\n",
      "       S-APT       0.85      0.48      0.61       466\n",
      "       S-DOM       0.00      0.00      0.00        43\n",
      "     S-EMAIL       0.00      0.00      0.00        23\n",
      "      S-ENCR       1.00      0.29      0.45        41\n",
      "      S-FILE       0.27      0.04      0.08        90\n",
      "      S-IDTY       0.38      0.26      0.31       101\n",
      "        S-IP       0.00      0.00      0.00        35\n",
      "       S-LOC       0.53      0.76      0.63       140\n",
      "       S-MAL       0.68      0.13      0.22       716\n",
      "       S-MD5       0.00      0.00      0.00        32\n",
      "        S-OS       0.89      0.81      0.85        31\n",
      "      S-PROT       0.88      0.27      0.41        85\n",
      "   S-SECTEAM       0.99      0.80      0.88       167\n",
      "      S-SHA2       0.18      0.26      0.22        27\n",
      "      S-TIME       0.64      0.55      0.59       100\n",
      "      S-TOOL       0.92      0.36      0.52       739\n",
      "       S-URL       0.00      0.00      0.00         8\n",
      "     S-VULID       0.70      0.47      0.56        30\n",
      "   S-VULNAME       0.09      0.38      0.14        13\n",
      "\n",
      "    accuracy                           0.91     38994\n",
      "   macro avg       0.37      0.31      0.29     38994\n",
      "weighted avg       0.91      0.91      0.90     38994\n",
      "\n"
     ]
    }
   ],
   "source": [
    "crf = CRF(algorithm='lbfgs', max_iterations=100, all_possible_transitions=True)\n",
    "crf.fit(X_train_feats, y_train)\n",
    "y_pred_crf = crf.predict(X_test_feats)\n",
    "\n",
    "print(\"📌 CRF Results:\\n\")\n",
    "print(crf_metrics.flat_classification_report(y_test, y_pred_crf))"
   ]
  },
  {
   "cell_type": "code",
   "execution_count": 24,
   "metadata": {},
   "outputs": [
    {
     "name": "stdout",
     "output_type": "stream",
     "text": [
      "📌 HMM Results:\n",
      "\n",
      "              precision    recall  f1-score   support\n",
      "\n",
      "       B-ACT       0.05      0.50      0.10        10\n",
      "       B-APT       0.10      0.75      0.18        12\n",
      "     B-EMAIL       0.00      0.00      0.00         0\n",
      "      B-FILE       0.00      0.00      0.00         6\n",
      "      B-IDTY       0.04      0.16      0.06        25\n",
      "       B-LOC       0.39      0.58      0.47        26\n",
      "       B-MAL       0.00      0.00      0.00        15\n",
      "        B-OS       1.00      0.50      0.67         4\n",
      "      B-PROT       0.00      0.00      0.00         2\n",
      "   B-SECTEAM       0.63      0.50      0.56        24\n",
      "      B-TIME       0.78      0.38      0.52       177\n",
      "      B-TOOL       0.20      0.07      0.11       135\n",
      "     B-VULID       0.00      0.00      0.00         3\n",
      "   B-VULNAME       0.00      0.00      0.00         1\n",
      "       E-ACT       0.03      0.25      0.06        12\n",
      "       E-APT       0.10      0.75      0.18        12\n",
      "     E-EMAIL       0.00      0.00      0.00         0\n",
      "      E-FILE       0.00      0.00      0.00         6\n",
      "      E-IDTY       0.03      0.12      0.04        25\n",
      "       E-LOC       0.39      0.58      0.47        26\n",
      "       E-MAL       0.00      0.00      0.00        15\n",
      "        E-OS       1.00      0.50      0.67         4\n",
      "      E-PROT       0.00      0.00      0.00         2\n",
      "   E-SECTEAM       0.68      0.54      0.60        24\n",
      "      E-TIME       0.85      0.42      0.56       176\n",
      "      E-TOOL       0.19      0.07      0.10       135\n",
      "     E-VULID       0.00      0.00      0.00         3\n",
      "   E-VULNAME       0.00      0.00      0.00         1\n",
      "       I-ACT       0.06      0.67      0.11         3\n",
      "       I-APT       0.33      0.67      0.44         3\n",
      "      I-FILE       0.00      0.00      0.00        29\n",
      "      I-IDTY       0.03      0.02      0.03        41\n",
      "       I-LOC       0.00      0.00      0.00         3\n",
      "       I-MAL       0.00      0.00      0.00         3\n",
      "        I-OS       1.00      1.00      1.00         1\n",
      "      I-PROT       0.00      0.00      0.00         2\n",
      "   I-SECTEAM       0.80      0.50      0.62        16\n",
      "      I-TIME       0.59      0.20      0.30       135\n",
      "      I-TOOL       0.38      0.14      0.20        44\n",
      "           O       0.94      0.97      0.95     34905\n",
      "       S-ACT       0.73      0.54      0.62        41\n",
      "       S-APT       0.85      0.60      0.70       466\n",
      "       S-DOM       0.00      0.00      0.00        43\n",
      "     S-EMAIL       0.00      0.00      0.00        23\n",
      "      S-ENCR       1.00      0.24      0.39        41\n",
      "      S-FILE       0.56      0.11      0.19        90\n",
      "      S-IDTY       0.19      0.11      0.14       101\n",
      "        S-IP       0.00      0.00      0.00        35\n",
      "       S-LOC       0.71      0.55      0.62       140\n",
      "       S-MAL       0.85      0.47      0.60       716\n",
      "       S-MD5       0.00      0.00      0.00        32\n",
      "        S-OS       0.88      0.45      0.60        31\n",
      "      S-PROT       0.53      0.20      0.29        85\n",
      "   S-SECTEAM       0.94      0.72      0.82       167\n",
      "      S-SHA2       0.00      0.00      0.00        27\n",
      "      S-TIME       0.74      0.51      0.60       100\n",
      "      S-TOOL       0.88      0.22      0.35       739\n",
      "       S-URL       0.00      0.00      0.00         8\n",
      "     S-VULID       1.00      0.53      0.70        30\n",
      "   S-VULNAME       0.12      0.38      0.19        13\n",
      "\n",
      "    accuracy                           0.90     38994\n",
      "   macro avg       0.34      0.27      0.26     38994\n",
      "weighted avg       0.91      0.90      0.90     38994\n",
      "\n"
     ]
    }
   ],
   "source": [
    "train_data_hmm = [[(w, t) for w, t in sent] for sent in train_sents]\n",
    "test_data_hmm = [[w for w, t in sent] for sent in test_sents]\n",
    "test_tags_hmm = [[t for w, t in sent] for sent in test_sents]\n",
    "\n",
    "hmm_trainer = hmm.HiddenMarkovModelTrainer()\n",
    "hmm_model = hmm_trainer.train_supervised(train_data_hmm)\n",
    "\n",
    "hmm_pred = [hmm_model.tag(sent) for sent in test_data_hmm]\n",
    "y_pred_hmm = [[tag for _, tag in sent] for sent in hmm_pred]\n",
    "\n",
    "y_true = [t for seq in test_tags_hmm for t in seq]\n",
    "y_pred = [t for seq in y_pred_hmm for t in seq]\n",
    "\n",
    "print(\"📌 HMM Results:\\n\")\n",
    "print(classification_report(y_true, y_pred))"
   ]
  },
  {
   "cell_type": "code",
   "execution_count": 25,
   "metadata": {},
   "outputs": [
    {
     "data": {
      "text/plain": [
       "['memm_label_encoder.joblib']"
      ]
     },
     "execution_count": 25,
     "metadata": {},
     "output_type": "execute_result"
    }
   ],
   "source": [
    "import joblib\n",
    "\n",
    "# Save the MEMM model, vectorizer, and label encoder\n",
    "joblib.dump(clf, \"memm_model.joblib\")\n",
    "joblib.dump(vec, \"memm_vectorizer.joblib\")\n",
    "joblib.dump(le, \"memm_label_encoder.joblib\")"
   ]
  },
  {
   "cell_type": "code",
   "execution_count": 26,
   "metadata": {},
   "outputs": [],
   "source": [
    "import pickle\n",
    "\n",
    "with open(\"crf_model.pkl\", \"wb\") as f:\n",
    "    pickle.dump(crf, f)"
   ]
  },
  {
   "cell_type": "code",
   "execution_count": 30,
   "metadata": {},
   "outputs": [],
   "source": [
    "import dill\n",
    "\n",
    "with open(\"hmm_model.dill\", \"wb\") as f:\n",
    "    dill.dump(hmm_model, f)"
   ]
  },
  {
   "cell_type": "code",
   "execution_count": 32,
   "metadata": {},
   "outputs": [
    {
     "ename": "ValueError",
     "evalue": "too many values to unpack (expected 2)",
     "output_type": "error",
     "traceback": [
      "\u001b[0;31m---------------------------------------------------------------------------\u001b[0m",
      "\u001b[0;31mValueError\u001b[0m                                Traceback (most recent call last)",
      "Cell \u001b[0;32mIn[32], line 1\u001b[0m\n\u001b[0;32m----> 1\u001b[0m os_tokens \u001b[38;5;241m=\u001b[39m [word \u001b[38;5;28;01mfor\u001b[39;00m word, tag \u001b[38;5;129;01min\u001b[39;00m X_flat \u001b[38;5;28;01mif\u001b[39;00m \u001b[38;5;124m\"\u001b[39m\u001b[38;5;124mOS\u001b[39m\u001b[38;5;124m\"\u001b[39m \u001b[38;5;129;01min\u001b[39;00m tag]\n\u001b[1;32m      2\u001b[0m \u001b[38;5;28mprint\u001b[39m(\u001b[38;5;28mset\u001b[39m(os_tokens))\n",
      "\u001b[0;31mValueError\u001b[0m: too many values to unpack (expected 2)"
     ]
    }
   ],
   "source": [
    "os_tokens = [word for word, tag in X_flat if \"OS\" in tag]\n",
    "print(set(os_tokens))"
   ]
  },
  {
   "cell_type": "code",
   "execution_count": 33,
   "metadata": {},
   "outputs": [
    {
     "name": "stdout",
     "output_type": "stream",
     "text": [
      "OS-related tokens in training data: {'Win64', 'X', 'Linux-based', 'Creators', 'Xp/2003', 'Unix-based', 'Update', 'OSX', 'OS', 'operating', 'XP', 'Windows-based', 'macOS', '%ALLUSERSPROFILE%\\\\Windows', 'MS', 'Unix', 'Apple', 'MAC', 'Microsoft\\\\Windows', 'Mac', 'windows', 'The', 'HKLM\\\\SOFTWARE\\\\Microsoft\\\\Windows', 'SysWoW64', 'systems', 'Android', '’s', 'Win32', 'the', 'UNIX', 'MacOS', 'Unix-', 'Win', 'Linux', '10', 'Windows', 'Linux-'}\n"
     ]
    }
   ],
   "source": [
    "# If using HMM format like [[(word, tag), ...], ...]\n",
    "os_tokens = [word for sent in train_data_hmm for word, tag in sent if \"OS\" in tag]\n",
    "print(\"OS-related tokens in training data:\", set(os_tokens))"
   ]
  },
  {
   "cell_type": "code",
   "execution_count": 1,
   "metadata": {},
   "outputs": [
    {
     "name": "stdout",
     "output_type": "stream",
     "text": [
      "Total CVEs to fetch: 291403\n"
     ]
    },
    {
     "name": "stderr",
     "output_type": "stream",
     "text": [
      "Downloading CVEs: 100%|██████████| 291403/291403 [09:42<00:00, 500.53it/s]\n"
     ]
    },
    {
     "name": "stdout",
     "output_type": "stream",
     "text": [
      "✅ Saved cleaned CVE data to: nvd_cve_cleaned.csv\n"
     ]
    }
   ],
   "source": [
    "import requests\n",
    "import pandas as pd\n",
    "from tqdm import tqdm\n",
    "import time\n",
    "\n",
    "def fetch_cve_data_with_apikey(api_key):\n",
    "    base_url = \"https://services.nvd.nist.gov/rest/json/cves/2.0\"\n",
    "    results_per_page = 2000\n",
    "    start_index = 0\n",
    "    all_cve_items = []\n",
    "\n",
    "    headers = {\n",
    "        \"apiKey\": api_key\n",
    "    }\n",
    "\n",
    "    # Initial request to get totalResults\n",
    "    params = {\n",
    "        \"resultsPerPage\": results_per_page,\n",
    "        \"startIndex\": start_index\n",
    "    }\n",
    "\n",
    "    response = requests.get(base_url, headers=headers, params=params)\n",
    "    if response.status_code != 200:\n",
    "        raise Exception(f\"Initial request failed with code {response.status_code}\")\n",
    "    \n",
    "    total = response.json().get(\"totalResults\", 0)\n",
    "    print(f\"Total CVEs to fetch: {total}\")\n",
    "\n",
    "    with tqdm(total=total, desc=\"Downloading CVEs\") as pbar:\n",
    "        while start_index < total:\n",
    "            params[\"startIndex\"] = start_index\n",
    "            resp = requests.get(base_url, headers=headers, params=params)\n",
    "\n",
    "            # Handle throttling\n",
    "            if resp.status_code == 429:\n",
    "                print(\"Rate limit hit. Sleeping for 10 seconds...\")\n",
    "                time.sleep(10)\n",
    "                continue\n",
    "            elif resp.status_code != 200:\n",
    "                print(f\"[ERROR] Failed at index {start_index}, status {resp.status_code}\")\n",
    "                break\n",
    "\n",
    "            data = resp.json()\n",
    "            vulns = data.get(\"vulnerabilities\", [])\n",
    "\n",
    "            for item in vulns:\n",
    "                cve = item.get(\"cve\", {})\n",
    "                cve_id = cve.get(\"id\", \"\")\n",
    "                source = cve.get(\"sourceIdentifier\", \"\")\n",
    "                published = cve.get(\"published\", \"\")\n",
    "                modified = cve.get(\"lastModified\", \"\")\n",
    "                status = cve.get(\"vulnStatus\", \"\")\n",
    "                \n",
    "                # Extract only English description\n",
    "                descs = cve.get(\"descriptions\", [])\n",
    "                desc_en = next((d[\"value\"] for d in descs if d[\"lang\"] == \"en\"), \"\")\n",
    "                \n",
    "                # CVSS data\n",
    "                metrics = cve.get(\"metrics\", {})\n",
    "                cvss_version, vectorString, baseScore, severity = None, None, None, None\n",
    "\n",
    "                if \"cvssMetricV31\" in metrics:\n",
    "                    cvss = metrics[\"cvssMetricV31\"][0][\"cvssData\"]\n",
    "                    cvss_version = \"3.1\"\n",
    "                elif \"cvssMetricV30\" in metrics:\n",
    "                    cvss = metrics[\"cvssMetricV30\"][0][\"cvssData\"]\n",
    "                    cvss_version = \"3.0\"\n",
    "                elif \"cvssMetricV2\" in metrics:\n",
    "                    cvss = metrics[\"cvssMetricV2\"][0][\"cvssData\"]\n",
    "                    cvss_version = \"2.0\"\n",
    "                else:\n",
    "                    cvss = {}\n",
    "\n",
    "                vectorString = cvss.get(\"vectorString\", None)\n",
    "                baseScore = cvss.get(\"baseScore\", None)\n",
    "                severity = cvss.get(\"baseSeverity\", None)\n",
    "\n",
    "                all_cve_items.append({\n",
    "                    \"cve_id\": cve_id,\n",
    "                    \"sourceIdentifier\": source,\n",
    "                    \"published\": published,\n",
    "                    \"lastModified\": modified,\n",
    "                    \"vulnStatus\": status,\n",
    "                    \"description_en\": desc_en,\n",
    "                    \"cvss_version\": cvss_version,\n",
    "                    \"vectorString\": vectorString,\n",
    "                    \"baseScore\": baseScore,\n",
    "                    \"baseSeverity\": severity\n",
    "                })\n",
    "\n",
    "            fetched = len(vulns)\n",
    "            start_index += fetched\n",
    "            pbar.update(fetched)\n",
    "\n",
    "            # Optional short sleep (uncomment if needed)\n",
    "            # time.sleep(0.1)\n",
    "\n",
    "    return pd.DataFrame(all_cve_items)\n",
    "\n",
    "# ✅ Fetch and save using your API key\n",
    "api_key = \"6f6060da-7e55-441c-b207-5878960b23e8\"\n",
    "df = fetch_cve_data_with_apikey(api_key)\n",
    "df.to_csv(\"nvd_cve_cleaned.csv\", index=False)\n",
    "print(\"✅ Saved cleaned CVE data to: nvd_cve_cleaned.csv\")"
   ]
  },
  {
   "cell_type": "code",
   "execution_count": 2,
   "metadata": {},
   "outputs": [
    {
     "name": "stdout",
     "output_type": "stream",
     "text": [
      "[INFO] Loading NER model...\n"
     ]
    },
    {
     "data": {
      "application/vnd.jupyter.widget-view+json": {
       "model_id": "dce55978a3c4439bb4e25f3841858105",
       "version_major": 2,
       "version_minor": 0
      },
      "text/plain": [
       "config.json:   0%|          | 0.00/849 [00:00<?, ?B/s]"
      ]
     },
     "metadata": {},
     "output_type": "display_data"
    },
    {
     "data": {
      "application/vnd.jupyter.widget-view+json": {
       "model_id": "3bfcfcb4e6f548769770925f2f78433a",
       "version_major": 2,
       "version_minor": 0
      },
      "text/plain": [
       "model.safetensors:   0%|          | 0.00/1.42G [00:00<?, ?B/s]"
      ]
     },
     "metadata": {},
     "output_type": "display_data"
    },
    {
     "data": {
      "application/vnd.jupyter.widget-view+json": {
       "model_id": "748234c2c88c45ad9a5789cc302e5af3",
       "version_major": 2,
       "version_minor": 0
      },
      "text/plain": [
       "tokenizer_config.json:   0%|          | 0.00/255 [00:00<?, ?B/s]"
      ]
     },
     "metadata": {},
     "output_type": "display_data"
    },
    {
     "data": {
      "application/vnd.jupyter.widget-view+json": {
       "model_id": "0bf8183535e944089c9ce06d295bd1c1",
       "version_major": 2,
       "version_minor": 0
      },
      "text/plain": [
       "vocab.json:   0%|          | 0.00/798k [00:00<?, ?B/s]"
      ]
     },
     "metadata": {},
     "output_type": "display_data"
    },
    {
     "data": {
      "application/vnd.jupyter.widget-view+json": {
       "model_id": "6d9be4ad4a2c4e2ca92cffd992943a80",
       "version_major": 2,
       "version_minor": 0
      },
      "text/plain": [
       "merges.txt:   0%|          | 0.00/456k [00:00<?, ?B/s]"
      ]
     },
     "metadata": {},
     "output_type": "display_data"
    },
    {
     "data": {
      "application/vnd.jupyter.widget-view+json": {
       "model_id": "b66a335a173449d38fcb075cf8cedb41",
       "version_major": 2,
       "version_minor": 0
      },
      "text/plain": [
       "special_tokens_map.json:   0%|          | 0.00/239 [00:00<?, ?B/s]"
      ]
     },
     "metadata": {},
     "output_type": "display_data"
    },
    {
     "name": "stderr",
     "output_type": "stream",
     "text": [
      "Device set to use mps:0\n"
     ]
    },
    {
     "name": "stdout",
     "output_type": "stream",
     "text": [
      "[INFO] Model loaded.\n"
     ]
    },
    {
     "name": "stderr",
     "output_type": "stream",
     "text": [
      "/Library/Frameworks/Python.framework/Versions/3.13/lib/python3.13/site-packages/transformers/pipelines/token_classification.py:170: UserWarning: `grouped_entities` is deprecated and will be removed in version v5.0.0, defaulted to `aggregation_strategy=\"AggregationStrategy.SIMPLE\"` instead.\n",
      "  warnings.warn(\n"
     ]
    }
   ],
   "source": [
    "import pandas as pd\n",
    "import time\n",
    "import re\n",
    "import os\n",
    "from tqdm import tqdm\n",
    "from concurrent.futures import ThreadPoolExecutor, as_completed\n",
    "from transformers import pipeline\n",
    "\n",
    "# ------------------------- CONFIGURATION -------------------------\n",
    "ENTITY_FIELDS = [\n",
    "    \"CVE_ID\", \"Vendor\", \"Product\", \"Version\", \"Operating_System\", \"Hardware\",\n",
    "    \"Vulnerability_Type\", \"Attack_Vector\", \"Privileges_Required\",\n",
    "    \"User_Interaction\", \"Exploit_Availability\", \"Impact\",\n",
    "    \"Confidentiality_Impact\", \"Integrity_Impact\", \"Availability_Impact\",\n",
    "    \"Authentication\"\n",
    "]\n",
    "MODEL_NAME = \"Jean-Baptiste/roberta-large-ner-english\"\n",
    "CHUNK_SIZE = 500\n",
    "BATCH_WORKERS = 4\n",
    "# -----------------------------------------------------------------\n",
    "\n",
    "# Load the Hugging Face pipeline\n",
    "print(\"[INFO] Loading NER model...\")\n",
    "ner_pipeline = pipeline(\"ner\", model=MODEL_NAME, grouped_entities=True)\n",
    "print(\"[INFO] Model loaded.\")\n",
    "\n",
    "\n",
    "def process_description(description):\n",
    "    if not isinstance(description, str) or len(description.strip()) == 0:\n",
    "        return {}\n",
    "\n",
    "    try:\n",
    "        entities = ner_pipeline(description)\n",
    "        formatted = {field: [] for field in ENTITY_FIELDS}\n",
    "\n",
    "        for entity in entities:\n",
    "            word = entity[\"word\"]\n",
    "            label = entity[\"entity_group\"]\n",
    "\n",
    "            # Heuristic mapping (customize as needed)\n",
    "            if \"ORG\" in label or \"MISC\" in label:\n",
    "                formatted[\"Vendor\"].append(word)\n",
    "            elif \"PER\" in label:\n",
    "                formatted[\"User_Interaction\"].append(word)\n",
    "            elif \"LOC\" in label:\n",
    "                formatted[\"Attack_Vector\"].append(word)\n",
    "            else:\n",
    "                formatted[\"Vulnerability_Type\"].append(word)\n",
    "\n",
    "        return {k: \", \".join(v) if v else \"null\" for k, v in formatted.items()}\n",
    "\n",
    "    except Exception as e:\n",
    "        print(f\"[ERROR] NER failed: {e}\")\n",
    "        return {\"error\": str(e)}\n",
    "\n",
    "\n",
    "def threaded_batch_process(df_chunk, max_workers=BATCH_WORKERS):\n",
    "    results = [None] * len(df_chunk)\n",
    "\n",
    "    def task(i, desc):\n",
    "        return i, process_description(desc)\n",
    "\n",
    "    with ThreadPoolExecutor(max_workers=max_workers) as executor:\n",
    "        futures = [executor.submit(task, i, desc) for i, desc in enumerate(df_chunk[\"description_en\"])]\n",
    "        for future in tqdm(as_completed(futures), total=len(futures), desc=\"Batch\"):\n",
    "            try:\n",
    "                i, result = future.result()\n",
    "                results[i] = result\n",
    "                time.sleep(0.05)\n",
    "            except Exception as e:\n",
    "                print(\"[ERROR] Thread failed:\", e)\n",
    "                results[i] = {\"error\": str(e)}\n",
    "    return results\n",
    "\n",
    "\n",
    "def expand_results(df):\n",
    "    for field in ENTITY_FIELDS:\n",
    "        df[field] = df[\"cybersec_entities\"].apply(\n",
    "            lambda x: x.get(field, \"\") if isinstance(x, dict) else \"\")\n",
    "    return df\n",
    "\n",
    "\n",
    "def run_pipeline(input_csv_path, output_csv_path, resume=False):\n",
    "    df = pd.read_csv(input_csv_path)\n",
    "\n",
    "    if resume and os.path.exists(output_csv_path):\n",
    "        print(f\"[INFO] Resuming from {output_csv_path}\")\n",
    "        df_out = pd.read_csv(output_csv_path)\n",
    "    else:\n",
    "        df_out = df.copy()\n",
    "        df_out[\"cybersec_entities\"] = [{} for _ in range(len(df))]\n",
    "\n",
    "    start_idx = len(df_out[df_out[\"cybersec_entities\"].apply(lambda x: isinstance(x, dict) and bool(x))])\n",
    "\n",
    "    for i in range(len(df) - CHUNK_SIZE, -1, -CHUNK_SIZE):\n",
    "        if i < start_idx:\n",
    "            continue\n",
    "\n",
    "        print(f\"[INFO] Processing chunk {i} to {i + CHUNK_SIZE}\")\n",
    "        chunk = df.iloc[i:i + CHUNK_SIZE]\n",
    "        result_chunk = threaded_batch_process(chunk)\n",
    "\n",
    "        df_out.loc[i:i + CHUNK_SIZE - 1, \"cybersec_entities\"] = result_chunk\n",
    "        df_out = expand_results(df_out)\n",
    "\n",
    "        df_out.to_csv(output_csv_path, index=False)\n",
    "        print(f\"[INFO] Saved progress up to row {i + CHUNK_SIZE}\")\n",
    "\n",
    "    print(f\"[DONE] All records processed and saved to {output_csv_path}\")\n",
    "    return df_out"
   ]
  },
  {
   "cell_type": "code",
   "execution_count": 4,
   "metadata": {},
   "outputs": [
    {
     "name": "stdout",
     "output_type": "stream",
     "text": [
      "[INFO] Processing chunk 290903 to 291403\n"
     ]
    },
    {
     "name": "stderr",
     "output_type": "stream",
     "text": [
      "Batch: 100%|██████████| 500/500 [00:32<00:00, 15.59it/s]\n"
     ]
    },
    {
     "name": "stdout",
     "output_type": "stream",
     "text": [
      "[INFO] Saved progress up to row 291403\n",
      "[INFO] Processing chunk 290403 to 290903\n"
     ]
    },
    {
     "name": "stderr",
     "output_type": "stream",
     "text": [
      "Batch: 100%|██████████| 500/500 [00:27<00:00, 18.06it/s]\n"
     ]
    },
    {
     "name": "stdout",
     "output_type": "stream",
     "text": [
      "[INFO] Saved progress up to row 290903\n",
      "[INFO] Processing chunk 289903 to 290403\n"
     ]
    },
    {
     "name": "stderr",
     "output_type": "stream",
     "text": [
      "Batch: 100%|██████████| 500/500 [00:36<00:00, 13.85it/s]\n"
     ]
    },
    {
     "name": "stdout",
     "output_type": "stream",
     "text": [
      "[INFO] Saved progress up to row 290403\n",
      "[INFO] Processing chunk 289403 to 289903\n"
     ]
    },
    {
     "name": "stderr",
     "output_type": "stream",
     "text": [
      "Batch: 100%|██████████| 500/500 [00:29<00:00, 16.86it/s]\n"
     ]
    },
    {
     "name": "stdout",
     "output_type": "stream",
     "text": [
      "[INFO] Saved progress up to row 289903\n",
      "[INFO] Processing chunk 288903 to 289403\n"
     ]
    },
    {
     "name": "stderr",
     "output_type": "stream",
     "text": [
      "Batch: 100%|██████████| 500/500 [00:28<00:00, 17.65it/s]\n"
     ]
    },
    {
     "name": "stdout",
     "output_type": "stream",
     "text": [
      "[INFO] Saved progress up to row 289403\n",
      "[INFO] Processing chunk 288403 to 288903\n"
     ]
    },
    {
     "name": "stderr",
     "output_type": "stream",
     "text": [
      "Batch: 100%|██████████| 500/500 [00:32<00:00, 15.19it/s]\n"
     ]
    },
    {
     "name": "stdout",
     "output_type": "stream",
     "text": [
      "[INFO] Saved progress up to row 288903\n",
      "[INFO] Processing chunk 287903 to 288403\n"
     ]
    },
    {
     "name": "stderr",
     "output_type": "stream",
     "text": [
      "Batch: 100%|██████████| 500/500 [00:44<00:00, 11.16it/s]\n"
     ]
    },
    {
     "name": "stdout",
     "output_type": "stream",
     "text": [
      "[INFO] Saved progress up to row 288403\n",
      "[INFO] Processing chunk 287403 to 287903\n"
     ]
    },
    {
     "name": "stderr",
     "output_type": "stream",
     "text": [
      "Batch: 100%|██████████| 500/500 [00:28<00:00, 17.26it/s]\n"
     ]
    },
    {
     "name": "stdout",
     "output_type": "stream",
     "text": [
      "[INFO] Saved progress up to row 287903\n",
      "[INFO] Processing chunk 286903 to 287403\n"
     ]
    },
    {
     "name": "stderr",
     "output_type": "stream",
     "text": [
      "Batch: 100%|██████████| 500/500 [00:45<00:00, 11.01it/s]\n"
     ]
    },
    {
     "name": "stdout",
     "output_type": "stream",
     "text": [
      "[INFO] Saved progress up to row 287403\n",
      "[INFO] Processing chunk 286403 to 286903\n"
     ]
    },
    {
     "name": "stderr",
     "output_type": "stream",
     "text": [
      "Batch: 100%|██████████| 500/500 [00:34<00:00, 14.45it/s]\n"
     ]
    },
    {
     "name": "stdout",
     "output_type": "stream",
     "text": [
      "[INFO] Saved progress up to row 286903\n",
      "[INFO] Processing chunk 285903 to 286403\n"
     ]
    },
    {
     "name": "stderr",
     "output_type": "stream",
     "text": [
      "Batch: 100%|██████████| 500/500 [00:34<00:00, 14.50it/s]\n"
     ]
    },
    {
     "name": "stdout",
     "output_type": "stream",
     "text": [
      "[INFO] Saved progress up to row 286403\n",
      "[INFO] Processing chunk 285403 to 285903\n"
     ]
    },
    {
     "name": "stderr",
     "output_type": "stream",
     "text": [
      "Batch: 100%|██████████| 500/500 [00:39<00:00, 12.64it/s]\n"
     ]
    },
    {
     "name": "stdout",
     "output_type": "stream",
     "text": [
      "[INFO] Saved progress up to row 285903\n",
      "[INFO] Processing chunk 284903 to 285403\n"
     ]
    },
    {
     "name": "stderr",
     "output_type": "stream",
     "text": [
      "Batch: 100%|██████████| 500/500 [00:39<00:00, 12.63it/s]\n"
     ]
    },
    {
     "name": "stdout",
     "output_type": "stream",
     "text": [
      "[INFO] Saved progress up to row 285403\n",
      "[INFO] Processing chunk 284403 to 284903\n"
     ]
    },
    {
     "name": "stderr",
     "output_type": "stream",
     "text": [
      "Batch: 100%|██████████| 500/500 [00:40<00:00, 12.29it/s]\n"
     ]
    },
    {
     "name": "stdout",
     "output_type": "stream",
     "text": [
      "[INFO] Saved progress up to row 284903\n",
      "[INFO] Processing chunk 283903 to 284403\n"
     ]
    },
    {
     "name": "stderr",
     "output_type": "stream",
     "text": [
      "Batch: 100%|██████████| 500/500 [00:35<00:00, 14.01it/s]\n"
     ]
    },
    {
     "name": "stdout",
     "output_type": "stream",
     "text": [
      "[INFO] Saved progress up to row 284403\n",
      "[INFO] Processing chunk 283403 to 283903\n"
     ]
    },
    {
     "name": "stderr",
     "output_type": "stream",
     "text": [
      "Batch: 100%|██████████| 500/500 [00:35<00:00, 14.24it/s]\n"
     ]
    },
    {
     "name": "stdout",
     "output_type": "stream",
     "text": [
      "[INFO] Saved progress up to row 283903\n",
      "[INFO] Processing chunk 282903 to 283403\n"
     ]
    },
    {
     "name": "stderr",
     "output_type": "stream",
     "text": [
      "Batch: 100%|██████████| 500/500 [01:17<00:00,  6.42it/s]\n"
     ]
    },
    {
     "name": "stdout",
     "output_type": "stream",
     "text": [
      "[INFO] Saved progress up to row 283403\n",
      "[INFO] Processing chunk 282403 to 282903\n"
     ]
    },
    {
     "name": "stderr",
     "output_type": "stream",
     "text": [
      "Batch: 100%|██████████| 500/500 [01:28<00:00,  5.65it/s]\n"
     ]
    },
    {
     "name": "stdout",
     "output_type": "stream",
     "text": [
      "[INFO] Saved progress up to row 282903\n",
      "[INFO] Processing chunk 281903 to 282403\n"
     ]
    },
    {
     "name": "stderr",
     "output_type": "stream",
     "text": [
      "Batch: 100%|██████████| 500/500 [00:38<00:00, 13.00it/s]\n"
     ]
    },
    {
     "name": "stdout",
     "output_type": "stream",
     "text": [
      "[INFO] Saved progress up to row 282403\n",
      "[INFO] Processing chunk 281403 to 281903\n"
     ]
    },
    {
     "name": "stderr",
     "output_type": "stream",
     "text": [
      "Batch: 100%|██████████| 500/500 [00:48<00:00, 10.34it/s]\n"
     ]
    },
    {
     "name": "stdout",
     "output_type": "stream",
     "text": [
      "[INFO] Saved progress up to row 281903\n",
      "[INFO] Processing chunk 280903 to 281403\n"
     ]
    },
    {
     "name": "stderr",
     "output_type": "stream",
     "text": [
      "Batch: 100%|██████████| 500/500 [00:36<00:00, 13.83it/s]\n"
     ]
    },
    {
     "name": "stdout",
     "output_type": "stream",
     "text": [
      "[INFO] Saved progress up to row 281403\n",
      "[INFO] Processing chunk 280403 to 280903\n"
     ]
    },
    {
     "name": "stderr",
     "output_type": "stream",
     "text": [
      "Batch: 100%|██████████| 500/500 [00:35<00:00, 14.00it/s]\n"
     ]
    },
    {
     "name": "stdout",
     "output_type": "stream",
     "text": [
      "[INFO] Saved progress up to row 280903\n",
      "[INFO] Processing chunk 279903 to 280403\n"
     ]
    },
    {
     "name": "stderr",
     "output_type": "stream",
     "text": [
      "Batch: 100%|██████████| 500/500 [00:33<00:00, 14.76it/s]\n"
     ]
    },
    {
     "name": "stdout",
     "output_type": "stream",
     "text": [
      "[INFO] Saved progress up to row 280403\n",
      "[INFO] Processing chunk 279403 to 279903\n"
     ]
    },
    {
     "name": "stderr",
     "output_type": "stream",
     "text": [
      "Batch: 100%|██████████| 500/500 [00:38<00:00, 12.84it/s]\n"
     ]
    },
    {
     "name": "stdout",
     "output_type": "stream",
     "text": [
      "[INFO] Saved progress up to row 279903\n",
      "[INFO] Processing chunk 278903 to 279403\n"
     ]
    },
    {
     "name": "stderr",
     "output_type": "stream",
     "text": [
      "Batch: 100%|██████████| 500/500 [00:38<00:00, 13.12it/s]\n"
     ]
    },
    {
     "name": "stdout",
     "output_type": "stream",
     "text": [
      "[INFO] Saved progress up to row 279403\n",
      "[INFO] Processing chunk 278403 to 278903\n"
     ]
    },
    {
     "name": "stderr",
     "output_type": "stream",
     "text": [
      "Batch: 100%|██████████| 500/500 [00:40<00:00, 12.43it/s]\n"
     ]
    },
    {
     "name": "stdout",
     "output_type": "stream",
     "text": [
      "[INFO] Saved progress up to row 278903\n",
      "[INFO] Processing chunk 277903 to 278403\n"
     ]
    },
    {
     "name": "stderr",
     "output_type": "stream",
     "text": [
      "Batch: 100%|██████████| 500/500 [00:49<00:00, 10.05it/s]\n"
     ]
    },
    {
     "name": "stdout",
     "output_type": "stream",
     "text": [
      "[INFO] Saved progress up to row 278403\n",
      "[INFO] Processing chunk 277403 to 277903\n"
     ]
    },
    {
     "name": "stderr",
     "output_type": "stream",
     "text": [
      "Batch: 100%|██████████| 500/500 [00:41<00:00, 12.03it/s]\n"
     ]
    },
    {
     "name": "stdout",
     "output_type": "stream",
     "text": [
      "[INFO] Saved progress up to row 277903\n",
      "[INFO] Processing chunk 276903 to 277403\n"
     ]
    },
    {
     "name": "stderr",
     "output_type": "stream",
     "text": [
      "Batch: 100%|██████████| 500/500 [00:34<00:00, 14.37it/s]\n"
     ]
    },
    {
     "name": "stdout",
     "output_type": "stream",
     "text": [
      "[INFO] Saved progress up to row 277403\n",
      "[INFO] Processing chunk 276403 to 276903\n"
     ]
    },
    {
     "name": "stderr",
     "output_type": "stream",
     "text": [
      "Batch: 100%|██████████| 500/500 [00:47<00:00, 10.61it/s]\n"
     ]
    },
    {
     "name": "stdout",
     "output_type": "stream",
     "text": [
      "[INFO] Saved progress up to row 276903\n",
      "[INFO] Processing chunk 275903 to 276403\n"
     ]
    },
    {
     "name": "stderr",
     "output_type": "stream",
     "text": [
      "Batch: 100%|██████████| 500/500 [00:37<00:00, 13.39it/s]\n"
     ]
    },
    {
     "name": "stdout",
     "output_type": "stream",
     "text": [
      "[INFO] Saved progress up to row 276403\n",
      "[INFO] Processing chunk 275403 to 275903\n"
     ]
    },
    {
     "name": "stderr",
     "output_type": "stream",
     "text": [
      "Batch: 100%|██████████| 500/500 [00:38<00:00, 12.99it/s]\n"
     ]
    },
    {
     "name": "stdout",
     "output_type": "stream",
     "text": [
      "[INFO] Saved progress up to row 275903\n",
      "[INFO] Processing chunk 274903 to 275403\n"
     ]
    },
    {
     "name": "stderr",
     "output_type": "stream",
     "text": [
      "Batch: 100%|██████████| 500/500 [00:58<00:00,  8.57it/s]\n"
     ]
    },
    {
     "name": "stdout",
     "output_type": "stream",
     "text": [
      "[INFO] Saved progress up to row 275403\n",
      "[INFO] Processing chunk 274403 to 274903\n"
     ]
    },
    {
     "name": "stderr",
     "output_type": "stream",
     "text": [
      "Batch: 100%|██████████| 500/500 [01:01<00:00,  8.18it/s]\n"
     ]
    },
    {
     "name": "stdout",
     "output_type": "stream",
     "text": [
      "[INFO] Saved progress up to row 274903\n",
      "[INFO] Processing chunk 273903 to 274403\n"
     ]
    },
    {
     "name": "stderr",
     "output_type": "stream",
     "text": [
      "Batch: 100%|██████████| 500/500 [00:35<00:00, 13.99it/s]\n"
     ]
    },
    {
     "name": "stdout",
     "output_type": "stream",
     "text": [
      "[INFO] Saved progress up to row 274403\n",
      "[INFO] Processing chunk 273403 to 273903\n"
     ]
    },
    {
     "name": "stderr",
     "output_type": "stream",
     "text": [
      "Batch: 100%|██████████| 500/500 [00:34<00:00, 14.58it/s]\n"
     ]
    },
    {
     "name": "stdout",
     "output_type": "stream",
     "text": [
      "[INFO] Saved progress up to row 273903\n",
      "[INFO] Processing chunk 272903 to 273403\n"
     ]
    },
    {
     "name": "stderr",
     "output_type": "stream",
     "text": [
      "Batch: 100%|██████████| 500/500 [00:39<00:00, 12.63it/s]\n"
     ]
    },
    {
     "name": "stdout",
     "output_type": "stream",
     "text": [
      "[INFO] Saved progress up to row 273403\n",
      "[INFO] Processing chunk 272403 to 272903\n"
     ]
    },
    {
     "name": "stderr",
     "output_type": "stream",
     "text": [
      "Batch: 100%|██████████| 500/500 [09:16<00:00,  1.11s/it]  \n"
     ]
    },
    {
     "name": "stdout",
     "output_type": "stream",
     "text": [
      "[INFO] Saved progress up to row 272903\n",
      "[INFO] Processing chunk 271903 to 272403\n"
     ]
    },
    {
     "name": "stderr",
     "output_type": "stream",
     "text": [
      "Batch: 100%|██████████| 500/500 [00:28<00:00, 17.72it/s]\n"
     ]
    },
    {
     "name": "stdout",
     "output_type": "stream",
     "text": [
      "[INFO] Saved progress up to row 272403\n",
      "[INFO] Processing chunk 271403 to 271903\n"
     ]
    },
    {
     "name": "stderr",
     "output_type": "stream",
     "text": [
      "Batch: 100%|██████████| 500/500 [00:28<00:00, 17.83it/s]\n"
     ]
    },
    {
     "name": "stdout",
     "output_type": "stream",
     "text": [
      "[INFO] Saved progress up to row 271903\n",
      "[INFO] Processing chunk 270903 to 271403\n"
     ]
    },
    {
     "name": "stderr",
     "output_type": "stream",
     "text": [
      "Batch: 100%|██████████| 500/500 [00:27<00:00, 18.30it/s]\n"
     ]
    },
    {
     "name": "stdout",
     "output_type": "stream",
     "text": [
      "[INFO] Saved progress up to row 271403\n",
      "[INFO] Processing chunk 270403 to 270903\n"
     ]
    },
    {
     "name": "stderr",
     "output_type": "stream",
     "text": [
      "Batch: 100%|██████████| 500/500 [00:27<00:00, 18.13it/s]\n"
     ]
    },
    {
     "name": "stdout",
     "output_type": "stream",
     "text": [
      "[INFO] Saved progress up to row 270903\n",
      "[INFO] Processing chunk 269903 to 270403\n"
     ]
    },
    {
     "name": "stderr",
     "output_type": "stream",
     "text": [
      "Batch: 100%|██████████| 500/500 [00:42<00:00, 11.83it/s]\n"
     ]
    },
    {
     "name": "stdout",
     "output_type": "stream",
     "text": [
      "[INFO] Saved progress up to row 270403\n",
      "[INFO] Processing chunk 269403 to 269903\n"
     ]
    },
    {
     "name": "stderr",
     "output_type": "stream",
     "text": [
      "Batch: 100%|██████████| 500/500 [00:34<00:00, 14.36it/s]\n"
     ]
    },
    {
     "name": "stdout",
     "output_type": "stream",
     "text": [
      "[INFO] Saved progress up to row 269903\n",
      "[INFO] Processing chunk 268903 to 269403\n"
     ]
    },
    {
     "name": "stderr",
     "output_type": "stream",
     "text": [
      "Batch: 100%|██████████| 500/500 [00:31<00:00, 15.83it/s]\n"
     ]
    },
    {
     "name": "stdout",
     "output_type": "stream",
     "text": [
      "[INFO] Saved progress up to row 269403\n",
      "[INFO] Processing chunk 268403 to 268903\n"
     ]
    },
    {
     "name": "stderr",
     "output_type": "stream",
     "text": [
      "Batch: 100%|██████████| 500/500 [00:47<00:00, 10.42it/s]\n"
     ]
    },
    {
     "name": "stdout",
     "output_type": "stream",
     "text": [
      "[INFO] Saved progress up to row 268903\n",
      "[INFO] Processing chunk 267903 to 268403\n"
     ]
    },
    {
     "name": "stderr",
     "output_type": "stream",
     "text": [
      "Batch: 100%|██████████| 500/500 [00:43<00:00, 11.61it/s]\n"
     ]
    },
    {
     "name": "stdout",
     "output_type": "stream",
     "text": [
      "[INFO] Saved progress up to row 268403\n",
      "[INFO] Processing chunk 267403 to 267903\n"
     ]
    },
    {
     "name": "stderr",
     "output_type": "stream",
     "text": [
      "Batch: 100%|██████████| 500/500 [00:33<00:00, 14.77it/s]\n"
     ]
    },
    {
     "name": "stdout",
     "output_type": "stream",
     "text": [
      "[INFO] Saved progress up to row 267903\n",
      "[INFO] Processing chunk 266903 to 267403\n"
     ]
    },
    {
     "name": "stderr",
     "output_type": "stream",
     "text": [
      "Batch: 100%|██████████| 500/500 [00:32<00:00, 15.47it/s]\n"
     ]
    },
    {
     "name": "stdout",
     "output_type": "stream",
     "text": [
      "[INFO] Saved progress up to row 267403\n",
      "[INFO] Processing chunk 266403 to 266903\n"
     ]
    },
    {
     "name": "stderr",
     "output_type": "stream",
     "text": [
      "Batch: 100%|██████████| 500/500 [01:01<00:00,  8.10it/s]\n"
     ]
    },
    {
     "name": "stdout",
     "output_type": "stream",
     "text": [
      "[INFO] Saved progress up to row 266903\n",
      "[INFO] Processing chunk 265903 to 266403\n"
     ]
    },
    {
     "name": "stderr",
     "output_type": "stream",
     "text": [
      "Batch: 100%|██████████| 500/500 [00:51<00:00,  9.67it/s]\n"
     ]
    },
    {
     "name": "stdout",
     "output_type": "stream",
     "text": [
      "[INFO] Saved progress up to row 266403\n",
      "[INFO] Processing chunk 265403 to 265903\n"
     ]
    },
    {
     "name": "stderr",
     "output_type": "stream",
     "text": [
      "Batch: 100%|██████████| 500/500 [00:43<00:00, 11.47it/s]\n"
     ]
    },
    {
     "name": "stdout",
     "output_type": "stream",
     "text": [
      "[INFO] Saved progress up to row 265903\n",
      "[INFO] Processing chunk 264903 to 265403\n"
     ]
    },
    {
     "name": "stderr",
     "output_type": "stream",
     "text": [
      "Batch: 100%|██████████| 500/500 [00:41<00:00, 12.13it/s]\n"
     ]
    },
    {
     "name": "stdout",
     "output_type": "stream",
     "text": [
      "[INFO] Saved progress up to row 265403\n",
      "[INFO] Processing chunk 264403 to 264903\n"
     ]
    },
    {
     "name": "stderr",
     "output_type": "stream",
     "text": [
      "Batch: 100%|██████████| 500/500 [00:32<00:00, 15.53it/s]\n"
     ]
    },
    {
     "name": "stdout",
     "output_type": "stream",
     "text": [
      "[INFO] Saved progress up to row 264903\n",
      "[INFO] Processing chunk 263903 to 264403\n"
     ]
    },
    {
     "name": "stderr",
     "output_type": "stream",
     "text": [
      "Batch: 100%|██████████| 500/500 [00:37<00:00, 13.27it/s]\n"
     ]
    },
    {
     "name": "stdout",
     "output_type": "stream",
     "text": [
      "[INFO] Saved progress up to row 264403\n",
      "[INFO] Processing chunk 263403 to 263903\n"
     ]
    },
    {
     "name": "stderr",
     "output_type": "stream",
     "text": [
      "Batch: 100%|██████████| 500/500 [00:36<00:00, 13.77it/s]\n"
     ]
    },
    {
     "name": "stdout",
     "output_type": "stream",
     "text": [
      "[INFO] Saved progress up to row 263903\n",
      "[INFO] Processing chunk 262903 to 263403\n"
     ]
    },
    {
     "name": "stderr",
     "output_type": "stream",
     "text": [
      "Batch: 100%|██████████| 500/500 [00:42<00:00, 11.75it/s]\n"
     ]
    },
    {
     "name": "stdout",
     "output_type": "stream",
     "text": [
      "[INFO] Saved progress up to row 263403\n",
      "[INFO] Processing chunk 262403 to 262903\n"
     ]
    },
    {
     "name": "stderr",
     "output_type": "stream",
     "text": [
      "Batch: 100%|██████████| 500/500 [00:39<00:00, 12.82it/s]\n"
     ]
    },
    {
     "name": "stdout",
     "output_type": "stream",
     "text": [
      "[INFO] Saved progress up to row 262903\n",
      "[INFO] Processing chunk 261903 to 262403\n"
     ]
    },
    {
     "name": "stderr",
     "output_type": "stream",
     "text": [
      "Batch: 100%|██████████| 500/500 [00:49<00:00, 10.07it/s]\n"
     ]
    },
    {
     "name": "stdout",
     "output_type": "stream",
     "text": [
      "[INFO] Saved progress up to row 262403\n",
      "[INFO] Processing chunk 261403 to 261903\n"
     ]
    },
    {
     "name": "stderr",
     "output_type": "stream",
     "text": [
      "Batch: 100%|██████████| 500/500 [00:42<00:00, 11.73it/s]\n"
     ]
    },
    {
     "name": "stdout",
     "output_type": "stream",
     "text": [
      "[INFO] Saved progress up to row 261903\n",
      "[INFO] Processing chunk 260903 to 261403\n"
     ]
    },
    {
     "name": "stderr",
     "output_type": "stream",
     "text": [
      "Batch: 100%|██████████| 500/500 [00:45<00:00, 11.01it/s]\n"
     ]
    },
    {
     "name": "stdout",
     "output_type": "stream",
     "text": [
      "[INFO] Saved progress up to row 261403\n",
      "[INFO] Processing chunk 260403 to 260903\n"
     ]
    },
    {
     "name": "stderr",
     "output_type": "stream",
     "text": [
      "Batch: 100%|██████████| 500/500 [00:49<00:00, 10.20it/s]\n"
     ]
    },
    {
     "name": "stdout",
     "output_type": "stream",
     "text": [
      "[INFO] Saved progress up to row 260903\n",
      "[INFO] Processing chunk 259903 to 260403\n"
     ]
    },
    {
     "name": "stderr",
     "output_type": "stream",
     "text": [
      "Batch: 100%|██████████| 500/500 [00:45<00:00, 11.06it/s]\n"
     ]
    },
    {
     "name": "stdout",
     "output_type": "stream",
     "text": [
      "[INFO] Saved progress up to row 260403\n",
      "[INFO] Processing chunk 259403 to 259903\n"
     ]
    },
    {
     "name": "stderr",
     "output_type": "stream",
     "text": [
      "Batch: 100%|██████████| 500/500 [00:36<00:00, 13.60it/s]\n"
     ]
    },
    {
     "name": "stdout",
     "output_type": "stream",
     "text": [
      "[INFO] Saved progress up to row 259903\n",
      "[INFO] Processing chunk 258903 to 259403\n"
     ]
    },
    {
     "name": "stderr",
     "output_type": "stream",
     "text": [
      "Batch: 100%|██████████| 500/500 [00:40<00:00, 12.30it/s]\n"
     ]
    },
    {
     "name": "stdout",
     "output_type": "stream",
     "text": [
      "[INFO] Saved progress up to row 259403\n",
      "[INFO] Processing chunk 258403 to 258903\n"
     ]
    },
    {
     "name": "stderr",
     "output_type": "stream",
     "text": [
      "Batch: 100%|██████████| 500/500 [00:40<00:00, 12.28it/s]\n"
     ]
    },
    {
     "name": "stdout",
     "output_type": "stream",
     "text": [
      "[INFO] Saved progress up to row 258903\n",
      "[INFO] Processing chunk 257903 to 258403\n"
     ]
    },
    {
     "name": "stderr",
     "output_type": "stream",
     "text": [
      "Batch: 100%|██████████| 500/500 [00:48<00:00, 10.22it/s]\n"
     ]
    },
    {
     "name": "stdout",
     "output_type": "stream",
     "text": [
      "[INFO] Saved progress up to row 258403\n",
      "[INFO] Processing chunk 257403 to 257903\n"
     ]
    },
    {
     "name": "stderr",
     "output_type": "stream",
     "text": [
      "Batch: 100%|██████████| 500/500 [00:35<00:00, 14.16it/s]\n"
     ]
    },
    {
     "name": "stdout",
     "output_type": "stream",
     "text": [
      "[INFO] Saved progress up to row 257903\n",
      "[INFO] Processing chunk 256903 to 257403\n"
     ]
    },
    {
     "name": "stderr",
     "output_type": "stream",
     "text": [
      "Batch: 100%|██████████| 500/500 [00:55<00:00,  8.95it/s]\n"
     ]
    },
    {
     "name": "stdout",
     "output_type": "stream",
     "text": [
      "[INFO] Saved progress up to row 257403\n",
      "[INFO] Processing chunk 256403 to 256903\n"
     ]
    },
    {
     "name": "stderr",
     "output_type": "stream",
     "text": [
      "Batch: 100%|██████████| 500/500 [01:02<00:00,  8.01it/s]\n"
     ]
    },
    {
     "name": "stdout",
     "output_type": "stream",
     "text": [
      "[INFO] Saved progress up to row 256903\n",
      "[INFO] Processing chunk 255903 to 256403\n"
     ]
    },
    {
     "name": "stderr",
     "output_type": "stream",
     "text": [
      "Batch: 100%|██████████| 500/500 [00:37<00:00, 13.24it/s]\n"
     ]
    },
    {
     "name": "stdout",
     "output_type": "stream",
     "text": [
      "[INFO] Saved progress up to row 256403\n",
      "[INFO] Processing chunk 255403 to 255903\n"
     ]
    },
    {
     "name": "stderr",
     "output_type": "stream",
     "text": [
      "Batch: 100%|██████████| 500/500 [00:37<00:00, 13.46it/s]\n"
     ]
    },
    {
     "name": "stdout",
     "output_type": "stream",
     "text": [
      "[INFO] Saved progress up to row 255903\n",
      "[INFO] Processing chunk 254903 to 255403\n"
     ]
    },
    {
     "name": "stderr",
     "output_type": "stream",
     "text": [
      "Batch: 100%|██████████| 500/500 [00:44<00:00, 11.26it/s]\n"
     ]
    },
    {
     "name": "stdout",
     "output_type": "stream",
     "text": [
      "[INFO] Saved progress up to row 255403\n",
      "[INFO] Processing chunk 254403 to 254903\n"
     ]
    },
    {
     "name": "stderr",
     "output_type": "stream",
     "text": [
      "Batch: 100%|██████████| 500/500 [01:06<00:00,  7.48it/s]\n"
     ]
    },
    {
     "name": "stdout",
     "output_type": "stream",
     "text": [
      "[INFO] Saved progress up to row 254903\n",
      "[INFO] Processing chunk 253903 to 254403\n"
     ]
    },
    {
     "name": "stderr",
     "output_type": "stream",
     "text": [
      "Batch: 100%|██████████| 500/500 [00:37<00:00, 13.38it/s]\n"
     ]
    },
    {
     "name": "stdout",
     "output_type": "stream",
     "text": [
      "[INFO] Saved progress up to row 254403\n",
      "[INFO] Processing chunk 253403 to 253903\n"
     ]
    },
    {
     "name": "stderr",
     "output_type": "stream",
     "text": [
      "Batch: 100%|██████████| 500/500 [00:36<00:00, 13.75it/s]\n"
     ]
    },
    {
     "name": "stdout",
     "output_type": "stream",
     "text": [
      "[INFO] Saved progress up to row 253903\n",
      "[INFO] Processing chunk 252903 to 253403\n"
     ]
    },
    {
     "name": "stderr",
     "output_type": "stream",
     "text": [
      "Batch: 100%|██████████| 500/500 [00:35<00:00, 14.00it/s]\n"
     ]
    },
    {
     "name": "stdout",
     "output_type": "stream",
     "text": [
      "[INFO] Saved progress up to row 253403\n",
      "[INFO] Processing chunk 252403 to 252903\n"
     ]
    },
    {
     "name": "stderr",
     "output_type": "stream",
     "text": [
      "Batch: 100%|██████████| 500/500 [00:45<00:00, 10.87it/s]\n"
     ]
    },
    {
     "name": "stdout",
     "output_type": "stream",
     "text": [
      "[INFO] Saved progress up to row 252903\n",
      "[INFO] Processing chunk 251903 to 252403\n"
     ]
    },
    {
     "name": "stderr",
     "output_type": "stream",
     "text": [
      "Batch: 100%|██████████| 500/500 [00:46<00:00, 10.74it/s]\n"
     ]
    },
    {
     "name": "stdout",
     "output_type": "stream",
     "text": [
      "[INFO] Saved progress up to row 252403\n",
      "[INFO] Processing chunk 251403 to 251903\n"
     ]
    },
    {
     "name": "stderr",
     "output_type": "stream",
     "text": [
      "Batch: 100%|██████████| 500/500 [00:48<00:00, 10.34it/s]\n"
     ]
    },
    {
     "name": "stdout",
     "output_type": "stream",
     "text": [
      "[INFO] Saved progress up to row 251903\n",
      "[INFO] Processing chunk 250903 to 251403\n"
     ]
    },
    {
     "name": "stderr",
     "output_type": "stream",
     "text": [
      "Batch: 100%|██████████| 500/500 [01:23<00:00,  5.98it/s]\n"
     ]
    },
    {
     "name": "stdout",
     "output_type": "stream",
     "text": [
      "[INFO] Saved progress up to row 251403\n",
      "[INFO] Processing chunk 250403 to 250903\n"
     ]
    },
    {
     "name": "stderr",
     "output_type": "stream",
     "text": [
      "Batch: 100%|██████████| 500/500 [01:08<00:00,  7.29it/s]\n"
     ]
    },
    {
     "name": "stdout",
     "output_type": "stream",
     "text": [
      "[INFO] Saved progress up to row 250903\n",
      "[INFO] Processing chunk 249903 to 250403\n"
     ]
    },
    {
     "name": "stderr",
     "output_type": "stream",
     "text": [
      "Batch: 100%|██████████| 500/500 [00:39<00:00, 12.63it/s]\n"
     ]
    },
    {
     "name": "stdout",
     "output_type": "stream",
     "text": [
      "[INFO] Saved progress up to row 250403\n",
      "[INFO] Processing chunk 249403 to 249903\n"
     ]
    },
    {
     "name": "stderr",
     "output_type": "stream",
     "text": [
      "Batch: 100%|██████████| 500/500 [00:40<00:00, 12.35it/s]\n"
     ]
    },
    {
     "name": "stdout",
     "output_type": "stream",
     "text": [
      "[INFO] Saved progress up to row 249903\n",
      "[INFO] Processing chunk 248903 to 249403\n"
     ]
    },
    {
     "name": "stderr",
     "output_type": "stream",
     "text": [
      "Batch: 100%|██████████| 500/500 [00:38<00:00, 12.96it/s]\n"
     ]
    },
    {
     "name": "stdout",
     "output_type": "stream",
     "text": [
      "[INFO] Saved progress up to row 249403\n",
      "[INFO] Processing chunk 248403 to 248903\n"
     ]
    },
    {
     "name": "stderr",
     "output_type": "stream",
     "text": [
      "Batch: 100%|██████████| 500/500 [00:46<00:00, 10.82it/s]\n"
     ]
    },
    {
     "name": "stdout",
     "output_type": "stream",
     "text": [
      "[INFO] Saved progress up to row 248903\n",
      "[INFO] Processing chunk 247903 to 248403\n"
     ]
    },
    {
     "name": "stderr",
     "output_type": "stream",
     "text": [
      "Batch: 100%|██████████| 500/500 [00:49<00:00, 10.02it/s]\n"
     ]
    },
    {
     "name": "stdout",
     "output_type": "stream",
     "text": [
      "[INFO] Saved progress up to row 248403\n",
      "[INFO] Processing chunk 247403 to 247903\n"
     ]
    },
    {
     "name": "stderr",
     "output_type": "stream",
     "text": [
      "Batch: 100%|██████████| 500/500 [00:44<00:00, 11.23it/s]\n"
     ]
    },
    {
     "name": "stdout",
     "output_type": "stream",
     "text": [
      "[INFO] Saved progress up to row 247903\n",
      "[INFO] Processing chunk 246903 to 247403\n"
     ]
    },
    {
     "name": "stderr",
     "output_type": "stream",
     "text": [
      "Batch: 100%|██████████| 500/500 [00:55<00:00,  9.05it/s]\n"
     ]
    },
    {
     "name": "stdout",
     "output_type": "stream",
     "text": [
      "[INFO] Saved progress up to row 247403\n",
      "[INFO] Processing chunk 246403 to 246903\n"
     ]
    },
    {
     "name": "stderr",
     "output_type": "stream",
     "text": [
      "Batch: 100%|██████████| 500/500 [00:41<00:00, 11.94it/s]\n"
     ]
    },
    {
     "name": "stdout",
     "output_type": "stream",
     "text": [
      "[INFO] Saved progress up to row 246903\n",
      "[INFO] Processing chunk 245903 to 246403\n"
     ]
    },
    {
     "name": "stderr",
     "output_type": "stream",
     "text": [
      "Batch: 100%|██████████| 500/500 [01:04<00:00,  7.77it/s]\n"
     ]
    },
    {
     "name": "stdout",
     "output_type": "stream",
     "text": [
      "[INFO] Saved progress up to row 246403\n",
      "[INFO] Processing chunk 245403 to 245903\n"
     ]
    },
    {
     "name": "stderr",
     "output_type": "stream",
     "text": [
      "Batch: 100%|██████████| 500/500 [00:42<00:00, 11.64it/s]\n"
     ]
    },
    {
     "name": "stdout",
     "output_type": "stream",
     "text": [
      "[INFO] Saved progress up to row 245903\n",
      "[INFO] Processing chunk 244903 to 245403\n"
     ]
    },
    {
     "name": "stderr",
     "output_type": "stream",
     "text": [
      "Batch: 100%|██████████| 500/500 [00:45<00:00, 10.96it/s]\n"
     ]
    },
    {
     "name": "stdout",
     "output_type": "stream",
     "text": [
      "[INFO] Saved progress up to row 245403\n",
      "[INFO] Processing chunk 244403 to 244903\n"
     ]
    },
    {
     "name": "stderr",
     "output_type": "stream",
     "text": [
      "Batch: 100%|██████████| 500/500 [00:34<00:00, 14.53it/s]\n"
     ]
    },
    {
     "name": "stdout",
     "output_type": "stream",
     "text": [
      "[INFO] Saved progress up to row 244903\n",
      "[INFO] Processing chunk 243903 to 244403\n"
     ]
    },
    {
     "name": "stderr",
     "output_type": "stream",
     "text": [
      "Batch: 100%|██████████| 500/500 [00:50<00:00,  9.86it/s]\n"
     ]
    },
    {
     "name": "stdout",
     "output_type": "stream",
     "text": [
      "[INFO] Saved progress up to row 244403\n",
      "[INFO] Processing chunk 243403 to 243903\n"
     ]
    },
    {
     "name": "stderr",
     "output_type": "stream",
     "text": [
      "Batch: 100%|██████████| 500/500 [00:52<00:00,  9.60it/s]\n"
     ]
    },
    {
     "name": "stdout",
     "output_type": "stream",
     "text": [
      "[INFO] Saved progress up to row 243903\n",
      "[INFO] Processing chunk 242903 to 243403\n"
     ]
    },
    {
     "name": "stderr",
     "output_type": "stream",
     "text": [
      "Batch: 100%|██████████| 500/500 [00:38<00:00, 13.06it/s]\n"
     ]
    },
    {
     "name": "stdout",
     "output_type": "stream",
     "text": [
      "[INFO] Saved progress up to row 243403\n",
      "[INFO] Processing chunk 242403 to 242903\n"
     ]
    },
    {
     "name": "stderr",
     "output_type": "stream",
     "text": [
      "Batch: 100%|██████████| 500/500 [00:47<00:00, 10.51it/s]\n"
     ]
    },
    {
     "name": "stdout",
     "output_type": "stream",
     "text": [
      "[INFO] Saved progress up to row 242903\n",
      "[INFO] Processing chunk 241903 to 242403\n"
     ]
    },
    {
     "name": "stderr",
     "output_type": "stream",
     "text": [
      "Batch: 100%|██████████| 500/500 [00:40<00:00, 12.30it/s]\n"
     ]
    },
    {
     "name": "stdout",
     "output_type": "stream",
     "text": [
      "[INFO] Saved progress up to row 242403\n",
      "[INFO] Processing chunk 241403 to 241903\n"
     ]
    },
    {
     "name": "stderr",
     "output_type": "stream",
     "text": [
      "Batch: 100%|██████████| 500/500 [00:45<00:00, 10.97it/s]\n"
     ]
    },
    {
     "name": "stdout",
     "output_type": "stream",
     "text": [
      "[INFO] Saved progress up to row 241903\n",
      "[INFO] Processing chunk 240903 to 241403\n"
     ]
    },
    {
     "name": "stderr",
     "output_type": "stream",
     "text": [
      "Batch: 100%|██████████| 500/500 [00:44<00:00, 11.14it/s]\n"
     ]
    },
    {
     "name": "stdout",
     "output_type": "stream",
     "text": [
      "[INFO] Saved progress up to row 241403\n",
      "[INFO] Processing chunk 240403 to 240903\n"
     ]
    },
    {
     "name": "stderr",
     "output_type": "stream",
     "text": [
      "Batch: 100%|██████████| 500/500 [00:46<00:00, 10.81it/s]\n"
     ]
    },
    {
     "name": "stdout",
     "output_type": "stream",
     "text": [
      "[INFO] Saved progress up to row 240903\n",
      "[INFO] Processing chunk 239903 to 240403\n"
     ]
    },
    {
     "name": "stderr",
     "output_type": "stream",
     "text": [
      "Batch: 100%|██████████| 500/500 [00:54<00:00,  9.17it/s]\n"
     ]
    },
    {
     "name": "stdout",
     "output_type": "stream",
     "text": [
      "[INFO] Saved progress up to row 240403\n",
      "[INFO] Processing chunk 239403 to 239903\n"
     ]
    },
    {
     "name": "stderr",
     "output_type": "stream",
     "text": [
      "Batch: 100%|██████████| 500/500 [01:06<00:00,  7.51it/s]\n"
     ]
    },
    {
     "name": "stdout",
     "output_type": "stream",
     "text": [
      "[INFO] Saved progress up to row 239903\n",
      "[INFO] Processing chunk 238903 to 239403\n"
     ]
    },
    {
     "name": "stderr",
     "output_type": "stream",
     "text": [
      "Batch: 100%|██████████| 500/500 [00:44<00:00, 11.18it/s]\n"
     ]
    },
    {
     "name": "stdout",
     "output_type": "stream",
     "text": [
      "[INFO] Saved progress up to row 239403\n",
      "[INFO] Processing chunk 238403 to 238903\n"
     ]
    },
    {
     "name": "stderr",
     "output_type": "stream",
     "text": [
      "Batch: 100%|██████████| 500/500 [00:34<00:00, 14.54it/s]\n"
     ]
    },
    {
     "name": "stdout",
     "output_type": "stream",
     "text": [
      "[INFO] Saved progress up to row 238903\n",
      "[INFO] Processing chunk 237903 to 238403\n"
     ]
    },
    {
     "name": "stderr",
     "output_type": "stream",
     "text": [
      "Batch: 100%|██████████| 500/500 [00:35<00:00, 13.95it/s]\n"
     ]
    },
    {
     "name": "stdout",
     "output_type": "stream",
     "text": [
      "[INFO] Saved progress up to row 238403\n",
      "[INFO] Processing chunk 237403 to 237903\n"
     ]
    },
    {
     "name": "stderr",
     "output_type": "stream",
     "text": [
      "Batch: 100%|██████████| 500/500 [00:43<00:00, 11.60it/s]\n"
     ]
    },
    {
     "name": "stdout",
     "output_type": "stream",
     "text": [
      "[INFO] Saved progress up to row 237903\n",
      "[INFO] Processing chunk 236903 to 237403\n"
     ]
    },
    {
     "name": "stderr",
     "output_type": "stream",
     "text": [
      "Batch: 100%|██████████| 500/500 [00:39<00:00, 12.55it/s]\n"
     ]
    },
    {
     "name": "stdout",
     "output_type": "stream",
     "text": [
      "[INFO] Saved progress up to row 237403\n",
      "[INFO] Processing chunk 236403 to 236903\n"
     ]
    },
    {
     "name": "stderr",
     "output_type": "stream",
     "text": [
      "Batch: 100%|██████████| 500/500 [00:39<00:00, 12.52it/s]\n"
     ]
    },
    {
     "name": "stdout",
     "output_type": "stream",
     "text": [
      "[INFO] Saved progress up to row 236903\n",
      "[INFO] Processing chunk 235903 to 236403\n"
     ]
    },
    {
     "name": "stderr",
     "output_type": "stream",
     "text": [
      "Batch: 100%|██████████| 500/500 [00:42<00:00, 11.86it/s]\n"
     ]
    },
    {
     "name": "stdout",
     "output_type": "stream",
     "text": [
      "[INFO] Saved progress up to row 236403\n",
      "[INFO] Processing chunk 235403 to 235903\n"
     ]
    },
    {
     "name": "stderr",
     "output_type": "stream",
     "text": [
      "Batch: 100%|██████████| 500/500 [00:45<00:00, 11.09it/s]\n"
     ]
    },
    {
     "name": "stdout",
     "output_type": "stream",
     "text": [
      "[INFO] Saved progress up to row 235903\n",
      "[INFO] Processing chunk 234903 to 235403\n"
     ]
    },
    {
     "name": "stderr",
     "output_type": "stream",
     "text": [
      "Batch: 100%|██████████| 500/500 [00:37<00:00, 13.45it/s]\n"
     ]
    },
    {
     "name": "stdout",
     "output_type": "stream",
     "text": [
      "[INFO] Saved progress up to row 235403\n",
      "[INFO] Processing chunk 234403 to 234903\n"
     ]
    },
    {
     "name": "stderr",
     "output_type": "stream",
     "text": [
      "Batch: 100%|██████████| 500/500 [00:41<00:00, 11.99it/s]\n"
     ]
    },
    {
     "name": "stdout",
     "output_type": "stream",
     "text": [
      "[INFO] Saved progress up to row 234903\n",
      "[INFO] Processing chunk 233903 to 234403\n"
     ]
    },
    {
     "name": "stderr",
     "output_type": "stream",
     "text": [
      "Batch: 100%|██████████| 500/500 [00:38<00:00, 13.07it/s]\n"
     ]
    },
    {
     "name": "stdout",
     "output_type": "stream",
     "text": [
      "[INFO] Saved progress up to row 234403\n",
      "[INFO] Processing chunk 233403 to 233903\n"
     ]
    },
    {
     "name": "stderr",
     "output_type": "stream",
     "text": [
      "Batch: 100%|██████████| 500/500 [00:43<00:00, 11.43it/s]\n"
     ]
    },
    {
     "name": "stdout",
     "output_type": "stream",
     "text": [
      "[INFO] Saved progress up to row 233903\n",
      "[INFO] Processing chunk 232903 to 233403\n"
     ]
    },
    {
     "name": "stderr",
     "output_type": "stream",
     "text": [
      "Batch: 100%|██████████| 500/500 [00:35<00:00, 13.97it/s]\n"
     ]
    },
    {
     "name": "stdout",
     "output_type": "stream",
     "text": [
      "[INFO] Saved progress up to row 233403\n",
      "[INFO] Processing chunk 232403 to 232903\n"
     ]
    },
    {
     "name": "stderr",
     "output_type": "stream",
     "text": [
      "Batch: 100%|██████████| 500/500 [00:37<00:00, 13.36it/s]\n"
     ]
    },
    {
     "name": "stdout",
     "output_type": "stream",
     "text": [
      "[INFO] Saved progress up to row 232903\n",
      "[INFO] Processing chunk 231903 to 232403\n"
     ]
    },
    {
     "name": "stderr",
     "output_type": "stream",
     "text": [
      "Batch: 100%|██████████| 500/500 [00:32<00:00, 15.34it/s]\n"
     ]
    },
    {
     "name": "stdout",
     "output_type": "stream",
     "text": [
      "[INFO] Saved progress up to row 232403\n",
      "[INFO] Processing chunk 231403 to 231903\n"
     ]
    },
    {
     "name": "stderr",
     "output_type": "stream",
     "text": [
      "Batch: 100%|██████████| 500/500 [00:37<00:00, 13.33it/s]\n"
     ]
    },
    {
     "name": "stdout",
     "output_type": "stream",
     "text": [
      "[INFO] Saved progress up to row 231903\n",
      "[INFO] Processing chunk 230903 to 231403\n"
     ]
    },
    {
     "name": "stderr",
     "output_type": "stream",
     "text": [
      "Batch: 100%|██████████| 500/500 [00:37<00:00, 13.38it/s]\n"
     ]
    },
    {
     "name": "stdout",
     "output_type": "stream",
     "text": [
      "[INFO] Saved progress up to row 231403\n",
      "[INFO] Processing chunk 230403 to 230903\n"
     ]
    },
    {
     "name": "stderr",
     "output_type": "stream",
     "text": [
      "Batch: 100%|██████████| 500/500 [00:35<00:00, 14.24it/s]\n"
     ]
    },
    {
     "name": "stdout",
     "output_type": "stream",
     "text": [
      "[INFO] Saved progress up to row 230903\n",
      "[INFO] Processing chunk 229903 to 230403\n"
     ]
    },
    {
     "name": "stderr",
     "output_type": "stream",
     "text": [
      "Batch: 100%|██████████| 500/500 [00:32<00:00, 15.21it/s]\n"
     ]
    },
    {
     "name": "stdout",
     "output_type": "stream",
     "text": [
      "[INFO] Saved progress up to row 230403\n",
      "[INFO] Processing chunk 229403 to 229903\n"
     ]
    },
    {
     "name": "stderr",
     "output_type": "stream",
     "text": [
      "Batch: 100%|██████████| 500/500 [00:34<00:00, 14.33it/s]\n"
     ]
    },
    {
     "name": "stdout",
     "output_type": "stream",
     "text": [
      "[INFO] Saved progress up to row 229903\n",
      "[INFO] Processing chunk 228903 to 229403\n"
     ]
    },
    {
     "name": "stderr",
     "output_type": "stream",
     "text": [
      "Batch: 100%|██████████| 500/500 [00:35<00:00, 14.18it/s]\n"
     ]
    },
    {
     "name": "stdout",
     "output_type": "stream",
     "text": [
      "[INFO] Saved progress up to row 229403\n",
      "[INFO] Processing chunk 228403 to 228903\n"
     ]
    },
    {
     "name": "stderr",
     "output_type": "stream",
     "text": [
      "Batch: 100%|██████████| 500/500 [00:35<00:00, 13.98it/s]\n"
     ]
    },
    {
     "name": "stdout",
     "output_type": "stream",
     "text": [
      "[INFO] Saved progress up to row 228903\n",
      "[INFO] Processing chunk 227903 to 228403\n"
     ]
    },
    {
     "name": "stderr",
     "output_type": "stream",
     "text": [
      "Batch: 100%|██████████| 500/500 [00:42<00:00, 11.69it/s]\n"
     ]
    },
    {
     "name": "stdout",
     "output_type": "stream",
     "text": [
      "[INFO] Saved progress up to row 228403\n",
      "[INFO] Processing chunk 227403 to 227903\n"
     ]
    },
    {
     "name": "stderr",
     "output_type": "stream",
     "text": [
      "Batch: 100%|██████████| 500/500 [00:40<00:00, 12.42it/s]\n"
     ]
    },
    {
     "name": "stdout",
     "output_type": "stream",
     "text": [
      "[INFO] Saved progress up to row 227903\n",
      "[INFO] Processing chunk 226903 to 227403\n"
     ]
    },
    {
     "name": "stderr",
     "output_type": "stream",
     "text": [
      "Batch: 100%|██████████| 500/500 [00:36<00:00, 13.84it/s]\n"
     ]
    },
    {
     "name": "stdout",
     "output_type": "stream",
     "text": [
      "[INFO] Saved progress up to row 227403\n",
      "[INFO] Processing chunk 226403 to 226903\n"
     ]
    },
    {
     "name": "stderr",
     "output_type": "stream",
     "text": [
      "Batch: 100%|██████████| 500/500 [00:39<00:00, 12.72it/s]\n"
     ]
    },
    {
     "name": "stdout",
     "output_type": "stream",
     "text": [
      "[INFO] Saved progress up to row 226903\n",
      "[INFO] Processing chunk 225903 to 226403\n"
     ]
    },
    {
     "name": "stderr",
     "output_type": "stream",
     "text": [
      "Batch: 100%|██████████| 500/500 [00:38<00:00, 12.94it/s]\n"
     ]
    },
    {
     "name": "stdout",
     "output_type": "stream",
     "text": [
      "[INFO] Saved progress up to row 226403\n",
      "[INFO] Processing chunk 225403 to 225903\n"
     ]
    },
    {
     "name": "stderr",
     "output_type": "stream",
     "text": [
      "Batch: 100%|██████████| 500/500 [00:35<00:00, 14.23it/s]\n"
     ]
    },
    {
     "name": "stdout",
     "output_type": "stream",
     "text": [
      "[INFO] Saved progress up to row 225903\n",
      "[INFO] Processing chunk 224903 to 225403\n"
     ]
    },
    {
     "name": "stderr",
     "output_type": "stream",
     "text": [
      "Batch: 100%|██████████| 500/500 [00:27<00:00, 18.01it/s]\n"
     ]
    },
    {
     "name": "stdout",
     "output_type": "stream",
     "text": [
      "[INFO] Saved progress up to row 225403\n",
      "[INFO] Processing chunk 224403 to 224903\n"
     ]
    },
    {
     "name": "stderr",
     "output_type": "stream",
     "text": [
      "Batch: 100%|██████████| 500/500 [00:35<00:00, 13.91it/s]\n"
     ]
    },
    {
     "name": "stdout",
     "output_type": "stream",
     "text": [
      "[INFO] Saved progress up to row 224903\n",
      "[INFO] Processing chunk 223903 to 224403\n"
     ]
    },
    {
     "name": "stderr",
     "output_type": "stream",
     "text": [
      "Batch: 100%|██████████| 500/500 [00:40<00:00, 12.45it/s]\n"
     ]
    },
    {
     "name": "stdout",
     "output_type": "stream",
     "text": [
      "[INFO] Saved progress up to row 224403\n",
      "[INFO] Processing chunk 223403 to 223903\n"
     ]
    },
    {
     "name": "stderr",
     "output_type": "stream",
     "text": [
      "Batch: 100%|██████████| 500/500 [00:39<00:00, 12.64it/s]\n"
     ]
    },
    {
     "name": "stdout",
     "output_type": "stream",
     "text": [
      "[INFO] Saved progress up to row 223903\n",
      "[INFO] Processing chunk 222903 to 223403\n"
     ]
    },
    {
     "name": "stderr",
     "output_type": "stream",
     "text": [
      "Batch: 100%|██████████| 500/500 [00:40<00:00, 12.22it/s]\n"
     ]
    },
    {
     "name": "stdout",
     "output_type": "stream",
     "text": [
      "[INFO] Saved progress up to row 223403\n",
      "[INFO] Processing chunk 222403 to 222903\n"
     ]
    },
    {
     "name": "stderr",
     "output_type": "stream",
     "text": [
      "Batch: 100%|██████████| 500/500 [00:39<00:00, 12.60it/s]\n"
     ]
    },
    {
     "name": "stdout",
     "output_type": "stream",
     "text": [
      "[INFO] Saved progress up to row 222903\n",
      "[INFO] Processing chunk 221903 to 222403\n"
     ]
    },
    {
     "name": "stderr",
     "output_type": "stream",
     "text": [
      "Batch: 100%|██████████| 500/500 [00:36<00:00, 13.88it/s]\n"
     ]
    },
    {
     "name": "stdout",
     "output_type": "stream",
     "text": [
      "[INFO] Saved progress up to row 222403\n",
      "[INFO] Processing chunk 221403 to 221903\n"
     ]
    },
    {
     "name": "stderr",
     "output_type": "stream",
     "text": [
      "Batch: 100%|██████████| 500/500 [00:42<00:00, 11.75it/s]\n"
     ]
    },
    {
     "name": "stdout",
     "output_type": "stream",
     "text": [
      "[INFO] Saved progress up to row 221903\n",
      "[INFO] Processing chunk 220903 to 221403\n"
     ]
    },
    {
     "name": "stderr",
     "output_type": "stream",
     "text": [
      "Batch: 100%|██████████| 500/500 [00:47<00:00, 10.54it/s]\n"
     ]
    },
    {
     "name": "stdout",
     "output_type": "stream",
     "text": [
      "[INFO] Saved progress up to row 221403\n",
      "[INFO] Processing chunk 220403 to 220903\n"
     ]
    },
    {
     "name": "stderr",
     "output_type": "stream",
     "text": [
      "Batch: 100%|██████████| 500/500 [00:47<00:00, 10.63it/s]\n"
     ]
    },
    {
     "name": "stdout",
     "output_type": "stream",
     "text": [
      "[INFO] Saved progress up to row 220903\n",
      "[INFO] Processing chunk 219903 to 220403\n"
     ]
    },
    {
     "name": "stderr",
     "output_type": "stream",
     "text": [
      "Batch: 100%|██████████| 500/500 [00:38<00:00, 12.86it/s]\n"
     ]
    },
    {
     "name": "stdout",
     "output_type": "stream",
     "text": [
      "[INFO] Saved progress up to row 220403\n",
      "[INFO] Processing chunk 219403 to 219903\n"
     ]
    },
    {
     "name": "stderr",
     "output_type": "stream",
     "text": [
      "Batch: 100%|██████████| 500/500 [00:36<00:00, 13.80it/s]\n"
     ]
    },
    {
     "name": "stdout",
     "output_type": "stream",
     "text": [
      "[INFO] Saved progress up to row 219903\n",
      "[INFO] Processing chunk 218903 to 219403\n"
     ]
    },
    {
     "name": "stderr",
     "output_type": "stream",
     "text": [
      "Batch: 100%|██████████| 500/500 [00:36<00:00, 13.88it/s]\n"
     ]
    },
    {
     "name": "stdout",
     "output_type": "stream",
     "text": [
      "[INFO] Saved progress up to row 219403\n",
      "[INFO] Processing chunk 218403 to 218903\n"
     ]
    },
    {
     "name": "stderr",
     "output_type": "stream",
     "text": [
      "Batch: 100%|██████████| 500/500 [00:39<00:00, 12.57it/s]\n"
     ]
    },
    {
     "name": "stdout",
     "output_type": "stream",
     "text": [
      "[INFO] Saved progress up to row 218903\n",
      "[INFO] Processing chunk 217903 to 218403\n"
     ]
    },
    {
     "name": "stderr",
     "output_type": "stream",
     "text": [
      "Batch: 100%|██████████| 500/500 [00:41<00:00, 12.05it/s]\n"
     ]
    },
    {
     "name": "stdout",
     "output_type": "stream",
     "text": [
      "[INFO] Saved progress up to row 218403\n",
      "[INFO] Processing chunk 217403 to 217903\n"
     ]
    },
    {
     "name": "stderr",
     "output_type": "stream",
     "text": [
      "Batch: 100%|██████████| 500/500 [00:39<00:00, 12.75it/s]\n"
     ]
    },
    {
     "name": "stdout",
     "output_type": "stream",
     "text": [
      "[INFO] Saved progress up to row 217903\n",
      "[INFO] Processing chunk 216903 to 217403\n"
     ]
    },
    {
     "name": "stderr",
     "output_type": "stream",
     "text": [
      "Batch: 100%|██████████| 500/500 [00:47<00:00, 10.57it/s]\n"
     ]
    },
    {
     "name": "stdout",
     "output_type": "stream",
     "text": [
      "[INFO] Saved progress up to row 217403\n",
      "[INFO] Processing chunk 216403 to 216903\n"
     ]
    },
    {
     "name": "stderr",
     "output_type": "stream",
     "text": [
      "Batch: 100%|██████████| 500/500 [00:38<00:00, 13.01it/s]\n"
     ]
    },
    {
     "name": "stdout",
     "output_type": "stream",
     "text": [
      "[INFO] Saved progress up to row 216903\n",
      "[INFO] Processing chunk 215903 to 216403\n"
     ]
    },
    {
     "name": "stderr",
     "output_type": "stream",
     "text": [
      "Batch: 100%|██████████| 500/500 [00:36<00:00, 13.88it/s]\n"
     ]
    },
    {
     "name": "stdout",
     "output_type": "stream",
     "text": [
      "[INFO] Saved progress up to row 216403\n",
      "[INFO] Processing chunk 215403 to 215903\n"
     ]
    },
    {
     "name": "stderr",
     "output_type": "stream",
     "text": [
      "Batch: 100%|██████████| 500/500 [00:35<00:00, 13.96it/s]\n"
     ]
    },
    {
     "name": "stdout",
     "output_type": "stream",
     "text": [
      "[INFO] Saved progress up to row 215903\n",
      "[INFO] Processing chunk 214903 to 215403\n"
     ]
    },
    {
     "name": "stderr",
     "output_type": "stream",
     "text": [
      "Batch: 100%|██████████| 500/500 [00:34<00:00, 14.59it/s]\n"
     ]
    },
    {
     "name": "stdout",
     "output_type": "stream",
     "text": [
      "[INFO] Saved progress up to row 215403\n",
      "[INFO] Processing chunk 214403 to 214903\n"
     ]
    },
    {
     "name": "stderr",
     "output_type": "stream",
     "text": [
      "Batch: 100%|██████████| 500/500 [00:33<00:00, 15.07it/s]\n"
     ]
    },
    {
     "name": "stdout",
     "output_type": "stream",
     "text": [
      "[INFO] Saved progress up to row 214903\n",
      "[INFO] Processing chunk 213903 to 214403\n"
     ]
    },
    {
     "name": "stderr",
     "output_type": "stream",
     "text": [
      "Batch: 100%|██████████| 500/500 [00:35<00:00, 14.20it/s]\n"
     ]
    },
    {
     "name": "stdout",
     "output_type": "stream",
     "text": [
      "[INFO] Saved progress up to row 214403\n",
      "[INFO] Processing chunk 213403 to 213903\n"
     ]
    },
    {
     "name": "stderr",
     "output_type": "stream",
     "text": [
      "Batch: 100%|██████████| 500/500 [00:38<00:00, 12.89it/s]\n"
     ]
    },
    {
     "name": "stdout",
     "output_type": "stream",
     "text": [
      "[INFO] Saved progress up to row 213903\n",
      "[INFO] Processing chunk 212903 to 213403\n"
     ]
    },
    {
     "name": "stderr",
     "output_type": "stream",
     "text": [
      "Batch: 100%|██████████| 500/500 [08:14<00:00,  1.01it/s]  \n"
     ]
    },
    {
     "name": "stdout",
     "output_type": "stream",
     "text": [
      "[INFO] Saved progress up to row 213403\n",
      "[INFO] Processing chunk 212403 to 212903\n"
     ]
    },
    {
     "name": "stderr",
     "output_type": "stream",
     "text": [
      "Batch: 100%|██████████| 500/500 [00:27<00:00, 18.39it/s]\n"
     ]
    },
    {
     "name": "stdout",
     "output_type": "stream",
     "text": [
      "[INFO] Saved progress up to row 212903\n",
      "[INFO] Processing chunk 211903 to 212403\n"
     ]
    },
    {
     "name": "stderr",
     "output_type": "stream",
     "text": [
      "Batch: 100%|██████████| 500/500 [00:27<00:00, 18.14it/s]\n"
     ]
    },
    {
     "name": "stdout",
     "output_type": "stream",
     "text": [
      "[INFO] Saved progress up to row 212403\n",
      "[INFO] Processing chunk 211403 to 211903\n"
     ]
    },
    {
     "name": "stderr",
     "output_type": "stream",
     "text": [
      "Batch: 100%|██████████| 500/500 [00:27<00:00, 18.25it/s]\n"
     ]
    },
    {
     "name": "stdout",
     "output_type": "stream",
     "text": [
      "[INFO] Saved progress up to row 211903\n",
      "[INFO] Processing chunk 210903 to 211403\n"
     ]
    },
    {
     "name": "stderr",
     "output_type": "stream",
     "text": [
      "Batch: 100%|██████████| 500/500 [00:27<00:00, 18.24it/s]\n"
     ]
    },
    {
     "name": "stdout",
     "output_type": "stream",
     "text": [
      "[INFO] Saved progress up to row 211403\n",
      "[INFO] Processing chunk 210403 to 210903\n"
     ]
    },
    {
     "name": "stderr",
     "output_type": "stream",
     "text": [
      "Batch: 100%|██████████| 500/500 [00:36<00:00, 13.73it/s]\n"
     ]
    },
    {
     "name": "stdout",
     "output_type": "stream",
     "text": [
      "[INFO] Saved progress up to row 210903\n",
      "[INFO] Processing chunk 209903 to 210403\n"
     ]
    },
    {
     "name": "stderr",
     "output_type": "stream",
     "text": [
      "Batch: 100%|██████████| 500/500 [00:40<00:00, 12.49it/s]\n"
     ]
    },
    {
     "name": "stdout",
     "output_type": "stream",
     "text": [
      "[INFO] Saved progress up to row 210403\n",
      "[INFO] Processing chunk 209403 to 209903\n"
     ]
    },
    {
     "name": "stderr",
     "output_type": "stream",
     "text": [
      "Batch: 100%|██████████| 500/500 [00:33<00:00, 14.72it/s]\n"
     ]
    },
    {
     "name": "stdout",
     "output_type": "stream",
     "text": [
      "[INFO] Saved progress up to row 209903\n",
      "[INFO] Processing chunk 208903 to 209403\n"
     ]
    },
    {
     "name": "stderr",
     "output_type": "stream",
     "text": [
      "Batch: 100%|██████████| 500/500 [00:39<00:00, 12.75it/s]\n"
     ]
    },
    {
     "name": "stdout",
     "output_type": "stream",
     "text": [
      "[INFO] Saved progress up to row 209403\n",
      "[INFO] Processing chunk 208403 to 208903\n"
     ]
    },
    {
     "name": "stderr",
     "output_type": "stream",
     "text": [
      "Batch: 100%|██████████| 500/500 [00:40<00:00, 12.36it/s]\n"
     ]
    },
    {
     "name": "stdout",
     "output_type": "stream",
     "text": [
      "[INFO] Saved progress up to row 208903\n",
      "[INFO] Processing chunk 207903 to 208403\n"
     ]
    },
    {
     "name": "stderr",
     "output_type": "stream",
     "text": [
      "Batch: 100%|██████████| 500/500 [00:54<00:00,  9.12it/s]\n"
     ]
    },
    {
     "name": "stdout",
     "output_type": "stream",
     "text": [
      "[INFO] Saved progress up to row 208403\n",
      "[INFO] Processing chunk 207403 to 207903\n"
     ]
    },
    {
     "name": "stderr",
     "output_type": "stream",
     "text": [
      "Batch: 100%|██████████| 500/500 [00:52<00:00,  9.50it/s]\n"
     ]
    },
    {
     "name": "stdout",
     "output_type": "stream",
     "text": [
      "[INFO] Saved progress up to row 207903\n",
      "[INFO] Processing chunk 206903 to 207403\n"
     ]
    },
    {
     "name": "stderr",
     "output_type": "stream",
     "text": [
      "Batch: 100%|██████████| 500/500 [00:48<00:00, 10.22it/s]\n"
     ]
    },
    {
     "name": "stdout",
     "output_type": "stream",
     "text": [
      "[INFO] Saved progress up to row 207403\n",
      "[INFO] Processing chunk 206403 to 206903\n"
     ]
    },
    {
     "name": "stderr",
     "output_type": "stream",
     "text": [
      "Batch: 100%|██████████| 500/500 [00:51<00:00,  9.65it/s]\n"
     ]
    },
    {
     "name": "stdout",
     "output_type": "stream",
     "text": [
      "[INFO] Saved progress up to row 206903\n",
      "[INFO] Processing chunk 205903 to 206403\n"
     ]
    },
    {
     "name": "stderr",
     "output_type": "stream",
     "text": [
      "Batch: 100%|██████████| 500/500 [00:48<00:00, 10.41it/s]\n"
     ]
    },
    {
     "name": "stdout",
     "output_type": "stream",
     "text": [
      "[INFO] Saved progress up to row 206403\n",
      "[INFO] Processing chunk 205403 to 205903\n"
     ]
    },
    {
     "name": "stderr",
     "output_type": "stream",
     "text": [
      "Batch: 100%|██████████| 500/500 [00:54<00:00,  9.10it/s]\n"
     ]
    },
    {
     "name": "stdout",
     "output_type": "stream",
     "text": [
      "[INFO] Saved progress up to row 205903\n",
      "[INFO] Processing chunk 204903 to 205403\n"
     ]
    },
    {
     "name": "stderr",
     "output_type": "stream",
     "text": [
      "Batch: 100%|██████████| 500/500 [01:03<00:00,  7.90it/s]\n"
     ]
    },
    {
     "name": "stdout",
     "output_type": "stream",
     "text": [
      "[INFO] Saved progress up to row 205403\n",
      "[INFO] Processing chunk 204403 to 204903\n"
     ]
    },
    {
     "name": "stderr",
     "output_type": "stream",
     "text": [
      "Batch: 100%|██████████| 500/500 [01:02<00:00,  8.02it/s]\n"
     ]
    },
    {
     "name": "stdout",
     "output_type": "stream",
     "text": [
      "[INFO] Saved progress up to row 204903\n",
      "[INFO] Processing chunk 203903 to 204403\n"
     ]
    },
    {
     "name": "stderr",
     "output_type": "stream",
     "text": [
      "Batch: 100%|██████████| 500/500 [00:59<00:00,  8.43it/s]\n"
     ]
    },
    {
     "name": "stdout",
     "output_type": "stream",
     "text": [
      "[INFO] Saved progress up to row 204403\n",
      "[INFO] Processing chunk 203403 to 203903\n"
     ]
    },
    {
     "name": "stderr",
     "output_type": "stream",
     "text": [
      "Batch: 100%|██████████| 500/500 [00:48<00:00, 10.30it/s]\n"
     ]
    },
    {
     "name": "stdout",
     "output_type": "stream",
     "text": [
      "[INFO] Saved progress up to row 203903\n",
      "[INFO] Processing chunk 202903 to 203403\n"
     ]
    },
    {
     "name": "stderr",
     "output_type": "stream",
     "text": [
      "Batch: 100%|██████████| 500/500 [00:58<00:00,  8.62it/s]\n"
     ]
    },
    {
     "name": "stdout",
     "output_type": "stream",
     "text": [
      "[INFO] Saved progress up to row 203403\n",
      "[INFO] Processing chunk 202403 to 202903\n"
     ]
    },
    {
     "name": "stderr",
     "output_type": "stream",
     "text": [
      "Batch: 100%|██████████| 500/500 [00:57<00:00,  8.69it/s]\n"
     ]
    },
    {
     "name": "stdout",
     "output_type": "stream",
     "text": [
      "[INFO] Saved progress up to row 202903\n",
      "[INFO] Processing chunk 201903 to 202403\n"
     ]
    },
    {
     "name": "stderr",
     "output_type": "stream",
     "text": [
      "Batch: 100%|██████████| 500/500 [01:01<00:00,  8.16it/s]\n"
     ]
    },
    {
     "name": "stdout",
     "output_type": "stream",
     "text": [
      "[INFO] Saved progress up to row 202403\n",
      "[INFO] Processing chunk 201403 to 201903\n"
     ]
    },
    {
     "name": "stderr",
     "output_type": "stream",
     "text": [
      "Batch: 100%|██████████| 500/500 [00:55<00:00,  8.99it/s]\n"
     ]
    },
    {
     "name": "stdout",
     "output_type": "stream",
     "text": [
      "[INFO] Saved progress up to row 201903\n",
      "[INFO] Processing chunk 200903 to 201403\n"
     ]
    },
    {
     "name": "stderr",
     "output_type": "stream",
     "text": [
      "Batch: 100%|██████████| 500/500 [00:49<00:00, 10.17it/s]\n"
     ]
    },
    {
     "name": "stdout",
     "output_type": "stream",
     "text": [
      "[INFO] Saved progress up to row 201403\n",
      "[INFO] Processing chunk 200403 to 200903\n"
     ]
    },
    {
     "name": "stderr",
     "output_type": "stream",
     "text": [
      "Batch: 100%|██████████| 500/500 [01:10<00:00,  7.08it/s]\n"
     ]
    },
    {
     "name": "stdout",
     "output_type": "stream",
     "text": [
      "[INFO] Saved progress up to row 200903\n",
      "[INFO] Processing chunk 199903 to 200403\n"
     ]
    },
    {
     "name": "stderr",
     "output_type": "stream",
     "text": [
      "Batch: 100%|██████████| 500/500 [01:20<00:00,  6.22it/s]\n"
     ]
    },
    {
     "name": "stdout",
     "output_type": "stream",
     "text": [
      "[INFO] Saved progress up to row 200403\n",
      "[INFO] Processing chunk 199403 to 199903\n"
     ]
    },
    {
     "name": "stderr",
     "output_type": "stream",
     "text": [
      "Batch: 100%|██████████| 500/500 [01:04<00:00,  7.77it/s]\n"
     ]
    },
    {
     "name": "stdout",
     "output_type": "stream",
     "text": [
      "[INFO] Saved progress up to row 199903\n",
      "[INFO] Processing chunk 198903 to 199403\n"
     ]
    },
    {
     "name": "stderr",
     "output_type": "stream",
     "text": [
      "Batch: 100%|██████████| 500/500 [01:06<00:00,  7.48it/s]\n"
     ]
    },
    {
     "name": "stdout",
     "output_type": "stream",
     "text": [
      "[INFO] Saved progress up to row 199403\n",
      "[INFO] Processing chunk 198403 to 198903\n"
     ]
    },
    {
     "name": "stderr",
     "output_type": "stream",
     "text": [
      "Batch: 100%|██████████| 500/500 [01:01<00:00,  8.19it/s]\n"
     ]
    },
    {
     "name": "stdout",
     "output_type": "stream",
     "text": [
      "[INFO] Saved progress up to row 198903\n",
      "[INFO] Processing chunk 197903 to 198403\n"
     ]
    },
    {
     "name": "stderr",
     "output_type": "stream",
     "text": [
      "Batch: 100%|██████████| 500/500 [01:11<00:00,  6.97it/s]\n"
     ]
    },
    {
     "name": "stdout",
     "output_type": "stream",
     "text": [
      "[INFO] Saved progress up to row 198403\n",
      "[INFO] Processing chunk 197403 to 197903\n"
     ]
    },
    {
     "name": "stderr",
     "output_type": "stream",
     "text": [
      "Batch: 100%|██████████| 500/500 [00:53<00:00,  9.41it/s]\n"
     ]
    },
    {
     "name": "stdout",
     "output_type": "stream",
     "text": [
      "[INFO] Saved progress up to row 197903\n",
      "[INFO] Processing chunk 196903 to 197403\n"
     ]
    },
    {
     "name": "stderr",
     "output_type": "stream",
     "text": [
      "Batch: 100%|██████████| 500/500 [00:51<00:00,  9.63it/s]\n"
     ]
    },
    {
     "name": "stdout",
     "output_type": "stream",
     "text": [
      "[INFO] Saved progress up to row 197403\n",
      "[INFO] Processing chunk 196403 to 196903\n"
     ]
    },
    {
     "name": "stderr",
     "output_type": "stream",
     "text": [
      "Batch: 100%|██████████| 500/500 [00:46<00:00, 10.82it/s]\n"
     ]
    },
    {
     "name": "stdout",
     "output_type": "stream",
     "text": [
      "[INFO] Saved progress up to row 196903\n",
      "[INFO] Processing chunk 195903 to 196403\n"
     ]
    },
    {
     "name": "stderr",
     "output_type": "stream",
     "text": [
      "Batch: 100%|██████████| 500/500 [00:50<00:00,  9.85it/s]\n"
     ]
    },
    {
     "name": "stdout",
     "output_type": "stream",
     "text": [
      "[INFO] Saved progress up to row 196403\n",
      "[INFO] Processing chunk 195403 to 195903\n"
     ]
    },
    {
     "name": "stderr",
     "output_type": "stream",
     "text": [
      "Batch: 100%|██████████| 500/500 [00:57<00:00,  8.68it/s]\n"
     ]
    },
    {
     "name": "stdout",
     "output_type": "stream",
     "text": [
      "[INFO] Saved progress up to row 195903\n",
      "[INFO] Processing chunk 194903 to 195403\n"
     ]
    },
    {
     "name": "stderr",
     "output_type": "stream",
     "text": [
      "Batch: 100%|██████████| 500/500 [00:59<00:00,  8.44it/s]\n"
     ]
    },
    {
     "name": "stdout",
     "output_type": "stream",
     "text": [
      "[INFO] Saved progress up to row 195403\n",
      "[INFO] Processing chunk 194403 to 194903\n"
     ]
    },
    {
     "name": "stderr",
     "output_type": "stream",
     "text": [
      "Batch: 100%|██████████| 500/500 [00:57<00:00,  8.74it/s]\n"
     ]
    },
    {
     "name": "stdout",
     "output_type": "stream",
     "text": [
      "[INFO] Saved progress up to row 194903\n",
      "[INFO] Processing chunk 193903 to 194403\n"
     ]
    },
    {
     "name": "stderr",
     "output_type": "stream",
     "text": [
      "Batch: 100%|██████████| 500/500 [00:51<00:00,  9.67it/s]\n"
     ]
    },
    {
     "name": "stdout",
     "output_type": "stream",
     "text": [
      "[INFO] Saved progress up to row 194403\n",
      "[INFO] Processing chunk 193403 to 193903\n"
     ]
    },
    {
     "name": "stderr",
     "output_type": "stream",
     "text": [
      "Batch: 100%|██████████| 500/500 [00:52<00:00,  9.61it/s]\n"
     ]
    },
    {
     "name": "stdout",
     "output_type": "stream",
     "text": [
      "[INFO] Saved progress up to row 193903\n",
      "[INFO] Processing chunk 192903 to 193403\n"
     ]
    },
    {
     "name": "stderr",
     "output_type": "stream",
     "text": [
      "Batch: 100%|██████████| 500/500 [01:00<00:00,  8.30it/s]\n"
     ]
    },
    {
     "name": "stdout",
     "output_type": "stream",
     "text": [
      "[INFO] Saved progress up to row 193403\n",
      "[INFO] Processing chunk 192403 to 192903\n"
     ]
    },
    {
     "name": "stderr",
     "output_type": "stream",
     "text": [
      "Batch: 100%|██████████| 500/500 [00:53<00:00,  9.38it/s]\n"
     ]
    },
    {
     "name": "stdout",
     "output_type": "stream",
     "text": [
      "[INFO] Saved progress up to row 192903\n",
      "[INFO] Processing chunk 191903 to 192403\n"
     ]
    },
    {
     "name": "stderr",
     "output_type": "stream",
     "text": [
      "Batch: 100%|██████████| 500/500 [00:55<00:00,  8.97it/s]\n"
     ]
    },
    {
     "name": "stdout",
     "output_type": "stream",
     "text": [
      "[INFO] Saved progress up to row 192403\n",
      "[INFO] Processing chunk 191403 to 191903\n"
     ]
    },
    {
     "name": "stderr",
     "output_type": "stream",
     "text": [
      "Batch: 100%|██████████| 500/500 [01:03<00:00,  7.91it/s]\n"
     ]
    },
    {
     "name": "stdout",
     "output_type": "stream",
     "text": [
      "[INFO] Saved progress up to row 191903\n",
      "[INFO] Processing chunk 190903 to 191403\n"
     ]
    },
    {
     "name": "stderr",
     "output_type": "stream",
     "text": [
      "Batch: 100%|██████████| 500/500 [01:07<00:00,  7.46it/s]\n"
     ]
    },
    {
     "name": "stdout",
     "output_type": "stream",
     "text": [
      "[INFO] Saved progress up to row 191403\n",
      "[INFO] Processing chunk 190403 to 190903\n"
     ]
    },
    {
     "name": "stderr",
     "output_type": "stream",
     "text": [
      "Batch: 100%|██████████| 500/500 [00:51<00:00,  9.78it/s]\n"
     ]
    },
    {
     "name": "stdout",
     "output_type": "stream",
     "text": [
      "[INFO] Saved progress up to row 190903\n",
      "[INFO] Processing chunk 189903 to 190403\n"
     ]
    },
    {
     "name": "stderr",
     "output_type": "stream",
     "text": [
      "Batch: 100%|██████████| 500/500 [01:18<00:00,  6.40it/s]\n"
     ]
    },
    {
     "name": "stdout",
     "output_type": "stream",
     "text": [
      "[INFO] Saved progress up to row 190403\n",
      "[INFO] Processing chunk 189403 to 189903\n"
     ]
    },
    {
     "name": "stderr",
     "output_type": "stream",
     "text": [
      "Batch: 100%|██████████| 500/500 [01:49<00:00,  4.57it/s]\n"
     ]
    },
    {
     "name": "stdout",
     "output_type": "stream",
     "text": [
      "[INFO] Saved progress up to row 189903\n",
      "[INFO] Processing chunk 188903 to 189403\n"
     ]
    },
    {
     "name": "stderr",
     "output_type": "stream",
     "text": [
      "Batch: 100%|██████████| 500/500 [01:02<00:00,  8.04it/s]\n"
     ]
    },
    {
     "name": "stdout",
     "output_type": "stream",
     "text": [
      "[INFO] Saved progress up to row 189403\n",
      "[INFO] Processing chunk 188403 to 188903\n"
     ]
    },
    {
     "name": "stderr",
     "output_type": "stream",
     "text": [
      "Batch: 100%|██████████| 500/500 [00:49<00:00, 10.17it/s]\n"
     ]
    },
    {
     "name": "stdout",
     "output_type": "stream",
     "text": [
      "[INFO] Saved progress up to row 188903\n",
      "[INFO] Processing chunk 187903 to 188403\n"
     ]
    },
    {
     "name": "stderr",
     "output_type": "stream",
     "text": [
      "Batch: 100%|██████████| 500/500 [00:57<00:00,  8.70it/s]\n"
     ]
    },
    {
     "name": "stdout",
     "output_type": "stream",
     "text": [
      "[INFO] Saved progress up to row 188403\n",
      "[INFO] Processing chunk 187403 to 187903\n"
     ]
    },
    {
     "name": "stderr",
     "output_type": "stream",
     "text": [
      "Batch: 100%|██████████| 500/500 [00:51<00:00,  9.68it/s]\n"
     ]
    },
    {
     "name": "stdout",
     "output_type": "stream",
     "text": [
      "[INFO] Saved progress up to row 187903\n",
      "[INFO] Processing chunk 186903 to 187403\n"
     ]
    },
    {
     "name": "stderr",
     "output_type": "stream",
     "text": [
      "Batch: 100%|██████████| 500/500 [01:04<00:00,  7.78it/s]\n"
     ]
    },
    {
     "name": "stdout",
     "output_type": "stream",
     "text": [
      "[INFO] Saved progress up to row 187403\n",
      "[INFO] Processing chunk 186403 to 186903\n"
     ]
    },
    {
     "name": "stderr",
     "output_type": "stream",
     "text": [
      "Batch: 100%|██████████| 500/500 [00:55<00:00,  9.01it/s]\n"
     ]
    },
    {
     "name": "stdout",
     "output_type": "stream",
     "text": [
      "[INFO] Saved progress up to row 186903\n",
      "[INFO] Processing chunk 185903 to 186403\n"
     ]
    },
    {
     "name": "stderr",
     "output_type": "stream",
     "text": [
      "Batch: 100%|██████████| 500/500 [00:56<00:00,  8.81it/s]\n"
     ]
    },
    {
     "name": "stdout",
     "output_type": "stream",
     "text": [
      "[INFO] Saved progress up to row 186403\n",
      "[INFO] Processing chunk 185403 to 185903\n"
     ]
    },
    {
     "name": "stderr",
     "output_type": "stream",
     "text": [
      "Batch: 100%|██████████| 500/500 [00:50<00:00,  9.99it/s]\n"
     ]
    },
    {
     "name": "stdout",
     "output_type": "stream",
     "text": [
      "[INFO] Saved progress up to row 185903\n",
      "[INFO] Processing chunk 184903 to 185403\n"
     ]
    },
    {
     "name": "stderr",
     "output_type": "stream",
     "text": [
      "Batch: 100%|██████████| 500/500 [00:59<00:00,  8.43it/s]\n"
     ]
    },
    {
     "name": "stdout",
     "output_type": "stream",
     "text": [
      "[INFO] Saved progress up to row 185403\n",
      "[INFO] Processing chunk 184403 to 184903\n"
     ]
    },
    {
     "name": "stderr",
     "output_type": "stream",
     "text": [
      "Batch: 100%|██████████| 500/500 [00:50<00:00,  9.85it/s]\n"
     ]
    },
    {
     "name": "stdout",
     "output_type": "stream",
     "text": [
      "[INFO] Saved progress up to row 184903\n",
      "[INFO] Processing chunk 183903 to 184403\n"
     ]
    },
    {
     "name": "stderr",
     "output_type": "stream",
     "text": [
      "Batch: 100%|██████████| 500/500 [00:52<00:00,  9.50it/s]\n"
     ]
    },
    {
     "name": "stdout",
     "output_type": "stream",
     "text": [
      "[INFO] Saved progress up to row 184403\n",
      "[INFO] Processing chunk 183403 to 183903\n"
     ]
    },
    {
     "name": "stderr",
     "output_type": "stream",
     "text": [
      "Batch: 100%|██████████| 500/500 [00:52<00:00,  9.59it/s]\n"
     ]
    },
    {
     "name": "stdout",
     "output_type": "stream",
     "text": [
      "[INFO] Saved progress up to row 183903\n",
      "[INFO] Processing chunk 182903 to 183403\n"
     ]
    },
    {
     "name": "stderr",
     "output_type": "stream",
     "text": [
      "Batch: 100%|██████████| 500/500 [00:57<00:00,  8.74it/s]\n"
     ]
    },
    {
     "name": "stdout",
     "output_type": "stream",
     "text": [
      "[INFO] Saved progress up to row 183403\n",
      "[INFO] Processing chunk 182403 to 182903\n"
     ]
    },
    {
     "name": "stderr",
     "output_type": "stream",
     "text": [
      "Batch: 100%|██████████| 500/500 [01:11<00:00,  7.00it/s]\n"
     ]
    },
    {
     "name": "stdout",
     "output_type": "stream",
     "text": [
      "[INFO] Saved progress up to row 182903\n",
      "[INFO] Processing chunk 181903 to 182403\n"
     ]
    },
    {
     "name": "stderr",
     "output_type": "stream",
     "text": [
      "Batch: 100%|██████████| 500/500 [01:14<00:00,  6.74it/s]\n"
     ]
    },
    {
     "name": "stdout",
     "output_type": "stream",
     "text": [
      "[INFO] Saved progress up to row 182403\n",
      "[INFO] Processing chunk 181403 to 181903\n"
     ]
    },
    {
     "name": "stderr",
     "output_type": "stream",
     "text": [
      "Batch: 100%|██████████| 500/500 [01:07<00:00,  7.36it/s]\n"
     ]
    },
    {
     "name": "stdout",
     "output_type": "stream",
     "text": [
      "[INFO] Saved progress up to row 181903\n",
      "[INFO] Processing chunk 180903 to 181403\n"
     ]
    },
    {
     "name": "stderr",
     "output_type": "stream",
     "text": [
      "Batch: 100%|██████████| 500/500 [01:14<00:00,  6.76it/s]\n"
     ]
    },
    {
     "name": "stdout",
     "output_type": "stream",
     "text": [
      "[INFO] Saved progress up to row 181403\n",
      "[INFO] Processing chunk 180403 to 180903\n"
     ]
    },
    {
     "name": "stderr",
     "output_type": "stream",
     "text": [
      "Batch: 100%|██████████| 500/500 [01:00<00:00,  8.31it/s]\n"
     ]
    },
    {
     "name": "stdout",
     "output_type": "stream",
     "text": [
      "[INFO] Saved progress up to row 180903\n",
      "[INFO] Processing chunk 179903 to 180403\n"
     ]
    },
    {
     "name": "stderr",
     "output_type": "stream",
     "text": [
      "Batch: 100%|██████████| 500/500 [00:54<00:00,  9.13it/s]\n"
     ]
    },
    {
     "name": "stdout",
     "output_type": "stream",
     "text": [
      "[INFO] Saved progress up to row 180403\n",
      "[INFO] Processing chunk 179403 to 179903\n"
     ]
    },
    {
     "name": "stderr",
     "output_type": "stream",
     "text": [
      "Batch: 100%|██████████| 500/500 [00:54<00:00,  9.19it/s]\n"
     ]
    },
    {
     "name": "stdout",
     "output_type": "stream",
     "text": [
      "[INFO] Saved progress up to row 179903\n",
      "[INFO] Processing chunk 178903 to 179403\n"
     ]
    },
    {
     "name": "stderr",
     "output_type": "stream",
     "text": [
      "Batch: 100%|██████████| 500/500 [00:55<00:00,  9.08it/s]\n"
     ]
    },
    {
     "name": "stdout",
     "output_type": "stream",
     "text": [
      "[INFO] Saved progress up to row 179403\n",
      "[INFO] Processing chunk 178403 to 178903\n"
     ]
    },
    {
     "name": "stderr",
     "output_type": "stream",
     "text": [
      "Batch: 100%|██████████| 500/500 [01:20<00:00,  6.21it/s]\n"
     ]
    },
    {
     "name": "stdout",
     "output_type": "stream",
     "text": [
      "[INFO] Saved progress up to row 178903\n",
      "[INFO] Processing chunk 177903 to 178403\n"
     ]
    },
    {
     "name": "stderr",
     "output_type": "stream",
     "text": [
      "Batch: 100%|██████████| 500/500 [01:00<00:00,  8.26it/s]\n"
     ]
    },
    {
     "name": "stdout",
     "output_type": "stream",
     "text": [
      "[INFO] Saved progress up to row 178403\n",
      "[INFO] Processing chunk 177403 to 177903\n"
     ]
    },
    {
     "name": "stderr",
     "output_type": "stream",
     "text": [
      "Batch: 100%|██████████| 500/500 [00:51<00:00,  9.76it/s]\n"
     ]
    },
    {
     "name": "stdout",
     "output_type": "stream",
     "text": [
      "[INFO] Saved progress up to row 177903\n",
      "[INFO] Processing chunk 176903 to 177403\n"
     ]
    },
    {
     "name": "stderr",
     "output_type": "stream",
     "text": [
      "Batch: 100%|██████████| 500/500 [01:07<00:00,  7.45it/s]\n"
     ]
    },
    {
     "name": "stdout",
     "output_type": "stream",
     "text": [
      "[INFO] Saved progress up to row 177403\n",
      "[INFO] Processing chunk 176403 to 176903\n"
     ]
    },
    {
     "name": "stderr",
     "output_type": "stream",
     "text": [
      "Batch: 100%|██████████| 500/500 [00:57<00:00,  8.69it/s]\n"
     ]
    },
    {
     "name": "stdout",
     "output_type": "stream",
     "text": [
      "[INFO] Saved progress up to row 176903\n",
      "[INFO] Processing chunk 175903 to 176403\n"
     ]
    },
    {
     "name": "stderr",
     "output_type": "stream",
     "text": [
      "Batch: 100%|██████████| 500/500 [00:50<00:00,  9.93it/s]\n"
     ]
    },
    {
     "name": "stdout",
     "output_type": "stream",
     "text": [
      "[INFO] Saved progress up to row 176403\n",
      "[INFO] Processing chunk 175403 to 175903\n"
     ]
    },
    {
     "name": "stderr",
     "output_type": "stream",
     "text": [
      "Batch: 100%|██████████| 500/500 [01:02<00:00,  8.01it/s]\n"
     ]
    },
    {
     "name": "stdout",
     "output_type": "stream",
     "text": [
      "[INFO] Saved progress up to row 175903\n",
      "[INFO] Processing chunk 174903 to 175403\n"
     ]
    },
    {
     "name": "stderr",
     "output_type": "stream",
     "text": [
      "Batch: 100%|██████████| 500/500 [00:52<00:00,  9.59it/s]\n"
     ]
    },
    {
     "name": "stdout",
     "output_type": "stream",
     "text": [
      "[INFO] Saved progress up to row 175403\n",
      "[INFO] Processing chunk 174403 to 174903\n"
     ]
    },
    {
     "name": "stderr",
     "output_type": "stream",
     "text": [
      "Batch: 100%|██████████| 500/500 [01:01<00:00,  8.14it/s]\n"
     ]
    },
    {
     "name": "stdout",
     "output_type": "stream",
     "text": [
      "[INFO] Saved progress up to row 174903\n",
      "[INFO] Processing chunk 173903 to 174403\n"
     ]
    },
    {
     "name": "stderr",
     "output_type": "stream",
     "text": [
      "Batch: 100%|██████████| 500/500 [00:53<00:00,  9.38it/s]\n"
     ]
    },
    {
     "name": "stdout",
     "output_type": "stream",
     "text": [
      "[INFO] Saved progress up to row 174403\n",
      "[INFO] Processing chunk 173403 to 173903\n"
     ]
    },
    {
     "name": "stderr",
     "output_type": "stream",
     "text": [
      "Batch: 100%|██████████| 500/500 [00:54<00:00,  9.20it/s]\n"
     ]
    },
    {
     "name": "stdout",
     "output_type": "stream",
     "text": [
      "[INFO] Saved progress up to row 173903\n",
      "[INFO] Processing chunk 172903 to 173403\n"
     ]
    },
    {
     "name": "stderr",
     "output_type": "stream",
     "text": [
      "Batch: 100%|██████████| 500/500 [00:50<00:00,  9.93it/s]\n"
     ]
    },
    {
     "name": "stdout",
     "output_type": "stream",
     "text": [
      "[INFO] Saved progress up to row 173403\n",
      "[INFO] Processing chunk 172403 to 172903\n"
     ]
    },
    {
     "name": "stderr",
     "output_type": "stream",
     "text": [
      "Batch: 100%|██████████| 500/500 [01:18<00:00,  6.40it/s]\n"
     ]
    },
    {
     "name": "stdout",
     "output_type": "stream",
     "text": [
      "[INFO] Saved progress up to row 172903\n",
      "[INFO] Processing chunk 171903 to 172403\n"
     ]
    },
    {
     "name": "stderr",
     "output_type": "stream",
     "text": [
      "Batch: 100%|██████████| 500/500 [00:59<00:00,  8.38it/s]\n"
     ]
    },
    {
     "name": "stdout",
     "output_type": "stream",
     "text": [
      "[INFO] Saved progress up to row 172403\n",
      "[INFO] Processing chunk 171403 to 171903\n"
     ]
    },
    {
     "name": "stderr",
     "output_type": "stream",
     "text": [
      "Batch: 100%|██████████| 500/500 [01:01<00:00,  8.17it/s]\n"
     ]
    },
    {
     "name": "stdout",
     "output_type": "stream",
     "text": [
      "[INFO] Saved progress up to row 171903\n",
      "[INFO] Processing chunk 170903 to 171403\n"
     ]
    },
    {
     "name": "stderr",
     "output_type": "stream",
     "text": [
      "Batch: 100%|██████████| 500/500 [00:52<00:00,  9.44it/s]\n"
     ]
    },
    {
     "name": "stdout",
     "output_type": "stream",
     "text": [
      "[INFO] Saved progress up to row 171403\n",
      "[INFO] Processing chunk 170403 to 170903\n"
     ]
    },
    {
     "name": "stderr",
     "output_type": "stream",
     "text": [
      "Batch: 100%|██████████| 500/500 [00:49<00:00, 10.13it/s]\n"
     ]
    },
    {
     "name": "stdout",
     "output_type": "stream",
     "text": [
      "[INFO] Saved progress up to row 170903\n",
      "[INFO] Processing chunk 169903 to 170403\n"
     ]
    },
    {
     "name": "stderr",
     "output_type": "stream",
     "text": [
      "Batch: 100%|██████████| 500/500 [00:47<00:00, 10.42it/s]\n"
     ]
    },
    {
     "name": "stdout",
     "output_type": "stream",
     "text": [
      "[INFO] Saved progress up to row 170403\n",
      "[INFO] Processing chunk 169403 to 169903\n"
     ]
    },
    {
     "name": "stderr",
     "output_type": "stream",
     "text": [
      "Batch: 100%|██████████| 500/500 [00:53<00:00,  9.40it/s]\n"
     ]
    },
    {
     "name": "stdout",
     "output_type": "stream",
     "text": [
      "[INFO] Saved progress up to row 169903\n",
      "[INFO] Processing chunk 168903 to 169403\n"
     ]
    },
    {
     "name": "stderr",
     "output_type": "stream",
     "text": [
      "Batch: 100%|██████████| 500/500 [00:47<00:00, 10.49it/s]\n"
     ]
    },
    {
     "name": "stdout",
     "output_type": "stream",
     "text": [
      "[INFO] Saved progress up to row 169403\n",
      "[INFO] Processing chunk 168403 to 168903\n"
     ]
    },
    {
     "name": "stderr",
     "output_type": "stream",
     "text": [
      "Batch: 100%|██████████| 500/500 [00:50<00:00,  9.89it/s]\n"
     ]
    },
    {
     "name": "stdout",
     "output_type": "stream",
     "text": [
      "[INFO] Saved progress up to row 168903\n",
      "[INFO] Processing chunk 167903 to 168403\n"
     ]
    },
    {
     "name": "stderr",
     "output_type": "stream",
     "text": [
      "Batch: 100%|██████████| 500/500 [01:01<00:00,  8.14it/s]\n"
     ]
    },
    {
     "name": "stdout",
     "output_type": "stream",
     "text": [
      "[INFO] Saved progress up to row 168403\n",
      "[INFO] Processing chunk 167403 to 167903\n"
     ]
    },
    {
     "name": "stderr",
     "output_type": "stream",
     "text": [
      "Batch: 100%|██████████| 500/500 [00:56<00:00,  8.78it/s]\n"
     ]
    },
    {
     "name": "stdout",
     "output_type": "stream",
     "text": [
      "[INFO] Saved progress up to row 167903\n",
      "[INFO] Processing chunk 166903 to 167403\n"
     ]
    },
    {
     "name": "stderr",
     "output_type": "stream",
     "text": [
      "Batch: 100%|██████████| 500/500 [00:58<00:00,  8.47it/s]\n"
     ]
    },
    {
     "name": "stdout",
     "output_type": "stream",
     "text": [
      "[INFO] Saved progress up to row 167403\n",
      "[INFO] Processing chunk 166403 to 166903\n"
     ]
    },
    {
     "name": "stderr",
     "output_type": "stream",
     "text": [
      "Batch: 100%|██████████| 500/500 [01:02<00:00,  8.06it/s]\n"
     ]
    },
    {
     "name": "stdout",
     "output_type": "stream",
     "text": [
      "[INFO] Saved progress up to row 166903\n",
      "[INFO] Processing chunk 165903 to 166403\n"
     ]
    },
    {
     "name": "stderr",
     "output_type": "stream",
     "text": [
      "Batch: 100%|██████████| 500/500 [01:01<00:00,  8.11it/s]\n"
     ]
    },
    {
     "name": "stdout",
     "output_type": "stream",
     "text": [
      "[INFO] Saved progress up to row 166403\n",
      "[INFO] Processing chunk 165403 to 165903\n"
     ]
    },
    {
     "name": "stderr",
     "output_type": "stream",
     "text": [
      "Batch: 100%|██████████| 500/500 [00:49<00:00, 10.18it/s]\n"
     ]
    },
    {
     "name": "stdout",
     "output_type": "stream",
     "text": [
      "[INFO] Saved progress up to row 165903\n",
      "[INFO] Processing chunk 164903 to 165403\n"
     ]
    },
    {
     "name": "stderr",
     "output_type": "stream",
     "text": [
      "Batch: 100%|██████████| 500/500 [00:46<00:00, 10.78it/s]\n"
     ]
    },
    {
     "name": "stdout",
     "output_type": "stream",
     "text": [
      "[INFO] Saved progress up to row 165403\n",
      "[INFO] Processing chunk 164403 to 164903\n"
     ]
    },
    {
     "name": "stderr",
     "output_type": "stream",
     "text": [
      "Batch: 100%|██████████| 500/500 [00:44<00:00, 11.13it/s]\n"
     ]
    },
    {
     "name": "stdout",
     "output_type": "stream",
     "text": [
      "[INFO] Saved progress up to row 164903\n",
      "[INFO] Processing chunk 163903 to 164403\n"
     ]
    },
    {
     "name": "stderr",
     "output_type": "stream",
     "text": [
      "Batch: 100%|██████████| 500/500 [00:47<00:00, 10.56it/s]\n"
     ]
    },
    {
     "name": "stdout",
     "output_type": "stream",
     "text": [
      "[INFO] Saved progress up to row 164403\n",
      "[INFO] Processing chunk 163403 to 163903\n"
     ]
    },
    {
     "name": "stderr",
     "output_type": "stream",
     "text": [
      "Batch: 100%|██████████| 500/500 [00:49<00:00, 10.05it/s]\n"
     ]
    },
    {
     "name": "stdout",
     "output_type": "stream",
     "text": [
      "[INFO] Saved progress up to row 163903\n",
      "[INFO] Processing chunk 162903 to 163403\n"
     ]
    },
    {
     "name": "stderr",
     "output_type": "stream",
     "text": [
      "Batch: 100%|██████████| 500/500 [01:09<00:00,  7.22it/s]\n"
     ]
    },
    {
     "name": "stdout",
     "output_type": "stream",
     "text": [
      "[INFO] Saved progress up to row 163403\n",
      "[INFO] Processing chunk 162403 to 162903\n"
     ]
    },
    {
     "name": "stderr",
     "output_type": "stream",
     "text": [
      "Batch: 100%|██████████| 500/500 [00:53<00:00,  9.36it/s]\n"
     ]
    },
    {
     "name": "stdout",
     "output_type": "stream",
     "text": [
      "[INFO] Saved progress up to row 162903\n",
      "[INFO] Processing chunk 161903 to 162403\n"
     ]
    },
    {
     "name": "stderr",
     "output_type": "stream",
     "text": [
      "Batch: 100%|██████████| 500/500 [01:00<00:00,  8.31it/s]\n"
     ]
    },
    {
     "name": "stdout",
     "output_type": "stream",
     "text": [
      "[INFO] Saved progress up to row 162403\n",
      "[INFO] Processing chunk 161403 to 161903\n"
     ]
    },
    {
     "name": "stderr",
     "output_type": "stream",
     "text": [
      "Batch: 100%|██████████| 500/500 [01:20<00:00,  6.24it/s]\n"
     ]
    },
    {
     "name": "stdout",
     "output_type": "stream",
     "text": [
      "[INFO] Saved progress up to row 161903\n",
      "[INFO] Processing chunk 160903 to 161403\n"
     ]
    },
    {
     "name": "stderr",
     "output_type": "stream",
     "text": [
      "Batch: 100%|██████████| 500/500 [00:58<00:00,  8.58it/s]\n"
     ]
    },
    {
     "name": "stdout",
     "output_type": "stream",
     "text": [
      "[INFO] Saved progress up to row 161403\n",
      "[INFO] Processing chunk 160403 to 160903\n"
     ]
    },
    {
     "name": "stderr",
     "output_type": "stream",
     "text": [
      "Batch: 100%|██████████| 500/500 [00:56<00:00,  8.86it/s]\n"
     ]
    },
    {
     "name": "stdout",
     "output_type": "stream",
     "text": [
      "[INFO] Saved progress up to row 160903\n",
      "[INFO] Processing chunk 159903 to 160403\n"
     ]
    },
    {
     "name": "stderr",
     "output_type": "stream",
     "text": [
      "Batch: 100%|██████████| 500/500 [00:52<00:00,  9.51it/s]\n"
     ]
    },
    {
     "name": "stdout",
     "output_type": "stream",
     "text": [
      "[INFO] Saved progress up to row 160403\n",
      "[INFO] Processing chunk 159403 to 159903\n"
     ]
    },
    {
     "name": "stderr",
     "output_type": "stream",
     "text": [
      "Batch: 100%|██████████| 500/500 [00:48<00:00, 10.32it/s]\n"
     ]
    },
    {
     "name": "stdout",
     "output_type": "stream",
     "text": [
      "[INFO] Saved progress up to row 159903\n",
      "[INFO] Processing chunk 158903 to 159403\n"
     ]
    },
    {
     "name": "stderr",
     "output_type": "stream",
     "text": [
      "Batch: 100%|██████████| 500/500 [00:47<00:00, 10.47it/s]\n"
     ]
    },
    {
     "name": "stdout",
     "output_type": "stream",
     "text": [
      "[INFO] Saved progress up to row 159403\n",
      "[INFO] Processing chunk 158403 to 158903\n"
     ]
    },
    {
     "name": "stderr",
     "output_type": "stream",
     "text": [
      "Batch: 100%|██████████| 500/500 [00:46<00:00, 10.76it/s]\n"
     ]
    },
    {
     "name": "stdout",
     "output_type": "stream",
     "text": [
      "[INFO] Saved progress up to row 158903\n",
      "[INFO] Processing chunk 157903 to 158403\n"
     ]
    },
    {
     "name": "stderr",
     "output_type": "stream",
     "text": [
      "Batch: 100%|██████████| 500/500 [00:52<00:00,  9.56it/s]\n"
     ]
    },
    {
     "name": "stdout",
     "output_type": "stream",
     "text": [
      "[INFO] Saved progress up to row 158403\n",
      "[INFO] Processing chunk 157403 to 157903\n"
     ]
    },
    {
     "name": "stderr",
     "output_type": "stream",
     "text": [
      "Batch: 100%|██████████| 500/500 [00:56<00:00,  8.80it/s]\n"
     ]
    },
    {
     "name": "stdout",
     "output_type": "stream",
     "text": [
      "[INFO] Saved progress up to row 157903\n",
      "[INFO] Processing chunk 156903 to 157403\n"
     ]
    },
    {
     "name": "stderr",
     "output_type": "stream",
     "text": [
      "Batch: 100%|██████████| 500/500 [00:47<00:00, 10.42it/s]\n"
     ]
    },
    {
     "name": "stdout",
     "output_type": "stream",
     "text": [
      "[INFO] Saved progress up to row 157403\n",
      "[INFO] Processing chunk 156403 to 156903\n"
     ]
    },
    {
     "name": "stderr",
     "output_type": "stream",
     "text": [
      "Batch: 100%|██████████| 500/500 [01:03<00:00,  7.92it/s]\n"
     ]
    },
    {
     "name": "stdout",
     "output_type": "stream",
     "text": [
      "[INFO] Saved progress up to row 156903\n",
      "[INFO] Processing chunk 155903 to 156403\n"
     ]
    },
    {
     "name": "stderr",
     "output_type": "stream",
     "text": [
      "Batch: 100%|██████████| 500/500 [00:58<00:00,  8.49it/s]\n"
     ]
    },
    {
     "name": "stdout",
     "output_type": "stream",
     "text": [
      "[INFO] Saved progress up to row 156403\n",
      "[INFO] Processing chunk 155403 to 155903\n"
     ]
    },
    {
     "name": "stderr",
     "output_type": "stream",
     "text": [
      "Batch: 100%|██████████| 500/500 [00:50<00:00,  9.93it/s]\n"
     ]
    },
    {
     "name": "stdout",
     "output_type": "stream",
     "text": [
      "[INFO] Saved progress up to row 155903\n",
      "[INFO] Processing chunk 154903 to 155403\n"
     ]
    },
    {
     "name": "stderr",
     "output_type": "stream",
     "text": [
      "Batch: 100%|██████████| 500/500 [01:04<00:00,  7.81it/s]\n"
     ]
    },
    {
     "name": "stdout",
     "output_type": "stream",
     "text": [
      "[INFO] Saved progress up to row 155403\n",
      "[INFO] Processing chunk 154403 to 154903\n"
     ]
    },
    {
     "name": "stderr",
     "output_type": "stream",
     "text": [
      "Batch: 100%|██████████| 500/500 [00:48<00:00, 10.23it/s]\n"
     ]
    },
    {
     "name": "stdout",
     "output_type": "stream",
     "text": [
      "[INFO] Saved progress up to row 154903\n",
      "[INFO] Processing chunk 153903 to 154403\n"
     ]
    },
    {
     "name": "stderr",
     "output_type": "stream",
     "text": [
      "Batch: 100%|██████████| 500/500 [00:48<00:00, 10.40it/s]\n"
     ]
    },
    {
     "name": "stdout",
     "output_type": "stream",
     "text": [
      "[INFO] Saved progress up to row 154403\n",
      "[INFO] Processing chunk 153403 to 153903\n"
     ]
    },
    {
     "name": "stderr",
     "output_type": "stream",
     "text": [
      "Batch: 100%|██████████| 500/500 [00:51<00:00,  9.73it/s]\n"
     ]
    },
    {
     "name": "stdout",
     "output_type": "stream",
     "text": [
      "[INFO] Saved progress up to row 153903\n",
      "[INFO] Processing chunk 152903 to 153403\n"
     ]
    },
    {
     "name": "stderr",
     "output_type": "stream",
     "text": [
      "Batch: 100%|██████████| 500/500 [00:49<00:00, 10.15it/s]\n"
     ]
    },
    {
     "name": "stdout",
     "output_type": "stream",
     "text": [
      "[INFO] Saved progress up to row 153403\n",
      "[INFO] Processing chunk 152403 to 152903\n"
     ]
    },
    {
     "name": "stderr",
     "output_type": "stream",
     "text": [
      "Batch: 100%|██████████| 500/500 [00:51<00:00,  9.62it/s]\n"
     ]
    },
    {
     "name": "stdout",
     "output_type": "stream",
     "text": [
      "[INFO] Saved progress up to row 152903\n",
      "[INFO] Processing chunk 151903 to 152403\n"
     ]
    },
    {
     "name": "stderr",
     "output_type": "stream",
     "text": [
      "Batch: 100%|██████████| 500/500 [00:53<00:00,  9.40it/s]\n"
     ]
    },
    {
     "name": "stdout",
     "output_type": "stream",
     "text": [
      "[INFO] Saved progress up to row 152403\n",
      "[INFO] Processing chunk 151403 to 151903\n"
     ]
    },
    {
     "name": "stderr",
     "output_type": "stream",
     "text": [
      "Batch: 100%|██████████| 500/500 [01:07<00:00,  7.46it/s]\n"
     ]
    },
    {
     "name": "stdout",
     "output_type": "stream",
     "text": [
      "[INFO] Saved progress up to row 151903\n",
      "[INFO] Processing chunk 150903 to 151403\n"
     ]
    },
    {
     "name": "stderr",
     "output_type": "stream",
     "text": [
      "Batch: 100%|██████████| 500/500 [01:04<00:00,  7.69it/s]\n"
     ]
    },
    {
     "name": "stdout",
     "output_type": "stream",
     "text": [
      "[INFO] Saved progress up to row 151403\n",
      "[INFO] Processing chunk 150403 to 150903\n"
     ]
    },
    {
     "name": "stderr",
     "output_type": "stream",
     "text": [
      "Batch: 100%|██████████| 500/500 [00:55<00:00,  8.95it/s]\n"
     ]
    },
    {
     "name": "stdout",
     "output_type": "stream",
     "text": [
      "[INFO] Saved progress up to row 150903\n",
      "[INFO] Processing chunk 149903 to 150403\n"
     ]
    },
    {
     "name": "stderr",
     "output_type": "stream",
     "text": [
      "Batch: 100%|██████████| 500/500 [00:53<00:00,  9.41it/s]\n"
     ]
    },
    {
     "name": "stdout",
     "output_type": "stream",
     "text": [
      "[INFO] Saved progress up to row 150403\n",
      "[INFO] Processing chunk 149403 to 149903\n"
     ]
    },
    {
     "name": "stderr",
     "output_type": "stream",
     "text": [
      "Batch: 100%|██████████| 500/500 [00:55<00:00,  9.07it/s]\n"
     ]
    },
    {
     "name": "stdout",
     "output_type": "stream",
     "text": [
      "[INFO] Saved progress up to row 149903\n",
      "[INFO] Processing chunk 148903 to 149403\n"
     ]
    },
    {
     "name": "stderr",
     "output_type": "stream",
     "text": [
      "Batch: 100%|██████████| 500/500 [00:51<00:00,  9.65it/s]\n"
     ]
    },
    {
     "name": "stdout",
     "output_type": "stream",
     "text": [
      "[INFO] Saved progress up to row 149403\n",
      "[INFO] Processing chunk 148403 to 148903\n"
     ]
    },
    {
     "name": "stderr",
     "output_type": "stream",
     "text": [
      "Batch: 100%|██████████| 500/500 [00:54<00:00,  9.23it/s]\n"
     ]
    },
    {
     "name": "stdout",
     "output_type": "stream",
     "text": [
      "[INFO] Saved progress up to row 148903\n",
      "[INFO] Processing chunk 147903 to 148403\n"
     ]
    },
    {
     "name": "stderr",
     "output_type": "stream",
     "text": [
      "Batch: 100%|██████████| 500/500 [00:45<00:00, 11.04it/s]\n"
     ]
    },
    {
     "name": "stdout",
     "output_type": "stream",
     "text": [
      "[INFO] Saved progress up to row 148403\n",
      "[INFO] Processing chunk 147403 to 147903\n"
     ]
    },
    {
     "name": "stderr",
     "output_type": "stream",
     "text": [
      "Batch: 100%|██████████| 500/500 [00:48<00:00, 10.30it/s]\n"
     ]
    },
    {
     "name": "stdout",
     "output_type": "stream",
     "text": [
      "[INFO] Saved progress up to row 147903\n",
      "[INFO] Processing chunk 146903 to 147403\n"
     ]
    },
    {
     "name": "stderr",
     "output_type": "stream",
     "text": [
      "Batch: 100%|██████████| 500/500 [01:15<00:00,  6.66it/s]\n"
     ]
    },
    {
     "name": "stdout",
     "output_type": "stream",
     "text": [
      "[INFO] Saved progress up to row 147403\n",
      "[INFO] Processing chunk 146403 to 146903\n"
     ]
    },
    {
     "name": "stderr",
     "output_type": "stream",
     "text": [
      "Batch: 100%|██████████| 500/500 [00:52<00:00,  9.53it/s]\n"
     ]
    },
    {
     "name": "stdout",
     "output_type": "stream",
     "text": [
      "[INFO] Saved progress up to row 146903\n",
      "[INFO] Processing chunk 145903 to 146403\n"
     ]
    },
    {
     "name": "stderr",
     "output_type": "stream",
     "text": [
      "Batch: 100%|██████████| 500/500 [00:46<00:00, 10.85it/s]\n"
     ]
    },
    {
     "name": "stdout",
     "output_type": "stream",
     "text": [
      "[INFO] Saved progress up to row 146403\n",
      "[INFO] Processing chunk 145403 to 145903\n"
     ]
    },
    {
     "name": "stderr",
     "output_type": "stream",
     "text": [
      "Batch: 100%|██████████| 500/500 [00:52<00:00,  9.57it/s]\n"
     ]
    },
    {
     "name": "stdout",
     "output_type": "stream",
     "text": [
      "[INFO] Saved progress up to row 145903\n",
      "[INFO] Processing chunk 144903 to 145403\n"
     ]
    },
    {
     "name": "stderr",
     "output_type": "stream",
     "text": [
      "Batch: 100%|██████████| 500/500 [00:51<00:00,  9.62it/s]\n"
     ]
    },
    {
     "name": "stdout",
     "output_type": "stream",
     "text": [
      "[INFO] Saved progress up to row 145403\n",
      "[INFO] Processing chunk 144403 to 144903\n"
     ]
    },
    {
     "name": "stderr",
     "output_type": "stream",
     "text": [
      "Batch: 100%|██████████| 500/500 [00:49<00:00, 10.15it/s]\n"
     ]
    },
    {
     "name": "stdout",
     "output_type": "stream",
     "text": [
      "[INFO] Saved progress up to row 144903\n",
      "[INFO] Processing chunk 143903 to 144403\n"
     ]
    },
    {
     "name": "stderr",
     "output_type": "stream",
     "text": [
      "Batch: 100%|██████████| 500/500 [00:44<00:00, 11.16it/s]\n"
     ]
    },
    {
     "name": "stdout",
     "output_type": "stream",
     "text": [
      "[INFO] Saved progress up to row 144403\n",
      "[INFO] Processing chunk 143403 to 143903\n"
     ]
    },
    {
     "name": "stderr",
     "output_type": "stream",
     "text": [
      "Batch: 100%|██████████| 500/500 [00:46<00:00, 10.80it/s]\n"
     ]
    },
    {
     "name": "stdout",
     "output_type": "stream",
     "text": [
      "[INFO] Saved progress up to row 143903\n",
      "[INFO] Processing chunk 142903 to 143403\n"
     ]
    },
    {
     "name": "stderr",
     "output_type": "stream",
     "text": [
      "Batch: 100%|██████████| 500/500 [00:56<00:00,  8.83it/s]\n"
     ]
    },
    {
     "name": "stdout",
     "output_type": "stream",
     "text": [
      "[INFO] Saved progress up to row 143403\n",
      "[INFO] Processing chunk 142403 to 142903\n"
     ]
    },
    {
     "name": "stderr",
     "output_type": "stream",
     "text": [
      "Batch: 100%|██████████| 500/500 [01:05<00:00,  7.58it/s]\n"
     ]
    },
    {
     "name": "stdout",
     "output_type": "stream",
     "text": [
      "[INFO] Saved progress up to row 142903\n",
      "[INFO] Processing chunk 141903 to 142403\n"
     ]
    },
    {
     "name": "stderr",
     "output_type": "stream",
     "text": [
      "Batch: 100%|██████████| 500/500 [00:52<00:00,  9.57it/s]\n"
     ]
    },
    {
     "name": "stdout",
     "output_type": "stream",
     "text": [
      "[INFO] Saved progress up to row 142403\n",
      "[INFO] Processing chunk 141403 to 141903\n"
     ]
    },
    {
     "name": "stderr",
     "output_type": "stream",
     "text": [
      "Batch: 100%|██████████| 500/500 [00:32<00:00, 15.40it/s]\n"
     ]
    },
    {
     "name": "stdout",
     "output_type": "stream",
     "text": [
      "[INFO] Saved progress up to row 141903\n",
      "[INFO] Processing chunk 140903 to 141403\n"
     ]
    },
    {
     "name": "stderr",
     "output_type": "stream",
     "text": [
      "Batch: 100%|██████████| 500/500 [00:30<00:00, 16.21it/s]\n"
     ]
    },
    {
     "name": "stdout",
     "output_type": "stream",
     "text": [
      "[INFO] Saved progress up to row 141403\n",
      "[INFO] Processing chunk 140403 to 140903\n"
     ]
    },
    {
     "name": "stderr",
     "output_type": "stream",
     "text": [
      "Batch: 100%|██████████| 500/500 [00:30<00:00, 16.65it/s]\n"
     ]
    },
    {
     "name": "stdout",
     "output_type": "stream",
     "text": [
      "[INFO] Saved progress up to row 140903\n",
      "[INFO] Processing chunk 139903 to 140403\n"
     ]
    },
    {
     "name": "stderr",
     "output_type": "stream",
     "text": [
      "Batch: 100%|██████████| 500/500 [00:29<00:00, 16.86it/s]\n"
     ]
    },
    {
     "name": "stdout",
     "output_type": "stream",
     "text": [
      "[INFO] Saved progress up to row 140403\n",
      "[INFO] Processing chunk 139403 to 139903\n"
     ]
    },
    {
     "name": "stderr",
     "output_type": "stream",
     "text": [
      "Batch: 100%|██████████| 500/500 [00:35<00:00, 13.92it/s]\n"
     ]
    },
    {
     "name": "stdout",
     "output_type": "stream",
     "text": [
      "[INFO] Saved progress up to row 139903\n",
      "[INFO] Processing chunk 138903 to 139403\n"
     ]
    },
    {
     "name": "stderr",
     "output_type": "stream",
     "text": [
      "Batch: 100%|██████████| 500/500 [00:33<00:00, 14.89it/s]\n"
     ]
    },
    {
     "name": "stdout",
     "output_type": "stream",
     "text": [
      "[INFO] Saved progress up to row 139403\n",
      "[INFO] Processing chunk 138403 to 138903\n"
     ]
    },
    {
     "name": "stderr",
     "output_type": "stream",
     "text": [
      "Batch: 100%|██████████| 500/500 [00:31<00:00, 16.03it/s]\n"
     ]
    },
    {
     "name": "stdout",
     "output_type": "stream",
     "text": [
      "[INFO] Saved progress up to row 138903\n",
      "[INFO] Processing chunk 137903 to 138403\n"
     ]
    },
    {
     "name": "stderr",
     "output_type": "stream",
     "text": [
      "Batch: 100%|██████████| 500/500 [00:35<00:00, 14.17it/s]\n"
     ]
    },
    {
     "name": "stdout",
     "output_type": "stream",
     "text": [
      "[INFO] Saved progress up to row 138403\n",
      "[INFO] Processing chunk 137403 to 137903\n"
     ]
    },
    {
     "name": "stderr",
     "output_type": "stream",
     "text": [
      "Batch: 100%|██████████| 500/500 [00:32<00:00, 15.22it/s]\n"
     ]
    },
    {
     "name": "stdout",
     "output_type": "stream",
     "text": [
      "[INFO] Saved progress up to row 137903\n",
      "[INFO] Processing chunk 136903 to 137403\n"
     ]
    },
    {
     "name": "stderr",
     "output_type": "stream",
     "text": [
      "Batch: 100%|██████████| 500/500 [00:36<00:00, 13.78it/s]\n"
     ]
    },
    {
     "name": "stdout",
     "output_type": "stream",
     "text": [
      "[INFO] Saved progress up to row 137403\n",
      "[INFO] Processing chunk 136403 to 136903\n"
     ]
    },
    {
     "name": "stderr",
     "output_type": "stream",
     "text": [
      "Batch: 100%|██████████| 500/500 [00:41<00:00, 12.13it/s]\n"
     ]
    },
    {
     "name": "stdout",
     "output_type": "stream",
     "text": [
      "[INFO] Saved progress up to row 136903\n",
      "[INFO] Processing chunk 135903 to 136403\n"
     ]
    },
    {
     "name": "stderr",
     "output_type": "stream",
     "text": [
      "Batch: 100%|██████████| 500/500 [00:30<00:00, 16.37it/s]\n"
     ]
    },
    {
     "name": "stdout",
     "output_type": "stream",
     "text": [
      "[INFO] Saved progress up to row 136403\n",
      "[INFO] Processing chunk 135403 to 135903\n"
     ]
    },
    {
     "name": "stderr",
     "output_type": "stream",
     "text": [
      "Batch: 100%|██████████| 500/500 [00:28<00:00, 17.46it/s]\n"
     ]
    },
    {
     "name": "stdout",
     "output_type": "stream",
     "text": [
      "[INFO] Saved progress up to row 135903\n",
      "[INFO] Processing chunk 134903 to 135403\n"
     ]
    },
    {
     "name": "stderr",
     "output_type": "stream",
     "text": [
      "Batch: 100%|██████████| 500/500 [00:33<00:00, 15.15it/s]\n"
     ]
    },
    {
     "name": "stdout",
     "output_type": "stream",
     "text": [
      "[INFO] Saved progress up to row 135403\n",
      "[INFO] Processing chunk 134403 to 134903\n"
     ]
    },
    {
     "name": "stderr",
     "output_type": "stream",
     "text": [
      "Batch: 100%|██████████| 500/500 [00:37<00:00, 13.26it/s]\n"
     ]
    },
    {
     "name": "stdout",
     "output_type": "stream",
     "text": [
      "[INFO] Saved progress up to row 134903\n",
      "[INFO] Processing chunk 133903 to 134403\n"
     ]
    },
    {
     "name": "stderr",
     "output_type": "stream",
     "text": [
      "Batch: 100%|██████████| 500/500 [00:31<00:00, 15.63it/s]\n"
     ]
    },
    {
     "name": "stdout",
     "output_type": "stream",
     "text": [
      "[INFO] Saved progress up to row 134403\n",
      "[INFO] Processing chunk 133403 to 133903\n"
     ]
    },
    {
     "name": "stderr",
     "output_type": "stream",
     "text": [
      "Batch: 100%|██████████| 500/500 [00:32<00:00, 15.29it/s]\n"
     ]
    },
    {
     "name": "stdout",
     "output_type": "stream",
     "text": [
      "[INFO] Saved progress up to row 133903\n",
      "[INFO] Processing chunk 132903 to 133403\n"
     ]
    },
    {
     "name": "stderr",
     "output_type": "stream",
     "text": [
      "Batch: 100%|██████████| 500/500 [00:36<00:00, 13.85it/s]\n"
     ]
    },
    {
     "name": "stdout",
     "output_type": "stream",
     "text": [
      "[INFO] Saved progress up to row 133403\n",
      "[INFO] Processing chunk 132403 to 132903\n"
     ]
    },
    {
     "name": "stderr",
     "output_type": "stream",
     "text": [
      "Batch: 100%|██████████| 500/500 [00:33<00:00, 14.97it/s]\n"
     ]
    },
    {
     "name": "stdout",
     "output_type": "stream",
     "text": [
      "[INFO] Saved progress up to row 132903\n",
      "[INFO] Processing chunk 131903 to 132403\n"
     ]
    },
    {
     "name": "stderr",
     "output_type": "stream",
     "text": [
      "Batch: 100%|██████████| 500/500 [00:33<00:00, 15.11it/s]\n"
     ]
    },
    {
     "name": "stdout",
     "output_type": "stream",
     "text": [
      "[INFO] Saved progress up to row 132403\n",
      "[INFO] Processing chunk 131403 to 131903\n"
     ]
    },
    {
     "name": "stderr",
     "output_type": "stream",
     "text": [
      "Batch: 100%|██████████| 500/500 [00:46<00:00, 10.65it/s]\n"
     ]
    },
    {
     "name": "stdout",
     "output_type": "stream",
     "text": [
      "[INFO] Saved progress up to row 131903\n",
      "[INFO] Processing chunk 130903 to 131403\n"
     ]
    },
    {
     "name": "stderr",
     "output_type": "stream",
     "text": [
      "Batch: 100%|██████████| 500/500 [00:36<00:00, 13.79it/s]\n"
     ]
    },
    {
     "name": "stdout",
     "output_type": "stream",
     "text": [
      "[INFO] Saved progress up to row 131403\n",
      "[INFO] Processing chunk 130403 to 130903\n"
     ]
    },
    {
     "name": "stderr",
     "output_type": "stream",
     "text": [
      "Batch: 100%|██████████| 500/500 [00:32<00:00, 15.42it/s]\n"
     ]
    },
    {
     "name": "stdout",
     "output_type": "stream",
     "text": [
      "[INFO] Saved progress up to row 130903\n",
      "[INFO] Processing chunk 129903 to 130403\n"
     ]
    },
    {
     "name": "stderr",
     "output_type": "stream",
     "text": [
      "Batch: 100%|██████████| 500/500 [00:31<00:00, 15.69it/s]\n"
     ]
    },
    {
     "name": "stdout",
     "output_type": "stream",
     "text": [
      "[INFO] Saved progress up to row 130403\n",
      "[INFO] Processing chunk 129403 to 129903\n"
     ]
    },
    {
     "name": "stderr",
     "output_type": "stream",
     "text": [
      "Batch: 100%|██████████| 500/500 [00:35<00:00, 14.11it/s]\n"
     ]
    },
    {
     "name": "stdout",
     "output_type": "stream",
     "text": [
      "[INFO] Saved progress up to row 129903\n",
      "[INFO] Processing chunk 128903 to 129403\n"
     ]
    },
    {
     "name": "stderr",
     "output_type": "stream",
     "text": [
      "Batch: 100%|██████████| 500/500 [00:31<00:00, 15.79it/s]\n"
     ]
    },
    {
     "name": "stdout",
     "output_type": "stream",
     "text": [
      "[INFO] Saved progress up to row 129403\n",
      "[INFO] Processing chunk 128403 to 128903\n"
     ]
    },
    {
     "name": "stderr",
     "output_type": "stream",
     "text": [
      "Batch: 100%|██████████| 500/500 [00:31<00:00, 15.77it/s]\n"
     ]
    },
    {
     "name": "stdout",
     "output_type": "stream",
     "text": [
      "[INFO] Saved progress up to row 128903\n",
      "[INFO] Processing chunk 127903 to 128403\n"
     ]
    },
    {
     "name": "stderr",
     "output_type": "stream",
     "text": [
      "Batch: 100%|██████████| 500/500 [00:40<00:00, 12.39it/s]\n"
     ]
    },
    {
     "name": "stdout",
     "output_type": "stream",
     "text": [
      "[INFO] Saved progress up to row 128403\n",
      "[INFO] Processing chunk 127403 to 127903\n"
     ]
    },
    {
     "name": "stderr",
     "output_type": "stream",
     "text": [
      "Batch: 100%|██████████| 500/500 [00:33<00:00, 14.95it/s]\n"
     ]
    },
    {
     "name": "stdout",
     "output_type": "stream",
     "text": [
      "[INFO] Saved progress up to row 127903\n",
      "[INFO] Processing chunk 126903 to 127403\n"
     ]
    },
    {
     "name": "stderr",
     "output_type": "stream",
     "text": [
      "Batch: 100%|██████████| 500/500 [00:29<00:00, 17.20it/s]\n"
     ]
    },
    {
     "name": "stdout",
     "output_type": "stream",
     "text": [
      "[INFO] Saved progress up to row 127403\n",
      "[INFO] Processing chunk 126403 to 126903\n"
     ]
    },
    {
     "name": "stderr",
     "output_type": "stream",
     "text": [
      "Batch: 100%|██████████| 500/500 [00:45<00:00, 11.02it/s]\n"
     ]
    },
    {
     "name": "stdout",
     "output_type": "stream",
     "text": [
      "[INFO] Saved progress up to row 126903\n",
      "[INFO] Processing chunk 125903 to 126403\n"
     ]
    },
    {
     "name": "stderr",
     "output_type": "stream",
     "text": [
      "Batch: 100%|██████████| 500/500 [00:36<00:00, 13.63it/s]\n"
     ]
    },
    {
     "name": "stdout",
     "output_type": "stream",
     "text": [
      "[INFO] Saved progress up to row 126403\n",
      "[INFO] Processing chunk 125403 to 125903\n"
     ]
    },
    {
     "name": "stderr",
     "output_type": "stream",
     "text": [
      "Batch: 100%|██████████| 500/500 [00:34<00:00, 14.43it/s]\n"
     ]
    },
    {
     "name": "stdout",
     "output_type": "stream",
     "text": [
      "[INFO] Saved progress up to row 125903\n",
      "[INFO] Processing chunk 124903 to 125403\n"
     ]
    },
    {
     "name": "stderr",
     "output_type": "stream",
     "text": [
      "Batch: 100%|██████████| 500/500 [00:37<00:00, 13.48it/s]\n"
     ]
    },
    {
     "name": "stdout",
     "output_type": "stream",
     "text": [
      "[INFO] Saved progress up to row 125403\n",
      "[INFO] Processing chunk 124403 to 124903\n"
     ]
    },
    {
     "name": "stderr",
     "output_type": "stream",
     "text": [
      "Batch: 100%|██████████| 500/500 [00:37<00:00, 13.50it/s]\n"
     ]
    },
    {
     "name": "stdout",
     "output_type": "stream",
     "text": [
      "[INFO] Saved progress up to row 124903\n",
      "[INFO] Processing chunk 123903 to 124403\n"
     ]
    },
    {
     "name": "stderr",
     "output_type": "stream",
     "text": [
      "Batch: 100%|██████████| 500/500 [00:41<00:00, 11.99it/s]\n"
     ]
    },
    {
     "name": "stdout",
     "output_type": "stream",
     "text": [
      "[INFO] Saved progress up to row 124403\n",
      "[INFO] Processing chunk 123403 to 123903\n"
     ]
    },
    {
     "name": "stderr",
     "output_type": "stream",
     "text": [
      "Batch: 100%|██████████| 500/500 [00:37<00:00, 13.23it/s]\n"
     ]
    },
    {
     "name": "stdout",
     "output_type": "stream",
     "text": [
      "[INFO] Saved progress up to row 123903\n",
      "[INFO] Processing chunk 122903 to 123403\n"
     ]
    },
    {
     "name": "stderr",
     "output_type": "stream",
     "text": [
      "Batch: 100%|██████████| 500/500 [00:49<00:00, 10.15it/s]\n"
     ]
    },
    {
     "name": "stdout",
     "output_type": "stream",
     "text": [
      "[INFO] Saved progress up to row 123403\n",
      "[INFO] Processing chunk 122403 to 122903\n"
     ]
    },
    {
     "name": "stderr",
     "output_type": "stream",
     "text": [
      "Batch: 100%|██████████| 500/500 [00:54<00:00,  9.14it/s]\n"
     ]
    },
    {
     "name": "stdout",
     "output_type": "stream",
     "text": [
      "[INFO] Saved progress up to row 122903\n",
      "[INFO] Processing chunk 121903 to 122403\n"
     ]
    },
    {
     "name": "stderr",
     "output_type": "stream",
     "text": [
      "Batch: 100%|██████████| 500/500 [00:42<00:00, 11.81it/s]\n"
     ]
    },
    {
     "name": "stdout",
     "output_type": "stream",
     "text": [
      "[INFO] Saved progress up to row 122403\n",
      "[INFO] Processing chunk 121403 to 121903\n"
     ]
    },
    {
     "name": "stderr",
     "output_type": "stream",
     "text": [
      "Batch: 100%|██████████| 500/500 [00:29<00:00, 16.69it/s]\n"
     ]
    },
    {
     "name": "stdout",
     "output_type": "stream",
     "text": [
      "[INFO] Saved progress up to row 121903\n",
      "[INFO] Processing chunk 120903 to 121403\n"
     ]
    },
    {
     "name": "stderr",
     "output_type": "stream",
     "text": [
      "Batch: 100%|██████████| 500/500 [00:31<00:00, 16.01it/s]\n"
     ]
    },
    {
     "name": "stdout",
     "output_type": "stream",
     "text": [
      "[INFO] Saved progress up to row 121403\n",
      "[INFO] Processing chunk 120403 to 120903\n"
     ]
    },
    {
     "name": "stderr",
     "output_type": "stream",
     "text": [
      "Batch: 100%|██████████| 500/500 [00:29<00:00, 16.81it/s]\n"
     ]
    },
    {
     "name": "stdout",
     "output_type": "stream",
     "text": [
      "[INFO] Saved progress up to row 120903\n",
      "[INFO] Processing chunk 119903 to 120403\n"
     ]
    },
    {
     "name": "stderr",
     "output_type": "stream",
     "text": [
      "Batch: 100%|██████████| 500/500 [00:29<00:00, 16.94it/s]\n"
     ]
    },
    {
     "name": "stdout",
     "output_type": "stream",
     "text": [
      "[INFO] Saved progress up to row 120403\n",
      "[INFO] Processing chunk 119403 to 119903\n"
     ]
    },
    {
     "name": "stderr",
     "output_type": "stream",
     "text": [
      "Batch: 100%|██████████| 500/500 [00:31<00:00, 16.07it/s]\n"
     ]
    },
    {
     "name": "stdout",
     "output_type": "stream",
     "text": [
      "[INFO] Saved progress up to row 119903\n",
      "[INFO] Processing chunk 118903 to 119403\n"
     ]
    },
    {
     "name": "stderr",
     "output_type": "stream",
     "text": [
      "Batch: 100%|██████████| 500/500 [00:31<00:00, 15.71it/s]\n"
     ]
    },
    {
     "name": "stdout",
     "output_type": "stream",
     "text": [
      "[INFO] Saved progress up to row 119403\n",
      "[INFO] Processing chunk 118403 to 118903\n"
     ]
    },
    {
     "name": "stderr",
     "output_type": "stream",
     "text": [
      "Batch: 100%|██████████| 500/500 [00:34<00:00, 14.50it/s]\n"
     ]
    },
    {
     "name": "stdout",
     "output_type": "stream",
     "text": [
      "[INFO] Saved progress up to row 118903\n",
      "[INFO] Processing chunk 117903 to 118403\n"
     ]
    },
    {
     "name": "stderr",
     "output_type": "stream",
     "text": [
      "Batch: 100%|██████████| 500/500 [00:31<00:00, 15.98it/s]\n"
     ]
    },
    {
     "name": "stdout",
     "output_type": "stream",
     "text": [
      "[INFO] Saved progress up to row 118403\n",
      "[INFO] Processing chunk 117403 to 117903\n"
     ]
    },
    {
     "name": "stderr",
     "output_type": "stream",
     "text": [
      "Batch: 100%|██████████| 500/500 [00:39<00:00, 12.70it/s]\n"
     ]
    },
    {
     "name": "stdout",
     "output_type": "stream",
     "text": [
      "[INFO] Saved progress up to row 117903\n",
      "[INFO] Processing chunk 116903 to 117403\n"
     ]
    },
    {
     "name": "stderr",
     "output_type": "stream",
     "text": [
      "Batch: 100%|██████████| 500/500 [00:45<00:00, 11.11it/s]\n"
     ]
    },
    {
     "name": "stdout",
     "output_type": "stream",
     "text": [
      "[INFO] Saved progress up to row 117403\n",
      "[INFO] Processing chunk 116403 to 116903\n"
     ]
    },
    {
     "name": "stderr",
     "output_type": "stream",
     "text": [
      "Batch: 100%|██████████| 500/500 [00:31<00:00, 15.63it/s]\n"
     ]
    },
    {
     "name": "stdout",
     "output_type": "stream",
     "text": [
      "[INFO] Saved progress up to row 116903\n",
      "[INFO] Processing chunk 115903 to 116403\n"
     ]
    },
    {
     "name": "stderr",
     "output_type": "stream",
     "text": [
      "Batch: 100%|██████████| 500/500 [00:28<00:00, 17.72it/s]\n"
     ]
    },
    {
     "name": "stdout",
     "output_type": "stream",
     "text": [
      "[INFO] Saved progress up to row 116403\n",
      "[INFO] Processing chunk 115403 to 115903\n"
     ]
    },
    {
     "name": "stderr",
     "output_type": "stream",
     "text": [
      "Batch: 100%|██████████| 500/500 [00:27<00:00, 18.03it/s]\n"
     ]
    },
    {
     "name": "stdout",
     "output_type": "stream",
     "text": [
      "[INFO] Saved progress up to row 115903\n",
      "[INFO] Processing chunk 114903 to 115403\n"
     ]
    },
    {
     "name": "stderr",
     "output_type": "stream",
     "text": [
      "Batch: 100%|██████████| 500/500 [00:30<00:00, 16.13it/s]\n"
     ]
    },
    {
     "name": "stdout",
     "output_type": "stream",
     "text": [
      "[INFO] Saved progress up to row 115403\n",
      "[INFO] Processing chunk 114403 to 114903\n"
     ]
    },
    {
     "name": "stderr",
     "output_type": "stream",
     "text": [
      "Batch: 100%|██████████| 500/500 [00:29<00:00, 17.04it/s]\n"
     ]
    },
    {
     "name": "stdout",
     "output_type": "stream",
     "text": [
      "[INFO] Saved progress up to row 114903\n",
      "[INFO] Processing chunk 113903 to 114403\n"
     ]
    },
    {
     "name": "stderr",
     "output_type": "stream",
     "text": [
      "Batch: 100%|██████████| 500/500 [00:41<00:00, 11.92it/s]\n"
     ]
    },
    {
     "name": "stdout",
     "output_type": "stream",
     "text": [
      "[INFO] Saved progress up to row 114403\n",
      "[INFO] Processing chunk 113403 to 113903\n"
     ]
    },
    {
     "name": "stderr",
     "output_type": "stream",
     "text": [
      "Batch: 100%|██████████| 500/500 [00:34<00:00, 14.69it/s]\n"
     ]
    },
    {
     "name": "stdout",
     "output_type": "stream",
     "text": [
      "[INFO] Saved progress up to row 113903\n",
      "[INFO] Processing chunk 112903 to 113403\n"
     ]
    },
    {
     "name": "stderr",
     "output_type": "stream",
     "text": [
      "Batch: 100%|██████████| 500/500 [00:30<00:00, 16.24it/s]\n"
     ]
    },
    {
     "name": "stdout",
     "output_type": "stream",
     "text": [
      "[INFO] Saved progress up to row 113403\n",
      "[INFO] Processing chunk 112403 to 112903\n"
     ]
    },
    {
     "name": "stderr",
     "output_type": "stream",
     "text": [
      "Batch: 100%|██████████| 500/500 [00:31<00:00, 15.77it/s]\n"
     ]
    },
    {
     "name": "stdout",
     "output_type": "stream",
     "text": [
      "[INFO] Saved progress up to row 112903\n",
      "[INFO] Processing chunk 111903 to 112403\n"
     ]
    },
    {
     "name": "stderr",
     "output_type": "stream",
     "text": [
      "Batch: 100%|██████████| 500/500 [00:31<00:00, 15.75it/s]\n"
     ]
    },
    {
     "name": "stdout",
     "output_type": "stream",
     "text": [
      "[INFO] Saved progress up to row 112403\n",
      "[INFO] Processing chunk 111403 to 111903\n"
     ]
    },
    {
     "name": "stderr",
     "output_type": "stream",
     "text": [
      "Batch: 100%|██████████| 500/500 [00:36<00:00, 13.56it/s]\n"
     ]
    },
    {
     "name": "stdout",
     "output_type": "stream",
     "text": [
      "[INFO] Saved progress up to row 111903\n",
      "[INFO] Processing chunk 110903 to 111403\n"
     ]
    },
    {
     "name": "stderr",
     "output_type": "stream",
     "text": [
      "Batch: 100%|██████████| 500/500 [00:31<00:00, 15.75it/s]\n"
     ]
    },
    {
     "name": "stdout",
     "output_type": "stream",
     "text": [
      "[INFO] Saved progress up to row 111403\n",
      "[INFO] Processing chunk 110403 to 110903\n"
     ]
    },
    {
     "name": "stderr",
     "output_type": "stream",
     "text": [
      "Batch: 100%|██████████| 500/500 [00:39<00:00, 12.55it/s]\n"
     ]
    },
    {
     "name": "stdout",
     "output_type": "stream",
     "text": [
      "[INFO] Saved progress up to row 110903\n",
      "[INFO] Processing chunk 109903 to 110403\n"
     ]
    },
    {
     "name": "stderr",
     "output_type": "stream",
     "text": [
      "Batch: 100%|██████████| 500/500 [00:40<00:00, 12.25it/s]\n"
     ]
    },
    {
     "name": "stdout",
     "output_type": "stream",
     "text": [
      "[INFO] Saved progress up to row 110403\n",
      "[INFO] Processing chunk 109403 to 109903\n"
     ]
    },
    {
     "name": "stderr",
     "output_type": "stream",
     "text": [
      "Batch: 100%|██████████| 500/500 [00:32<00:00, 15.47it/s]\n"
     ]
    },
    {
     "name": "stdout",
     "output_type": "stream",
     "text": [
      "[INFO] Saved progress up to row 109903\n",
      "[INFO] Processing chunk 108903 to 109403\n"
     ]
    },
    {
     "name": "stderr",
     "output_type": "stream",
     "text": [
      "Batch: 100%|██████████| 500/500 [00:29<00:00, 16.79it/s]\n"
     ]
    },
    {
     "name": "stdout",
     "output_type": "stream",
     "text": [
      "[INFO] Saved progress up to row 109403\n",
      "[INFO] Processing chunk 108403 to 108903\n"
     ]
    },
    {
     "name": "stderr",
     "output_type": "stream",
     "text": [
      "Batch: 100%|██████████| 500/500 [00:35<00:00, 13.97it/s]\n"
     ]
    },
    {
     "name": "stdout",
     "output_type": "stream",
     "text": [
      "[INFO] Saved progress up to row 108903\n",
      "[INFO] Processing chunk 107903 to 108403\n"
     ]
    },
    {
     "name": "stderr",
     "output_type": "stream",
     "text": [
      "Batch: 100%|██████████| 500/500 [00:32<00:00, 15.29it/s]\n"
     ]
    },
    {
     "name": "stdout",
     "output_type": "stream",
     "text": [
      "[INFO] Saved progress up to row 108403\n",
      "[INFO] Processing chunk 107403 to 107903\n"
     ]
    },
    {
     "name": "stderr",
     "output_type": "stream",
     "text": [
      "Batch: 100%|██████████| 500/500 [00:36<00:00, 13.88it/s]\n"
     ]
    },
    {
     "name": "stdout",
     "output_type": "stream",
     "text": [
      "[INFO] Saved progress up to row 107903\n",
      "[INFO] Processing chunk 106903 to 107403\n"
     ]
    },
    {
     "name": "stderr",
     "output_type": "stream",
     "text": [
      "Batch: 100%|██████████| 500/500 [00:34<00:00, 14.69it/s]\n"
     ]
    },
    {
     "name": "stdout",
     "output_type": "stream",
     "text": [
      "[INFO] Saved progress up to row 107403\n",
      "[INFO] Processing chunk 106403 to 106903\n"
     ]
    },
    {
     "name": "stderr",
     "output_type": "stream",
     "text": [
      "Batch: 100%|██████████| 500/500 [00:38<00:00, 13.06it/s]\n"
     ]
    },
    {
     "name": "stdout",
     "output_type": "stream",
     "text": [
      "[INFO] Saved progress up to row 106903\n",
      "[INFO] Processing chunk 105903 to 106403\n"
     ]
    },
    {
     "name": "stderr",
     "output_type": "stream",
     "text": [
      "Batch: 100%|██████████| 500/500 [00:34<00:00, 14.35it/s]\n"
     ]
    },
    {
     "name": "stdout",
     "output_type": "stream",
     "text": [
      "[INFO] Saved progress up to row 106403\n",
      "[INFO] Processing chunk 105403 to 105903\n"
     ]
    },
    {
     "name": "stderr",
     "output_type": "stream",
     "text": [
      "Batch: 100%|██████████| 500/500 [00:43<00:00, 11.49it/s]\n"
     ]
    },
    {
     "name": "stdout",
     "output_type": "stream",
     "text": [
      "[INFO] Saved progress up to row 105903\n",
      "[INFO] Processing chunk 104903 to 105403\n"
     ]
    },
    {
     "name": "stderr",
     "output_type": "stream",
     "text": [
      "Batch: 100%|██████████| 500/500 [00:43<00:00, 11.46it/s]\n"
     ]
    },
    {
     "name": "stdout",
     "output_type": "stream",
     "text": [
      "[INFO] Saved progress up to row 105403\n",
      "[INFO] Processing chunk 104403 to 104903\n"
     ]
    },
    {
     "name": "stderr",
     "output_type": "stream",
     "text": [
      "Batch: 100%|██████████| 500/500 [00:34<00:00, 14.51it/s]\n"
     ]
    },
    {
     "name": "stdout",
     "output_type": "stream",
     "text": [
      "[INFO] Saved progress up to row 104903\n",
      "[INFO] Processing chunk 103903 to 104403\n"
     ]
    },
    {
     "name": "stderr",
     "output_type": "stream",
     "text": [
      "Batch: 100%|██████████| 500/500 [00:31<00:00, 16.13it/s]\n"
     ]
    },
    {
     "name": "stdout",
     "output_type": "stream",
     "text": [
      "[INFO] Saved progress up to row 104403\n",
      "[INFO] Processing chunk 103403 to 103903\n"
     ]
    },
    {
     "name": "stderr",
     "output_type": "stream",
     "text": [
      "Batch: 100%|██████████| 500/500 [00:27<00:00, 18.09it/s]\n"
     ]
    },
    {
     "name": "stdout",
     "output_type": "stream",
     "text": [
      "[INFO] Saved progress up to row 103903\n",
      "[INFO] Processing chunk 102903 to 103403\n"
     ]
    },
    {
     "name": "stderr",
     "output_type": "stream",
     "text": [
      "Batch: 100%|██████████| 500/500 [00:27<00:00, 18.39it/s]\n"
     ]
    },
    {
     "name": "stdout",
     "output_type": "stream",
     "text": [
      "[INFO] Saved progress up to row 103403\n",
      "[INFO] Processing chunk 102403 to 102903\n"
     ]
    },
    {
     "name": "stderr",
     "output_type": "stream",
     "text": [
      "Batch: 100%|██████████| 500/500 [00:29<00:00, 16.82it/s]\n"
     ]
    },
    {
     "name": "stdout",
     "output_type": "stream",
     "text": [
      "[INFO] Saved progress up to row 102903\n",
      "[INFO] Processing chunk 101903 to 102403\n"
     ]
    },
    {
     "name": "stderr",
     "output_type": "stream",
     "text": [
      "Batch: 100%|██████████| 500/500 [00:34<00:00, 14.32it/s]\n"
     ]
    },
    {
     "name": "stdout",
     "output_type": "stream",
     "text": [
      "[INFO] Saved progress up to row 102403\n",
      "[INFO] Processing chunk 101403 to 101903\n"
     ]
    },
    {
     "name": "stderr",
     "output_type": "stream",
     "text": [
      "Batch: 100%|██████████| 500/500 [00:27<00:00, 17.87it/s]\n"
     ]
    },
    {
     "name": "stdout",
     "output_type": "stream",
     "text": [
      "[INFO] Saved progress up to row 101903\n",
      "[INFO] Processing chunk 100903 to 101403\n"
     ]
    },
    {
     "name": "stderr",
     "output_type": "stream",
     "text": [
      "Batch: 100%|██████████| 500/500 [00:38<00:00, 13.04it/s]\n"
     ]
    },
    {
     "name": "stdout",
     "output_type": "stream",
     "text": [
      "[INFO] Saved progress up to row 101403\n",
      "[INFO] Processing chunk 100403 to 100903\n"
     ]
    },
    {
     "name": "stderr",
     "output_type": "stream",
     "text": [
      "Batch: 100%|██████████| 500/500 [00:30<00:00, 16.64it/s]\n"
     ]
    },
    {
     "name": "stdout",
     "output_type": "stream",
     "text": [
      "[INFO] Saved progress up to row 100903\n",
      "[INFO] Processing chunk 99903 to 100403\n"
     ]
    },
    {
     "name": "stderr",
     "output_type": "stream",
     "text": [
      "Batch: 100%|██████████| 500/500 [00:41<00:00, 12.05it/s]\n"
     ]
    },
    {
     "name": "stdout",
     "output_type": "stream",
     "text": [
      "[INFO] Saved progress up to row 100403\n",
      "[INFO] Processing chunk 99403 to 99903\n"
     ]
    },
    {
     "name": "stderr",
     "output_type": "stream",
     "text": [
      "Batch: 100%|██████████| 500/500 [00:30<00:00, 16.19it/s]\n"
     ]
    },
    {
     "name": "stdout",
     "output_type": "stream",
     "text": [
      "[INFO] Saved progress up to row 99903\n",
      "[INFO] Processing chunk 98903 to 99403\n"
     ]
    },
    {
     "name": "stderr",
     "output_type": "stream",
     "text": [
      "Batch: 100%|██████████| 500/500 [00:28<00:00, 17.47it/s]\n"
     ]
    },
    {
     "name": "stdout",
     "output_type": "stream",
     "text": [
      "[INFO] Saved progress up to row 99403\n",
      "[INFO] Processing chunk 98403 to 98903\n"
     ]
    },
    {
     "name": "stderr",
     "output_type": "stream",
     "text": [
      "Batch: 100%|██████████| 500/500 [00:28<00:00, 17.29it/s]\n"
     ]
    },
    {
     "name": "stdout",
     "output_type": "stream",
     "text": [
      "[INFO] Saved progress up to row 98903\n",
      "[INFO] Processing chunk 97903 to 98403\n"
     ]
    },
    {
     "name": "stderr",
     "output_type": "stream",
     "text": [
      "Batch: 100%|██████████| 500/500 [00:32<00:00, 15.29it/s]\n"
     ]
    },
    {
     "name": "stdout",
     "output_type": "stream",
     "text": [
      "[INFO] Saved progress up to row 98403\n",
      "[INFO] Processing chunk 97403 to 97903\n"
     ]
    },
    {
     "name": "stderr",
     "output_type": "stream",
     "text": [
      "Batch: 100%|██████████| 500/500 [00:36<00:00, 13.77it/s]\n"
     ]
    },
    {
     "name": "stdout",
     "output_type": "stream",
     "text": [
      "[INFO] Saved progress up to row 97903\n",
      "[INFO] Processing chunk 96903 to 97403\n"
     ]
    },
    {
     "name": "stderr",
     "output_type": "stream",
     "text": [
      "Batch: 100%|██████████| 500/500 [00:34<00:00, 14.35it/s]\n"
     ]
    },
    {
     "name": "stdout",
     "output_type": "stream",
     "text": [
      "[INFO] Saved progress up to row 97403\n",
      "[INFO] Processing chunk 96403 to 96903\n"
     ]
    },
    {
     "name": "stderr",
     "output_type": "stream",
     "text": [
      "Batch: 100%|██████████| 500/500 [00:30<00:00, 16.58it/s]\n"
     ]
    },
    {
     "name": "stdout",
     "output_type": "stream",
     "text": [
      "[INFO] Saved progress up to row 96903\n",
      "[INFO] Processing chunk 95903 to 96403\n"
     ]
    },
    {
     "name": "stderr",
     "output_type": "stream",
     "text": [
      "Batch: 100%|██████████| 500/500 [00:41<00:00, 12.04it/s]\n"
     ]
    },
    {
     "name": "stdout",
     "output_type": "stream",
     "text": [
      "[INFO] Saved progress up to row 96403\n",
      "[INFO] Processing chunk 95403 to 95903\n"
     ]
    },
    {
     "name": "stderr",
     "output_type": "stream",
     "text": [
      "Batch: 100%|██████████| 500/500 [00:34<00:00, 14.49it/s]\n"
     ]
    },
    {
     "name": "stdout",
     "output_type": "stream",
     "text": [
      "[INFO] Saved progress up to row 95903\n",
      "[INFO] Processing chunk 94903 to 95403\n"
     ]
    },
    {
     "name": "stderr",
     "output_type": "stream",
     "text": [
      "Batch: 100%|██████████| 500/500 [00:30<00:00, 16.46it/s]\n"
     ]
    },
    {
     "name": "stdout",
     "output_type": "stream",
     "text": [
      "[INFO] Saved progress up to row 95403\n",
      "[INFO] Processing chunk 94403 to 94903\n"
     ]
    },
    {
     "name": "stderr",
     "output_type": "stream",
     "text": [
      "Batch: 100%|██████████| 500/500 [00:29<00:00, 16.76it/s]\n"
     ]
    },
    {
     "name": "stdout",
     "output_type": "stream",
     "text": [
      "[INFO] Saved progress up to row 94903\n",
      "[INFO] Processing chunk 93903 to 94403\n"
     ]
    },
    {
     "name": "stderr",
     "output_type": "stream",
     "text": [
      "Batch: 100%|██████████| 500/500 [00:29<00:00, 16.83it/s]\n"
     ]
    },
    {
     "name": "stdout",
     "output_type": "stream",
     "text": [
      "[INFO] Saved progress up to row 94403\n",
      "[INFO] Processing chunk 93403 to 93903\n"
     ]
    },
    {
     "name": "stderr",
     "output_type": "stream",
     "text": [
      "Batch: 100%|██████████| 500/500 [00:29<00:00, 17.09it/s]\n"
     ]
    },
    {
     "name": "stdout",
     "output_type": "stream",
     "text": [
      "[INFO] Saved progress up to row 93903\n",
      "[INFO] Processing chunk 92903 to 93403\n"
     ]
    },
    {
     "name": "stderr",
     "output_type": "stream",
     "text": [
      "Batch: 100%|██████████| 500/500 [00:42<00:00, 11.70it/s]\n"
     ]
    },
    {
     "name": "stdout",
     "output_type": "stream",
     "text": [
      "[INFO] Saved progress up to row 93403\n",
      "[INFO] Processing chunk 92403 to 92903\n"
     ]
    },
    {
     "name": "stderr",
     "output_type": "stream",
     "text": [
      "Batch: 100%|██████████| 500/500 [00:36<00:00, 13.59it/s]\n"
     ]
    },
    {
     "name": "stdout",
     "output_type": "stream",
     "text": [
      "[INFO] Saved progress up to row 92903\n",
      "[INFO] Processing chunk 91903 to 92403\n"
     ]
    },
    {
     "name": "stderr",
     "output_type": "stream",
     "text": [
      "Batch: 100%|██████████| 500/500 [00:32<00:00, 15.61it/s]\n"
     ]
    },
    {
     "name": "stdout",
     "output_type": "stream",
     "text": [
      "[INFO] Saved progress up to row 92403\n",
      "[INFO] Processing chunk 91403 to 91903\n"
     ]
    },
    {
     "name": "stderr",
     "output_type": "stream",
     "text": [
      "Batch: 100%|██████████| 500/500 [00:28<00:00, 17.73it/s]\n"
     ]
    },
    {
     "name": "stdout",
     "output_type": "stream",
     "text": [
      "[INFO] Saved progress up to row 91903\n",
      "[INFO] Processing chunk 90903 to 91403\n"
     ]
    },
    {
     "name": "stderr",
     "output_type": "stream",
     "text": [
      "Batch: 100%|██████████| 500/500 [00:30<00:00, 16.57it/s]\n"
     ]
    },
    {
     "name": "stdout",
     "output_type": "stream",
     "text": [
      "[INFO] Saved progress up to row 91403\n",
      "[INFO] Processing chunk 90403 to 90903\n"
     ]
    },
    {
     "name": "stderr",
     "output_type": "stream",
     "text": [
      "Batch: 100%|██████████| 500/500 [00:34<00:00, 14.32it/s]\n"
     ]
    },
    {
     "name": "stdout",
     "output_type": "stream",
     "text": [
      "[INFO] Saved progress up to row 90903\n",
      "[INFO] Processing chunk 89903 to 90403\n"
     ]
    },
    {
     "name": "stderr",
     "output_type": "stream",
     "text": [
      "Batch: 100%|██████████| 500/500 [00:31<00:00, 16.13it/s]\n"
     ]
    },
    {
     "name": "stdout",
     "output_type": "stream",
     "text": [
      "[INFO] Saved progress up to row 90403\n",
      "[INFO] Processing chunk 89403 to 89903\n"
     ]
    },
    {
     "name": "stderr",
     "output_type": "stream",
     "text": [
      "Batch: 100%|██████████| 500/500 [00:32<00:00, 15.20it/s]\n"
     ]
    },
    {
     "name": "stdout",
     "output_type": "stream",
     "text": [
      "[INFO] Saved progress up to row 89903\n",
      "[INFO] Processing chunk 88903 to 89403\n"
     ]
    },
    {
     "name": "stderr",
     "output_type": "stream",
     "text": [
      "Batch: 100%|██████████| 500/500 [00:27<00:00, 18.34it/s]\n"
     ]
    },
    {
     "name": "stdout",
     "output_type": "stream",
     "text": [
      "[INFO] Saved progress up to row 89403\n",
      "[INFO] Processing chunk 88403 to 88903\n"
     ]
    },
    {
     "name": "stderr",
     "output_type": "stream",
     "text": [
      "Batch: 100%|██████████| 500/500 [00:27<00:00, 18.24it/s]\n"
     ]
    },
    {
     "name": "stdout",
     "output_type": "stream",
     "text": [
      "[INFO] Saved progress up to row 88903\n",
      "[INFO] Processing chunk 87903 to 88403\n"
     ]
    },
    {
     "name": "stderr",
     "output_type": "stream",
     "text": [
      "Batch: 100%|██████████| 500/500 [00:27<00:00, 18.33it/s]\n"
     ]
    },
    {
     "name": "stdout",
     "output_type": "stream",
     "text": [
      "[INFO] Saved progress up to row 88403\n",
      "[INFO] Processing chunk 87403 to 87903\n"
     ]
    },
    {
     "name": "stderr",
     "output_type": "stream",
     "text": [
      "Batch: 100%|██████████| 500/500 [00:27<00:00, 18.33it/s]\n"
     ]
    },
    {
     "name": "stdout",
     "output_type": "stream",
     "text": [
      "[INFO] Saved progress up to row 87903\n",
      "[INFO] Processing chunk 86903 to 87403\n"
     ]
    },
    {
     "name": "stderr",
     "output_type": "stream",
     "text": [
      "Batch: 100%|██████████| 500/500 [00:28<00:00, 17.55it/s]\n"
     ]
    },
    {
     "name": "stdout",
     "output_type": "stream",
     "text": [
      "[INFO] Saved progress up to row 87403\n",
      "[INFO] Processing chunk 86403 to 86903\n"
     ]
    },
    {
     "name": "stderr",
     "output_type": "stream",
     "text": [
      "Batch: 100%|██████████| 500/500 [00:29<00:00, 17.14it/s]\n"
     ]
    },
    {
     "name": "stdout",
     "output_type": "stream",
     "text": [
      "[INFO] Saved progress up to row 86903\n",
      "[INFO] Processing chunk 85903 to 86403\n"
     ]
    },
    {
     "name": "stderr",
     "output_type": "stream",
     "text": [
      "Batch: 100%|██████████| 500/500 [00:30<00:00, 16.40it/s]\n"
     ]
    },
    {
     "name": "stdout",
     "output_type": "stream",
     "text": [
      "[INFO] Saved progress up to row 86403\n",
      "[INFO] Processing chunk 85403 to 85903\n"
     ]
    },
    {
     "name": "stderr",
     "output_type": "stream",
     "text": [
      "Batch: 100%|██████████| 500/500 [00:45<00:00, 11.05it/s]\n"
     ]
    },
    {
     "name": "stdout",
     "output_type": "stream",
     "text": [
      "[INFO] Saved progress up to row 85903\n",
      "[INFO] Processing chunk 84903 to 85403\n"
     ]
    },
    {
     "name": "stderr",
     "output_type": "stream",
     "text": [
      "Batch: 100%|██████████| 500/500 [00:31<00:00, 16.07it/s]\n"
     ]
    },
    {
     "name": "stdout",
     "output_type": "stream",
     "text": [
      "[INFO] Saved progress up to row 85403\n",
      "[INFO] Processing chunk 84403 to 84903\n"
     ]
    },
    {
     "name": "stderr",
     "output_type": "stream",
     "text": [
      "Batch: 100%|██████████| 500/500 [00:33<00:00, 15.15it/s]\n"
     ]
    },
    {
     "name": "stdout",
     "output_type": "stream",
     "text": [
      "[INFO] Saved progress up to row 84903\n",
      "[INFO] Processing chunk 83903 to 84403\n"
     ]
    },
    {
     "name": "stderr",
     "output_type": "stream",
     "text": [
      "Batch: 100%|██████████| 500/500 [00:31<00:00, 15.67it/s]\n"
     ]
    },
    {
     "name": "stdout",
     "output_type": "stream",
     "text": [
      "[INFO] Saved progress up to row 84403\n",
      "[INFO] Processing chunk 83403 to 83903\n"
     ]
    },
    {
     "name": "stderr",
     "output_type": "stream",
     "text": [
      "Batch: 100%|██████████| 500/500 [00:35<00:00, 14.03it/s]\n"
     ]
    },
    {
     "name": "stdout",
     "output_type": "stream",
     "text": [
      "[INFO] Saved progress up to row 83903\n",
      "[INFO] Processing chunk 82903 to 83403\n"
     ]
    },
    {
     "name": "stderr",
     "output_type": "stream",
     "text": [
      "Batch: 100%|██████████| 500/500 [00:32<00:00, 15.52it/s]\n"
     ]
    },
    {
     "name": "stdout",
     "output_type": "stream",
     "text": [
      "[INFO] Saved progress up to row 83403\n",
      "[INFO] Processing chunk 82403 to 82903\n"
     ]
    },
    {
     "name": "stderr",
     "output_type": "stream",
     "text": [
      "Batch: 100%|██████████| 500/500 [00:32<00:00, 15.21it/s]\n"
     ]
    },
    {
     "name": "stdout",
     "output_type": "stream",
     "text": [
      "[INFO] Saved progress up to row 82903\n",
      "[INFO] Processing chunk 81903 to 82403\n"
     ]
    },
    {
     "name": "stderr",
     "output_type": "stream",
     "text": [
      "Batch: 100%|██████████| 500/500 [00:30<00:00, 16.28it/s]\n"
     ]
    },
    {
     "name": "stdout",
     "output_type": "stream",
     "text": [
      "[INFO] Saved progress up to row 82403\n",
      "[INFO] Processing chunk 81403 to 81903\n"
     ]
    },
    {
     "name": "stderr",
     "output_type": "stream",
     "text": [
      "Batch: 100%|██████████| 500/500 [00:43<00:00, 11.49it/s]\n"
     ]
    },
    {
     "name": "stdout",
     "output_type": "stream",
     "text": [
      "[INFO] Saved progress up to row 81903\n",
      "[INFO] Processing chunk 80903 to 81403\n"
     ]
    },
    {
     "name": "stderr",
     "output_type": "stream",
     "text": [
      "Batch: 100%|██████████| 500/500 [00:34<00:00, 14.50it/s]\n"
     ]
    },
    {
     "name": "stdout",
     "output_type": "stream",
     "text": [
      "[INFO] Saved progress up to row 81403\n",
      "[INFO] Processing chunk 80403 to 80903\n"
     ]
    },
    {
     "name": "stderr",
     "output_type": "stream",
     "text": [
      "Batch: 100%|██████████| 500/500 [00:33<00:00, 15.02it/s]\n"
     ]
    },
    {
     "name": "stdout",
     "output_type": "stream",
     "text": [
      "[INFO] Saved progress up to row 80903\n",
      "[INFO] Processing chunk 79903 to 80403\n"
     ]
    },
    {
     "name": "stderr",
     "output_type": "stream",
     "text": [
      "Batch: 100%|██████████| 500/500 [00:42<00:00, 11.73it/s]\n"
     ]
    },
    {
     "name": "stdout",
     "output_type": "stream",
     "text": [
      "[INFO] Saved progress up to row 80403\n",
      "[INFO] Processing chunk 79403 to 79903\n"
     ]
    },
    {
     "name": "stderr",
     "output_type": "stream",
     "text": [
      "Batch: 100%|██████████| 500/500 [00:42<00:00, 11.90it/s]\n"
     ]
    },
    {
     "name": "stdout",
     "output_type": "stream",
     "text": [
      "[INFO] Saved progress up to row 79903\n",
      "[INFO] Processing chunk 78903 to 79403\n"
     ]
    },
    {
     "name": "stderr",
     "output_type": "stream",
     "text": [
      "Batch: 100%|██████████| 500/500 [00:35<00:00, 14.10it/s]\n"
     ]
    },
    {
     "name": "stdout",
     "output_type": "stream",
     "text": [
      "[INFO] Saved progress up to row 79403\n",
      "[INFO] Processing chunk 78403 to 78903\n"
     ]
    },
    {
     "name": "stderr",
     "output_type": "stream",
     "text": [
      "Batch: 100%|██████████| 500/500 [00:35<00:00, 14.28it/s]\n"
     ]
    },
    {
     "name": "stdout",
     "output_type": "stream",
     "text": [
      "[INFO] Saved progress up to row 78903\n",
      "[INFO] Processing chunk 77903 to 78403\n"
     ]
    },
    {
     "name": "stderr",
     "output_type": "stream",
     "text": [
      "Batch: 100%|██████████| 500/500 [00:30<00:00, 16.34it/s]\n"
     ]
    },
    {
     "name": "stdout",
     "output_type": "stream",
     "text": [
      "[INFO] Saved progress up to row 78403\n",
      "[INFO] Processing chunk 77403 to 77903\n"
     ]
    },
    {
     "name": "stderr",
     "output_type": "stream",
     "text": [
      "Batch: 100%|██████████| 500/500 [00:38<00:00, 12.84it/s]\n"
     ]
    },
    {
     "name": "stdout",
     "output_type": "stream",
     "text": [
      "[INFO] Saved progress up to row 77903\n",
      "[INFO] Processing chunk 76903 to 77403\n"
     ]
    },
    {
     "name": "stderr",
     "output_type": "stream",
     "text": [
      "Batch: 100%|██████████| 500/500 [00:31<00:00, 15.64it/s]\n"
     ]
    },
    {
     "name": "stdout",
     "output_type": "stream",
     "text": [
      "[INFO] Saved progress up to row 77403\n",
      "[INFO] Processing chunk 76403 to 76903\n"
     ]
    },
    {
     "name": "stderr",
     "output_type": "stream",
     "text": [
      "Batch: 100%|██████████| 500/500 [00:48<00:00, 10.41it/s]\n"
     ]
    },
    {
     "name": "stdout",
     "output_type": "stream",
     "text": [
      "[INFO] Saved progress up to row 76903\n",
      "[INFO] Processing chunk 75903 to 76403\n"
     ]
    },
    {
     "name": "stderr",
     "output_type": "stream",
     "text": [
      "Batch: 100%|██████████| 500/500 [00:30<00:00, 16.30it/s]\n"
     ]
    },
    {
     "name": "stdout",
     "output_type": "stream",
     "text": [
      "[INFO] Saved progress up to row 76403\n",
      "[INFO] Processing chunk 75403 to 75903\n"
     ]
    },
    {
     "name": "stderr",
     "output_type": "stream",
     "text": [
      "Batch: 100%|██████████| 500/500 [00:31<00:00, 15.83it/s]\n"
     ]
    },
    {
     "name": "stdout",
     "output_type": "stream",
     "text": [
      "[INFO] Saved progress up to row 75903\n",
      "[INFO] Processing chunk 74903 to 75403\n"
     ]
    },
    {
     "name": "stderr",
     "output_type": "stream",
     "text": [
      "Batch: 100%|██████████| 500/500 [00:32<00:00, 15.19it/s]\n"
     ]
    },
    {
     "name": "stdout",
     "output_type": "stream",
     "text": [
      "[INFO] Saved progress up to row 75403\n",
      "[INFO] Processing chunk 74403 to 74903\n"
     ]
    },
    {
     "name": "stderr",
     "output_type": "stream",
     "text": [
      "Batch: 100%|██████████| 500/500 [00:29<00:00, 17.04it/s]\n"
     ]
    },
    {
     "name": "stdout",
     "output_type": "stream",
     "text": [
      "[INFO] Saved progress up to row 74903\n",
      "[INFO] Processing chunk 73903 to 74403\n"
     ]
    },
    {
     "name": "stderr",
     "output_type": "stream",
     "text": [
      "Batch: 100%|██████████| 500/500 [00:41<00:00, 12.16it/s]\n"
     ]
    },
    {
     "name": "stdout",
     "output_type": "stream",
     "text": [
      "[INFO] Saved progress up to row 74403\n",
      "[INFO] Processing chunk 73403 to 73903\n"
     ]
    },
    {
     "name": "stderr",
     "output_type": "stream",
     "text": [
      "Batch: 100%|██████████| 500/500 [00:29<00:00, 16.94it/s]\n"
     ]
    },
    {
     "name": "stdout",
     "output_type": "stream",
     "text": [
      "[INFO] Saved progress up to row 73903\n",
      "[INFO] Processing chunk 72903 to 73403\n"
     ]
    },
    {
     "name": "stderr",
     "output_type": "stream",
     "text": [
      "Batch: 100%|██████████| 500/500 [00:34<00:00, 14.47it/s]\n"
     ]
    },
    {
     "name": "stdout",
     "output_type": "stream",
     "text": [
      "[INFO] Saved progress up to row 73403\n",
      "[INFO] Processing chunk 72403 to 72903\n"
     ]
    },
    {
     "name": "stderr",
     "output_type": "stream",
     "text": [
      "Batch: 100%|██████████| 500/500 [00:28<00:00, 17.39it/s]\n"
     ]
    },
    {
     "name": "stdout",
     "output_type": "stream",
     "text": [
      "[INFO] Saved progress up to row 72903\n",
      "[INFO] Processing chunk 71903 to 72403\n"
     ]
    },
    {
     "name": "stderr",
     "output_type": "stream",
     "text": [
      "Batch: 100%|██████████| 500/500 [00:30<00:00, 16.66it/s]\n"
     ]
    },
    {
     "name": "stdout",
     "output_type": "stream",
     "text": [
      "[INFO] Saved progress up to row 72403\n",
      "[INFO] Processing chunk 71403 to 71903\n"
     ]
    },
    {
     "name": "stderr",
     "output_type": "stream",
     "text": [
      "Batch: 100%|██████████| 500/500 [00:34<00:00, 14.68it/s]\n"
     ]
    },
    {
     "name": "stdout",
     "output_type": "stream",
     "text": [
      "[INFO] Saved progress up to row 71903\n",
      "[INFO] Processing chunk 70903 to 71403\n"
     ]
    },
    {
     "name": "stderr",
     "output_type": "stream",
     "text": [
      "Batch: 100%|██████████| 500/500 [00:33<00:00, 15.12it/s]\n"
     ]
    },
    {
     "name": "stdout",
     "output_type": "stream",
     "text": [
      "[INFO] Saved progress up to row 71403\n",
      "[INFO] Processing chunk 70403 to 70903\n"
     ]
    },
    {
     "name": "stderr",
     "output_type": "stream",
     "text": [
      "Batch: 100%|██████████| 500/500 [00:33<00:00, 14.82it/s]\n"
     ]
    },
    {
     "name": "stdout",
     "output_type": "stream",
     "text": [
      "[INFO] Saved progress up to row 70903\n",
      "[INFO] Processing chunk 69903 to 70403\n"
     ]
    },
    {
     "name": "stderr",
     "output_type": "stream",
     "text": [
      "Batch: 100%|██████████| 500/500 [00:32<00:00, 15.60it/s]\n"
     ]
    },
    {
     "name": "stdout",
     "output_type": "stream",
     "text": [
      "[INFO] Saved progress up to row 70403\n",
      "[INFO] Processing chunk 69403 to 69903\n"
     ]
    },
    {
     "name": "stderr",
     "output_type": "stream",
     "text": [
      "Batch: 100%|██████████| 500/500 [00:29<00:00, 16.90it/s]\n"
     ]
    },
    {
     "name": "stdout",
     "output_type": "stream",
     "text": [
      "[INFO] Saved progress up to row 69903\n",
      "[INFO] Processing chunk 68903 to 69403\n"
     ]
    },
    {
     "name": "stderr",
     "output_type": "stream",
     "text": [
      "Batch: 100%|██████████| 500/500 [00:31<00:00, 16.08it/s]\n"
     ]
    },
    {
     "name": "stdout",
     "output_type": "stream",
     "text": [
      "[INFO] Saved progress up to row 69403\n",
      "[INFO] Processing chunk 68403 to 68903\n"
     ]
    },
    {
     "name": "stderr",
     "output_type": "stream",
     "text": [
      "Batch: 100%|██████████| 500/500 [00:31<00:00, 16.10it/s]\n"
     ]
    },
    {
     "name": "stdout",
     "output_type": "stream",
     "text": [
      "[INFO] Saved progress up to row 68903\n",
      "[INFO] Processing chunk 67903 to 68403\n"
     ]
    },
    {
     "name": "stderr",
     "output_type": "stream",
     "text": [
      "Batch: 100%|██████████| 500/500 [00:30<00:00, 16.24it/s]\n"
     ]
    },
    {
     "name": "stdout",
     "output_type": "stream",
     "text": [
      "[INFO] Saved progress up to row 68403\n",
      "[INFO] Processing chunk 67403 to 67903\n"
     ]
    },
    {
     "name": "stderr",
     "output_type": "stream",
     "text": [
      "Batch: 100%|██████████| 500/500 [00:31<00:00, 15.72it/s]\n"
     ]
    },
    {
     "name": "stdout",
     "output_type": "stream",
     "text": [
      "[INFO] Saved progress up to row 67903\n",
      "[INFO] Processing chunk 66903 to 67403\n"
     ]
    },
    {
     "name": "stderr",
     "output_type": "stream",
     "text": [
      "Batch: 100%|██████████| 500/500 [00:32<00:00, 15.40it/s]\n"
     ]
    },
    {
     "name": "stdout",
     "output_type": "stream",
     "text": [
      "[INFO] Saved progress up to row 67403\n",
      "[INFO] Processing chunk 66403 to 66903\n"
     ]
    },
    {
     "name": "stderr",
     "output_type": "stream",
     "text": [
      "Batch: 100%|██████████| 500/500 [00:32<00:00, 15.57it/s]\n"
     ]
    },
    {
     "name": "stdout",
     "output_type": "stream",
     "text": [
      "[INFO] Saved progress up to row 66903\n",
      "[INFO] Processing chunk 65903 to 66403\n"
     ]
    },
    {
     "name": "stderr",
     "output_type": "stream",
     "text": [
      "Batch: 100%|██████████| 500/500 [00:29<00:00, 16.84it/s]\n"
     ]
    },
    {
     "name": "stdout",
     "output_type": "stream",
     "text": [
      "[INFO] Saved progress up to row 66403\n",
      "[INFO] Processing chunk 65403 to 65903\n"
     ]
    },
    {
     "name": "stderr",
     "output_type": "stream",
     "text": [
      "Batch: 100%|██████████| 500/500 [00:30<00:00, 16.46it/s]\n"
     ]
    },
    {
     "name": "stdout",
     "output_type": "stream",
     "text": [
      "[INFO] Saved progress up to row 65903\n",
      "[INFO] Processing chunk 64903 to 65403\n"
     ]
    },
    {
     "name": "stderr",
     "output_type": "stream",
     "text": [
      "Batch: 100%|██████████| 500/500 [00:29<00:00, 16.95it/s]\n"
     ]
    },
    {
     "name": "stdout",
     "output_type": "stream",
     "text": [
      "[INFO] Saved progress up to row 65403\n",
      "[INFO] Processing chunk 64403 to 64903\n"
     ]
    },
    {
     "name": "stderr",
     "output_type": "stream",
     "text": [
      "Batch: 100%|██████████| 500/500 [00:29<00:00, 17.14it/s]\n"
     ]
    },
    {
     "name": "stdout",
     "output_type": "stream",
     "text": [
      "[INFO] Saved progress up to row 64903\n",
      "[INFO] Processing chunk 63903 to 64403\n"
     ]
    },
    {
     "name": "stderr",
     "output_type": "stream",
     "text": [
      "Batch: 100%|██████████| 500/500 [00:29<00:00, 17.15it/s]\n"
     ]
    },
    {
     "name": "stdout",
     "output_type": "stream",
     "text": [
      "[INFO] Saved progress up to row 64403\n",
      "[INFO] Processing chunk 63403 to 63903\n"
     ]
    },
    {
     "name": "stderr",
     "output_type": "stream",
     "text": [
      "Batch: 100%|██████████| 500/500 [00:28<00:00, 17.31it/s]\n"
     ]
    },
    {
     "name": "stdout",
     "output_type": "stream",
     "text": [
      "[INFO] Saved progress up to row 63903\n",
      "[INFO] Processing chunk 62903 to 63403\n"
     ]
    },
    {
     "name": "stderr",
     "output_type": "stream",
     "text": [
      "Batch: 100%|██████████| 500/500 [00:30<00:00, 16.45it/s]\n"
     ]
    },
    {
     "name": "stdout",
     "output_type": "stream",
     "text": [
      "[INFO] Saved progress up to row 63403\n",
      "[INFO] Processing chunk 62403 to 62903\n"
     ]
    },
    {
     "name": "stderr",
     "output_type": "stream",
     "text": [
      "Batch: 100%|██████████| 500/500 [00:37<00:00, 13.33it/s]\n"
     ]
    },
    {
     "name": "stdout",
     "output_type": "stream",
     "text": [
      "[INFO] Saved progress up to row 62903\n",
      "[INFO] Processing chunk 61903 to 62403\n"
     ]
    },
    {
     "name": "stderr",
     "output_type": "stream",
     "text": [
      "Batch: 100%|██████████| 500/500 [00:30<00:00, 16.13it/s]\n"
     ]
    },
    {
     "name": "stdout",
     "output_type": "stream",
     "text": [
      "[INFO] Saved progress up to row 62403\n",
      "[INFO] Processing chunk 61403 to 61903\n"
     ]
    },
    {
     "name": "stderr",
     "output_type": "stream",
     "text": [
      "Batch: 100%|██████████| 500/500 [00:28<00:00, 17.35it/s]\n"
     ]
    },
    {
     "name": "stdout",
     "output_type": "stream",
     "text": [
      "[INFO] Saved progress up to row 61903\n",
      "[INFO] Processing chunk 60903 to 61403\n"
     ]
    },
    {
     "name": "stderr",
     "output_type": "stream",
     "text": [
      "Batch: 100%|██████████| 500/500 [00:29<00:00, 16.67it/s]\n"
     ]
    },
    {
     "name": "stdout",
     "output_type": "stream",
     "text": [
      "[INFO] Saved progress up to row 61403\n",
      "[INFO] Processing chunk 60403 to 60903\n"
     ]
    },
    {
     "name": "stderr",
     "output_type": "stream",
     "text": [
      "Batch: 100%|██████████| 500/500 [00:34<00:00, 14.33it/s]\n"
     ]
    },
    {
     "name": "stdout",
     "output_type": "stream",
     "text": [
      "[INFO] Saved progress up to row 60903\n",
      "[INFO] Processing chunk 59903 to 60403\n"
     ]
    },
    {
     "name": "stderr",
     "output_type": "stream",
     "text": [
      "Batch: 100%|██████████| 500/500 [00:31<00:00, 16.01it/s]\n"
     ]
    },
    {
     "name": "stdout",
     "output_type": "stream",
     "text": [
      "[INFO] Saved progress up to row 60403\n",
      "[INFO] Processing chunk 59403 to 59903\n"
     ]
    },
    {
     "name": "stderr",
     "output_type": "stream",
     "text": [
      "Batch: 100%|██████████| 500/500 [00:28<00:00, 17.34it/s]\n"
     ]
    },
    {
     "name": "stdout",
     "output_type": "stream",
     "text": [
      "[INFO] Saved progress up to row 59903\n",
      "[INFO] Processing chunk 58903 to 59403\n"
     ]
    },
    {
     "name": "stderr",
     "output_type": "stream",
     "text": [
      "Batch: 100%|██████████| 500/500 [00:29<00:00, 16.74it/s]\n"
     ]
    },
    {
     "name": "stdout",
     "output_type": "stream",
     "text": [
      "[INFO] Saved progress up to row 59403\n",
      "[INFO] Processing chunk 58403 to 58903\n"
     ]
    },
    {
     "name": "stderr",
     "output_type": "stream",
     "text": [
      "Batch: 100%|██████████| 500/500 [00:29<00:00, 16.96it/s]\n"
     ]
    },
    {
     "name": "stdout",
     "output_type": "stream",
     "text": [
      "[INFO] Saved progress up to row 58903\n",
      "[INFO] Processing chunk 57903 to 58403\n"
     ]
    },
    {
     "name": "stderr",
     "output_type": "stream",
     "text": [
      "Batch: 100%|██████████| 500/500 [00:30<00:00, 16.61it/s]\n"
     ]
    },
    {
     "name": "stdout",
     "output_type": "stream",
     "text": [
      "[INFO] Saved progress up to row 58403\n",
      "[INFO] Processing chunk 57403 to 57903\n"
     ]
    },
    {
     "name": "stderr",
     "output_type": "stream",
     "text": [
      "Batch: 100%|██████████| 500/500 [00:32<00:00, 15.50it/s]\n"
     ]
    },
    {
     "name": "stdout",
     "output_type": "stream",
     "text": [
      "[INFO] Saved progress up to row 57903\n",
      "[INFO] Processing chunk 56903 to 57403\n"
     ]
    },
    {
     "name": "stderr",
     "output_type": "stream",
     "text": [
      "Batch: 100%|██████████| 500/500 [00:30<00:00, 16.29it/s]\n"
     ]
    },
    {
     "name": "stdout",
     "output_type": "stream",
     "text": [
      "[INFO] Saved progress up to row 57403\n",
      "[INFO] Processing chunk 56403 to 56903\n"
     ]
    },
    {
     "name": "stderr",
     "output_type": "stream",
     "text": [
      "Batch: 100%|██████████| 500/500 [00:32<00:00, 15.59it/s]\n"
     ]
    },
    {
     "name": "stdout",
     "output_type": "stream",
     "text": [
      "[INFO] Saved progress up to row 56903\n",
      "[INFO] Processing chunk 55903 to 56403\n"
     ]
    },
    {
     "name": "stderr",
     "output_type": "stream",
     "text": [
      "Batch: 100%|██████████| 500/500 [00:32<00:00, 15.50it/s]\n"
     ]
    },
    {
     "name": "stdout",
     "output_type": "stream",
     "text": [
      "[INFO] Saved progress up to row 56403\n",
      "[INFO] Processing chunk 55403 to 55903\n"
     ]
    },
    {
     "name": "stderr",
     "output_type": "stream",
     "text": [
      "Batch: 100%|██████████| 500/500 [00:31<00:00, 15.67it/s]\n"
     ]
    },
    {
     "name": "stdout",
     "output_type": "stream",
     "text": [
      "[INFO] Saved progress up to row 55903\n",
      "[INFO] Processing chunk 54903 to 55403\n"
     ]
    },
    {
     "name": "stderr",
     "output_type": "stream",
     "text": [
      "Batch: 100%|██████████| 500/500 [00:32<00:00, 15.27it/s]\n"
     ]
    },
    {
     "name": "stdout",
     "output_type": "stream",
     "text": [
      "[INFO] Saved progress up to row 55403\n",
      "[INFO] Processing chunk 54403 to 54903\n"
     ]
    },
    {
     "name": "stderr",
     "output_type": "stream",
     "text": [
      "Batch: 100%|██████████| 500/500 [00:32<00:00, 15.30it/s]\n"
     ]
    },
    {
     "name": "stdout",
     "output_type": "stream",
     "text": [
      "[INFO] Saved progress up to row 54903\n",
      "[INFO] Processing chunk 53903 to 54403\n"
     ]
    },
    {
     "name": "stderr",
     "output_type": "stream",
     "text": [
      "Batch: 100%|██████████| 500/500 [00:31<00:00, 15.76it/s]\n"
     ]
    },
    {
     "name": "stdout",
     "output_type": "stream",
     "text": [
      "[INFO] Saved progress up to row 54403\n",
      "[INFO] Processing chunk 53403 to 53903\n"
     ]
    },
    {
     "name": "stderr",
     "output_type": "stream",
     "text": [
      "Batch: 100%|██████████| 500/500 [00:30<00:00, 16.24it/s]\n"
     ]
    },
    {
     "name": "stdout",
     "output_type": "stream",
     "text": [
      "[INFO] Saved progress up to row 53903\n",
      "[INFO] Processing chunk 52903 to 53403\n"
     ]
    },
    {
     "name": "stderr",
     "output_type": "stream",
     "text": [
      "Batch: 100%|██████████| 500/500 [00:35<00:00, 14.25it/s]\n"
     ]
    },
    {
     "name": "stdout",
     "output_type": "stream",
     "text": [
      "[INFO] Saved progress up to row 53403\n",
      "[INFO] Processing chunk 52403 to 52903\n"
     ]
    },
    {
     "name": "stderr",
     "output_type": "stream",
     "text": [
      "Batch: 100%|██████████| 500/500 [00:51<00:00,  9.67it/s]\n"
     ]
    },
    {
     "name": "stdout",
     "output_type": "stream",
     "text": [
      "[INFO] Saved progress up to row 52903\n",
      "[INFO] Processing chunk 51903 to 52403\n"
     ]
    },
    {
     "name": "stderr",
     "output_type": "stream",
     "text": [
      "Batch: 100%|██████████| 500/500 [00:50<00:00,  9.91it/s]\n"
     ]
    },
    {
     "name": "stdout",
     "output_type": "stream",
     "text": [
      "[INFO] Saved progress up to row 52403\n",
      "[INFO] Processing chunk 51403 to 51903\n"
     ]
    },
    {
     "name": "stderr",
     "output_type": "stream",
     "text": [
      "Batch: 100%|██████████| 500/500 [00:50<00:00,  9.97it/s]\n"
     ]
    },
    {
     "name": "stdout",
     "output_type": "stream",
     "text": [
      "[INFO] Saved progress up to row 51903\n",
      "[INFO] Processing chunk 50903 to 51403\n"
     ]
    },
    {
     "name": "stderr",
     "output_type": "stream",
     "text": [
      "Batch: 100%|██████████| 500/500 [00:53<00:00,  9.29it/s]\n"
     ]
    },
    {
     "name": "stdout",
     "output_type": "stream",
     "text": [
      "[INFO] Saved progress up to row 51403\n",
      "[INFO] Processing chunk 50403 to 50903\n"
     ]
    },
    {
     "name": "stderr",
     "output_type": "stream",
     "text": [
      "Batch: 100%|██████████| 500/500 [00:45<00:00, 10.92it/s]\n"
     ]
    },
    {
     "name": "stdout",
     "output_type": "stream",
     "text": [
      "[INFO] Saved progress up to row 50903\n",
      "[INFO] Processing chunk 49903 to 50403\n"
     ]
    },
    {
     "name": "stderr",
     "output_type": "stream",
     "text": [
      "Batch: 100%|██████████| 500/500 [00:56<00:00,  8.86it/s]\n"
     ]
    },
    {
     "name": "stdout",
     "output_type": "stream",
     "text": [
      "[INFO] Saved progress up to row 50403\n",
      "[INFO] Processing chunk 49403 to 49903\n"
     ]
    },
    {
     "name": "stderr",
     "output_type": "stream",
     "text": [
      "Batch: 100%|██████████| 500/500 [00:45<00:00, 10.96it/s]\n"
     ]
    },
    {
     "name": "stdout",
     "output_type": "stream",
     "text": [
      "[INFO] Saved progress up to row 49903\n",
      "[INFO] Processing chunk 48903 to 49403\n"
     ]
    },
    {
     "name": "stderr",
     "output_type": "stream",
     "text": [
      "Batch: 100%|██████████| 500/500 [00:50<00:00,  9.85it/s]\n"
     ]
    },
    {
     "name": "stdout",
     "output_type": "stream",
     "text": [
      "[INFO] Saved progress up to row 49403\n",
      "[INFO] Processing chunk 48403 to 48903\n"
     ]
    },
    {
     "name": "stderr",
     "output_type": "stream",
     "text": [
      "Batch: 100%|██████████| 500/500 [00:43<00:00, 11.49it/s]\n"
     ]
    },
    {
     "name": "stdout",
     "output_type": "stream",
     "text": [
      "[INFO] Saved progress up to row 48903\n",
      "[INFO] Processing chunk 47903 to 48403\n"
     ]
    },
    {
     "name": "stderr",
     "output_type": "stream",
     "text": [
      "Batch: 100%|██████████| 500/500 [00:48<00:00, 10.30it/s]\n"
     ]
    },
    {
     "name": "stdout",
     "output_type": "stream",
     "text": [
      "[INFO] Saved progress up to row 48403\n",
      "[INFO] Processing chunk 47403 to 47903\n"
     ]
    },
    {
     "name": "stderr",
     "output_type": "stream",
     "text": [
      "Batch: 100%|██████████| 500/500 [00:53<00:00,  9.43it/s]\n"
     ]
    },
    {
     "name": "stdout",
     "output_type": "stream",
     "text": [
      "[INFO] Saved progress up to row 47903\n",
      "[INFO] Processing chunk 46903 to 47403\n"
     ]
    },
    {
     "name": "stderr",
     "output_type": "stream",
     "text": [
      "Batch: 100%|██████████| 500/500 [00:55<00:00,  8.96it/s]\n"
     ]
    },
    {
     "name": "stdout",
     "output_type": "stream",
     "text": [
      "[INFO] Saved progress up to row 47403\n",
      "[INFO] Processing chunk 46403 to 46903\n"
     ]
    },
    {
     "name": "stderr",
     "output_type": "stream",
     "text": [
      "Batch: 100%|██████████| 500/500 [01:02<00:00,  8.02it/s]\n"
     ]
    },
    {
     "name": "stdout",
     "output_type": "stream",
     "text": [
      "[INFO] Saved progress up to row 46903\n",
      "[INFO] Processing chunk 45903 to 46403\n"
     ]
    },
    {
     "name": "stderr",
     "output_type": "stream",
     "text": [
      "Batch: 100%|██████████| 500/500 [00:59<00:00,  8.40it/s]\n"
     ]
    },
    {
     "name": "stdout",
     "output_type": "stream",
     "text": [
      "[INFO] Saved progress up to row 46403\n",
      "[INFO] Processing chunk 45403 to 45903\n"
     ]
    },
    {
     "name": "stderr",
     "output_type": "stream",
     "text": [
      "Batch: 100%|██████████| 500/500 [01:08<00:00,  7.27it/s]\n"
     ]
    },
    {
     "name": "stdout",
     "output_type": "stream",
     "text": [
      "[INFO] Saved progress up to row 45903\n",
      "[INFO] Processing chunk 44903 to 45403\n"
     ]
    },
    {
     "name": "stderr",
     "output_type": "stream",
     "text": [
      "Batch: 100%|██████████| 500/500 [00:51<00:00,  9.76it/s]\n"
     ]
    },
    {
     "name": "stdout",
     "output_type": "stream",
     "text": [
      "[INFO] Saved progress up to row 45403\n",
      "[INFO] Processing chunk 44403 to 44903\n"
     ]
    },
    {
     "name": "stderr",
     "output_type": "stream",
     "text": [
      "Batch: 100%|██████████| 500/500 [00:51<00:00,  9.76it/s]\n"
     ]
    },
    {
     "name": "stdout",
     "output_type": "stream",
     "text": [
      "[INFO] Saved progress up to row 44903\n",
      "[INFO] Processing chunk 43903 to 44403\n"
     ]
    },
    {
     "name": "stderr",
     "output_type": "stream",
     "text": [
      "Batch: 100%|██████████| 500/500 [00:50<00:00,  9.98it/s]\n"
     ]
    },
    {
     "name": "stdout",
     "output_type": "stream",
     "text": [
      "[INFO] Saved progress up to row 44403\n",
      "[INFO] Processing chunk 43403 to 43903\n"
     ]
    },
    {
     "name": "stderr",
     "output_type": "stream",
     "text": [
      "Batch: 100%|██████████| 500/500 [00:52<00:00,  9.55it/s]\n"
     ]
    },
    {
     "name": "stdout",
     "output_type": "stream",
     "text": [
      "[INFO] Saved progress up to row 43903\n",
      "[INFO] Processing chunk 42903 to 43403\n"
     ]
    },
    {
     "name": "stderr",
     "output_type": "stream",
     "text": [
      "Batch: 100%|██████████| 500/500 [00:59<00:00,  8.40it/s]\n"
     ]
    },
    {
     "name": "stdout",
     "output_type": "stream",
     "text": [
      "[INFO] Saved progress up to row 43403\n",
      "[INFO] Processing chunk 42403 to 42903\n"
     ]
    },
    {
     "name": "stderr",
     "output_type": "stream",
     "text": [
      "Batch: 100%|██████████| 500/500 [00:58<00:00,  8.59it/s]\n"
     ]
    },
    {
     "name": "stdout",
     "output_type": "stream",
     "text": [
      "[INFO] Saved progress up to row 42903\n",
      "[INFO] Processing chunk 41903 to 42403\n"
     ]
    },
    {
     "name": "stderr",
     "output_type": "stream",
     "text": [
      "Batch: 100%|██████████| 500/500 [00:49<00:00, 10.12it/s]\n"
     ]
    },
    {
     "name": "stdout",
     "output_type": "stream",
     "text": [
      "[INFO] Saved progress up to row 42403\n",
      "[INFO] Processing chunk 41403 to 41903\n"
     ]
    },
    {
     "name": "stderr",
     "output_type": "stream",
     "text": [
      "Batch: 100%|██████████| 500/500 [00:47<00:00, 10.42it/s]\n"
     ]
    },
    {
     "name": "stdout",
     "output_type": "stream",
     "text": [
      "[INFO] Saved progress up to row 41903\n",
      "[INFO] Processing chunk 40903 to 41403\n"
     ]
    },
    {
     "name": "stderr",
     "output_type": "stream",
     "text": [
      "Batch: 100%|██████████| 500/500 [00:49<00:00, 10.08it/s]\n"
     ]
    },
    {
     "name": "stdout",
     "output_type": "stream",
     "text": [
      "[INFO] Saved progress up to row 41403\n",
      "[INFO] Processing chunk 40403 to 40903\n"
     ]
    },
    {
     "name": "stderr",
     "output_type": "stream",
     "text": [
      "Batch: 100%|██████████| 500/500 [00:54<00:00,  9.20it/s]\n"
     ]
    },
    {
     "name": "stdout",
     "output_type": "stream",
     "text": [
      "[INFO] Saved progress up to row 40903\n",
      "[INFO] Processing chunk 39903 to 40403\n"
     ]
    },
    {
     "name": "stderr",
     "output_type": "stream",
     "text": [
      "Batch: 100%|██████████| 500/500 [00:54<00:00,  9.15it/s]\n"
     ]
    },
    {
     "name": "stdout",
     "output_type": "stream",
     "text": [
      "[INFO] Saved progress up to row 40403\n",
      "[INFO] Processing chunk 39403 to 39903\n"
     ]
    },
    {
     "name": "stderr",
     "output_type": "stream",
     "text": [
      "Batch: 100%|██████████| 500/500 [00:54<00:00,  9.25it/s]\n"
     ]
    },
    {
     "name": "stdout",
     "output_type": "stream",
     "text": [
      "[INFO] Saved progress up to row 39903\n",
      "[INFO] Processing chunk 38903 to 39403\n"
     ]
    },
    {
     "name": "stderr",
     "output_type": "stream",
     "text": [
      "Batch: 100%|██████████| 500/500 [00:57<00:00,  8.66it/s]\n"
     ]
    },
    {
     "name": "stdout",
     "output_type": "stream",
     "text": [
      "[INFO] Saved progress up to row 39403\n",
      "[INFO] Processing chunk 38403 to 38903\n"
     ]
    },
    {
     "name": "stderr",
     "output_type": "stream",
     "text": [
      "Batch: 100%|██████████| 500/500 [01:00<00:00,  8.26it/s]\n"
     ]
    },
    {
     "name": "stdout",
     "output_type": "stream",
     "text": [
      "[INFO] Saved progress up to row 38903\n",
      "[INFO] Processing chunk 37903 to 38403\n"
     ]
    },
    {
     "name": "stderr",
     "output_type": "stream",
     "text": [
      "Batch: 100%|██████████| 500/500 [01:06<00:00,  7.55it/s]\n"
     ]
    },
    {
     "name": "stdout",
     "output_type": "stream",
     "text": [
      "[INFO] Saved progress up to row 38403\n",
      "[INFO] Processing chunk 37403 to 37903\n"
     ]
    },
    {
     "name": "stderr",
     "output_type": "stream",
     "text": [
      "Batch: 100%|██████████| 500/500 [00:58<00:00,  8.50it/s]\n"
     ]
    },
    {
     "name": "stdout",
     "output_type": "stream",
     "text": [
      "[INFO] Saved progress up to row 37903\n",
      "[INFO] Processing chunk 36903 to 37403\n"
     ]
    },
    {
     "name": "stderr",
     "output_type": "stream",
     "text": [
      "Batch: 100%|██████████| 500/500 [00:55<00:00,  9.05it/s]\n"
     ]
    },
    {
     "name": "stdout",
     "output_type": "stream",
     "text": [
      "[INFO] Saved progress up to row 37403\n",
      "[INFO] Processing chunk 36403 to 36903\n"
     ]
    },
    {
     "name": "stderr",
     "output_type": "stream",
     "text": [
      "Batch: 100%|██████████| 500/500 [00:55<00:00,  9.09it/s]\n"
     ]
    },
    {
     "name": "stdout",
     "output_type": "stream",
     "text": [
      "[INFO] Saved progress up to row 36903\n",
      "[INFO] Processing chunk 35903 to 36403\n"
     ]
    },
    {
     "name": "stderr",
     "output_type": "stream",
     "text": [
      "Batch: 100%|██████████| 500/500 [01:02<00:00,  8.01it/s]\n"
     ]
    },
    {
     "name": "stdout",
     "output_type": "stream",
     "text": [
      "[INFO] Saved progress up to row 36403\n",
      "[INFO] Processing chunk 35403 to 35903\n"
     ]
    },
    {
     "name": "stderr",
     "output_type": "stream",
     "text": [
      "Batch: 100%|██████████| 500/500 [00:48<00:00, 10.23it/s]\n"
     ]
    },
    {
     "name": "stdout",
     "output_type": "stream",
     "text": [
      "[INFO] Saved progress up to row 35903\n",
      "[INFO] Processing chunk 34903 to 35403\n"
     ]
    },
    {
     "name": "stderr",
     "output_type": "stream",
     "text": [
      "Batch: 100%|██████████| 500/500 [00:56<00:00,  8.89it/s]\n"
     ]
    },
    {
     "name": "stdout",
     "output_type": "stream",
     "text": [
      "[INFO] Saved progress up to row 35403\n",
      "[INFO] Processing chunk 34403 to 34903\n"
     ]
    },
    {
     "name": "stderr",
     "output_type": "stream",
     "text": [
      "Batch: 100%|██████████| 500/500 [01:04<00:00,  7.75it/s]\n"
     ]
    },
    {
     "name": "stdout",
     "output_type": "stream",
     "text": [
      "[INFO] Saved progress up to row 34903\n",
      "[INFO] Processing chunk 33903 to 34403\n"
     ]
    },
    {
     "name": "stderr",
     "output_type": "stream",
     "text": [
      "Batch: 100%|██████████| 500/500 [01:04<00:00,  7.79it/s]\n"
     ]
    },
    {
     "name": "stdout",
     "output_type": "stream",
     "text": [
      "[INFO] Saved progress up to row 34403\n",
      "[INFO] Processing chunk 33403 to 33903\n"
     ]
    },
    {
     "name": "stderr",
     "output_type": "stream",
     "text": [
      "Batch: 100%|██████████| 500/500 [01:03<00:00,  7.92it/s]\n"
     ]
    },
    {
     "name": "stdout",
     "output_type": "stream",
     "text": [
      "[INFO] Saved progress up to row 33903\n",
      "[INFO] Processing chunk 32903 to 33403\n"
     ]
    },
    {
     "name": "stderr",
     "output_type": "stream",
     "text": [
      "Batch: 100%|██████████| 500/500 [01:03<00:00,  7.92it/s]\n"
     ]
    },
    {
     "name": "stdout",
     "output_type": "stream",
     "text": [
      "[INFO] Saved progress up to row 33403\n",
      "[INFO] Processing chunk 32403 to 32903\n"
     ]
    },
    {
     "name": "stderr",
     "output_type": "stream",
     "text": [
      "Batch: 100%|██████████| 500/500 [01:05<00:00,  7.65it/s]\n"
     ]
    },
    {
     "name": "stdout",
     "output_type": "stream",
     "text": [
      "[INFO] Saved progress up to row 32903\n",
      "[INFO] Processing chunk 31903 to 32403\n"
     ]
    },
    {
     "name": "stderr",
     "output_type": "stream",
     "text": [
      "Batch: 100%|██████████| 500/500 [01:03<00:00,  7.90it/s]\n"
     ]
    },
    {
     "name": "stdout",
     "output_type": "stream",
     "text": [
      "[INFO] Saved progress up to row 32403\n",
      "[INFO] Processing chunk 31403 to 31903\n"
     ]
    },
    {
     "name": "stderr",
     "output_type": "stream",
     "text": [
      "Batch: 100%|██████████| 500/500 [01:03<00:00,  7.85it/s]\n"
     ]
    },
    {
     "name": "stdout",
     "output_type": "stream",
     "text": [
      "[INFO] Saved progress up to row 31903\n",
      "[INFO] Processing chunk 30903 to 31403\n"
     ]
    },
    {
     "name": "stderr",
     "output_type": "stream",
     "text": [
      "Batch: 100%|██████████| 500/500 [01:09<00:00,  7.23it/s]\n"
     ]
    },
    {
     "name": "stdout",
     "output_type": "stream",
     "text": [
      "[INFO] Saved progress up to row 31403\n",
      "[INFO] Processing chunk 30403 to 30903\n"
     ]
    },
    {
     "name": "stderr",
     "output_type": "stream",
     "text": [
      "Batch: 100%|██████████| 500/500 [01:11<00:00,  6.99it/s]\n"
     ]
    },
    {
     "name": "stdout",
     "output_type": "stream",
     "text": [
      "[INFO] Saved progress up to row 30903\n",
      "[INFO] Processing chunk 29903 to 30403\n"
     ]
    },
    {
     "name": "stderr",
     "output_type": "stream",
     "text": [
      "Batch: 100%|██████████| 500/500 [01:07<00:00,  7.46it/s]\n"
     ]
    },
    {
     "name": "stdout",
     "output_type": "stream",
     "text": [
      "[INFO] Saved progress up to row 30403\n",
      "[INFO] Processing chunk 29403 to 29903\n"
     ]
    },
    {
     "name": "stderr",
     "output_type": "stream",
     "text": [
      "Batch: 100%|██████████| 500/500 [01:23<00:00,  5.96it/s]\n"
     ]
    },
    {
     "name": "stdout",
     "output_type": "stream",
     "text": [
      "[INFO] Saved progress up to row 29903\n",
      "[INFO] Processing chunk 28903 to 29403\n"
     ]
    },
    {
     "name": "stderr",
     "output_type": "stream",
     "text": [
      "Batch: 100%|██████████| 500/500 [01:04<00:00,  7.80it/s]\n"
     ]
    },
    {
     "name": "stdout",
     "output_type": "stream",
     "text": [
      "[INFO] Saved progress up to row 29403\n",
      "[INFO] Processing chunk 28403 to 28903\n"
     ]
    },
    {
     "name": "stderr",
     "output_type": "stream",
     "text": [
      "Batch: 100%|██████████| 500/500 [01:16<00:00,  6.53it/s]\n"
     ]
    },
    {
     "name": "stdout",
     "output_type": "stream",
     "text": [
      "[INFO] Saved progress up to row 28903\n",
      "[INFO] Processing chunk 27903 to 28403\n"
     ]
    },
    {
     "name": "stderr",
     "output_type": "stream",
     "text": [
      "Batch: 100%|██████████| 500/500 [01:11<00:00,  7.00it/s]\n"
     ]
    },
    {
     "name": "stdout",
     "output_type": "stream",
     "text": [
      "[INFO] Saved progress up to row 28403\n",
      "[INFO] Processing chunk 27403 to 27903\n"
     ]
    },
    {
     "name": "stderr",
     "output_type": "stream",
     "text": [
      "Batch: 100%|██████████| 500/500 [01:12<00:00,  6.87it/s]\n"
     ]
    },
    {
     "name": "stdout",
     "output_type": "stream",
     "text": [
      "[INFO] Saved progress up to row 27903\n",
      "[INFO] Processing chunk 26903 to 27403\n"
     ]
    },
    {
     "name": "stderr",
     "output_type": "stream",
     "text": [
      "Batch: 100%|██████████| 500/500 [01:11<00:00,  7.04it/s]\n"
     ]
    },
    {
     "name": "stdout",
     "output_type": "stream",
     "text": [
      "[INFO] Saved progress up to row 27403\n",
      "[INFO] Processing chunk 26403 to 26903\n"
     ]
    },
    {
     "name": "stderr",
     "output_type": "stream",
     "text": [
      "Batch: 100%|██████████| 500/500 [01:06<00:00,  7.52it/s]\n"
     ]
    },
    {
     "name": "stdout",
     "output_type": "stream",
     "text": [
      "[INFO] Saved progress up to row 26903\n",
      "[INFO] Processing chunk 25903 to 26403\n"
     ]
    },
    {
     "name": "stderr",
     "output_type": "stream",
     "text": [
      "Batch: 100%|██████████| 500/500 [00:52<00:00,  9.47it/s]\n"
     ]
    },
    {
     "name": "stdout",
     "output_type": "stream",
     "text": [
      "[INFO] Saved progress up to row 26403\n",
      "[INFO] Processing chunk 25403 to 25903\n"
     ]
    },
    {
     "name": "stderr",
     "output_type": "stream",
     "text": [
      "Batch: 100%|██████████| 500/500 [00:51<00:00,  9.69it/s]\n"
     ]
    },
    {
     "name": "stdout",
     "output_type": "stream",
     "text": [
      "[INFO] Saved progress up to row 25903\n",
      "[INFO] Processing chunk 24903 to 25403\n"
     ]
    },
    {
     "name": "stderr",
     "output_type": "stream",
     "text": [
      "Batch: 100%|██████████| 500/500 [00:48<00:00, 10.22it/s]\n"
     ]
    },
    {
     "name": "stdout",
     "output_type": "stream",
     "text": [
      "[INFO] Saved progress up to row 25403\n",
      "[INFO] Processing chunk 24403 to 24903\n"
     ]
    },
    {
     "name": "stderr",
     "output_type": "stream",
     "text": [
      "Batch: 100%|██████████| 500/500 [00:49<00:00, 10.05it/s]\n"
     ]
    },
    {
     "name": "stdout",
     "output_type": "stream",
     "text": [
      "[INFO] Saved progress up to row 24903\n",
      "[INFO] Processing chunk 23903 to 24403\n"
     ]
    },
    {
     "name": "stderr",
     "output_type": "stream",
     "text": [
      "Batch: 100%|██████████| 500/500 [00:49<00:00, 10.08it/s]\n"
     ]
    },
    {
     "name": "stdout",
     "output_type": "stream",
     "text": [
      "[INFO] Saved progress up to row 24403\n",
      "[INFO] Processing chunk 23403 to 23903\n"
     ]
    },
    {
     "name": "stderr",
     "output_type": "stream",
     "text": [
      "Batch: 100%|██████████| 500/500 [00:47<00:00, 10.44it/s]\n"
     ]
    },
    {
     "name": "stdout",
     "output_type": "stream",
     "text": [
      "[INFO] Saved progress up to row 23903\n",
      "[INFO] Processing chunk 22903 to 23403\n"
     ]
    },
    {
     "name": "stderr",
     "output_type": "stream",
     "text": [
      "Batch: 100%|██████████| 500/500 [00:57<00:00,  8.77it/s]\n"
     ]
    },
    {
     "name": "stdout",
     "output_type": "stream",
     "text": [
      "[INFO] Saved progress up to row 23403\n",
      "[INFO] Processing chunk 22403 to 22903\n"
     ]
    },
    {
     "name": "stderr",
     "output_type": "stream",
     "text": [
      "Batch: 100%|██████████| 500/500 [01:02<00:00,  7.99it/s]\n"
     ]
    },
    {
     "name": "stdout",
     "output_type": "stream",
     "text": [
      "[INFO] Saved progress up to row 22903\n",
      "[INFO] Processing chunk 21903 to 22403\n"
     ]
    },
    {
     "name": "stderr",
     "output_type": "stream",
     "text": [
      "Batch: 100%|██████████| 500/500 [01:03<00:00,  7.94it/s]\n"
     ]
    },
    {
     "name": "stdout",
     "output_type": "stream",
     "text": [
      "[INFO] Saved progress up to row 22403\n",
      "[INFO] Processing chunk 21403 to 21903\n"
     ]
    },
    {
     "name": "stderr",
     "output_type": "stream",
     "text": [
      "Batch: 100%|██████████| 500/500 [01:03<00:00,  7.92it/s]\n"
     ]
    },
    {
     "name": "stdout",
     "output_type": "stream",
     "text": [
      "[INFO] Saved progress up to row 21903\n",
      "[INFO] Processing chunk 20903 to 21403\n"
     ]
    },
    {
     "name": "stderr",
     "output_type": "stream",
     "text": [
      "Batch: 100%|██████████| 500/500 [01:03<00:00,  7.86it/s]\n"
     ]
    },
    {
     "name": "stdout",
     "output_type": "stream",
     "text": [
      "[INFO] Saved progress up to row 21403\n",
      "[INFO] Processing chunk 20403 to 20903\n"
     ]
    },
    {
     "name": "stderr",
     "output_type": "stream",
     "text": [
      "Batch: 100%|██████████| 500/500 [01:03<00:00,  7.92it/s]\n"
     ]
    },
    {
     "name": "stdout",
     "output_type": "stream",
     "text": [
      "[INFO] Saved progress up to row 20903\n",
      "[INFO] Processing chunk 19903 to 20403\n"
     ]
    },
    {
     "name": "stderr",
     "output_type": "stream",
     "text": [
      "Batch: 100%|██████████| 500/500 [01:03<00:00,  7.94it/s]\n"
     ]
    },
    {
     "name": "stdout",
     "output_type": "stream",
     "text": [
      "[INFO] Saved progress up to row 20403\n",
      "[INFO] Processing chunk 19403 to 19903\n"
     ]
    },
    {
     "name": "stderr",
     "output_type": "stream",
     "text": [
      "Batch: 100%|██████████| 500/500 [01:01<00:00,  8.09it/s]\n"
     ]
    },
    {
     "name": "stdout",
     "output_type": "stream",
     "text": [
      "[INFO] Saved progress up to row 19903\n",
      "[INFO] Processing chunk 18903 to 19403\n"
     ]
    },
    {
     "name": "stderr",
     "output_type": "stream",
     "text": [
      "Batch: 100%|██████████| 500/500 [00:55<00:00,  9.06it/s]\n"
     ]
    },
    {
     "name": "stdout",
     "output_type": "stream",
     "text": [
      "[INFO] Saved progress up to row 19403\n",
      "[INFO] Processing chunk 18403 to 18903\n"
     ]
    },
    {
     "name": "stderr",
     "output_type": "stream",
     "text": [
      "Batch: 100%|██████████| 500/500 [01:06<00:00,  7.51it/s]\n"
     ]
    },
    {
     "name": "stdout",
     "output_type": "stream",
     "text": [
      "[INFO] Saved progress up to row 18903\n",
      "[INFO] Processing chunk 17903 to 18403\n"
     ]
    },
    {
     "name": "stderr",
     "output_type": "stream",
     "text": [
      "Batch: 100%|██████████| 500/500 [01:00<00:00,  8.21it/s]\n"
     ]
    },
    {
     "name": "stdout",
     "output_type": "stream",
     "text": [
      "[INFO] Saved progress up to row 18403\n",
      "[INFO] Processing chunk 17403 to 17903\n"
     ]
    },
    {
     "name": "stderr",
     "output_type": "stream",
     "text": [
      "Batch: 100%|██████████| 500/500 [00:46<00:00, 10.75it/s]\n"
     ]
    },
    {
     "name": "stdout",
     "output_type": "stream",
     "text": [
      "[INFO] Saved progress up to row 17903\n",
      "[INFO] Processing chunk 16903 to 17403\n"
     ]
    },
    {
     "name": "stderr",
     "output_type": "stream",
     "text": [
      "Batch: 100%|██████████| 500/500 [00:45<00:00, 10.99it/s]\n"
     ]
    },
    {
     "name": "stdout",
     "output_type": "stream",
     "text": [
      "[INFO] Saved progress up to row 17403\n",
      "[INFO] Processing chunk 16403 to 16903\n"
     ]
    },
    {
     "name": "stderr",
     "output_type": "stream",
     "text": [
      "Batch: 100%|██████████| 500/500 [00:45<00:00, 11.01it/s]\n"
     ]
    },
    {
     "name": "stdout",
     "output_type": "stream",
     "text": [
      "[INFO] Saved progress up to row 16903\n",
      "[INFO] Processing chunk 15903 to 16403\n"
     ]
    },
    {
     "name": "stderr",
     "output_type": "stream",
     "text": [
      "Batch: 100%|██████████| 500/500 [00:44<00:00, 11.18it/s]\n"
     ]
    },
    {
     "name": "stdout",
     "output_type": "stream",
     "text": [
      "[INFO] Saved progress up to row 16403\n",
      "[INFO] Processing chunk 15403 to 15903\n"
     ]
    },
    {
     "name": "stderr",
     "output_type": "stream",
     "text": [
      "Batch: 100%|██████████| 500/500 [00:45<00:00, 11.00it/s]\n"
     ]
    },
    {
     "name": "stdout",
     "output_type": "stream",
     "text": [
      "[INFO] Saved progress up to row 15903\n",
      "[INFO] Processing chunk 14903 to 15403\n"
     ]
    },
    {
     "name": "stderr",
     "output_type": "stream",
     "text": [
      "Batch: 100%|██████████| 500/500 [00:49<00:00, 10.12it/s]\n"
     ]
    },
    {
     "name": "stdout",
     "output_type": "stream",
     "text": [
      "[INFO] Saved progress up to row 15403\n",
      "[INFO] Processing chunk 14403 to 14903\n"
     ]
    },
    {
     "name": "stderr",
     "output_type": "stream",
     "text": [
      "Batch: 100%|██████████| 500/500 [00:58<00:00,  8.50it/s]\n"
     ]
    },
    {
     "name": "stdout",
     "output_type": "stream",
     "text": [
      "[INFO] Saved progress up to row 14903\n",
      "[INFO] Processing chunk 13903 to 14403\n"
     ]
    },
    {
     "name": "stderr",
     "output_type": "stream",
     "text": [
      "Batch: 100%|██████████| 500/500 [00:58<00:00,  8.55it/s]\n"
     ]
    },
    {
     "name": "stdout",
     "output_type": "stream",
     "text": [
      "[INFO] Saved progress up to row 14403\n",
      "[INFO] Processing chunk 13403 to 13903\n"
     ]
    },
    {
     "name": "stderr",
     "output_type": "stream",
     "text": [
      "Batch: 100%|██████████| 500/500 [01:00<00:00,  8.23it/s]\n"
     ]
    },
    {
     "name": "stdout",
     "output_type": "stream",
     "text": [
      "[INFO] Saved progress up to row 13903\n",
      "[INFO] Processing chunk 12903 to 13403\n"
     ]
    },
    {
     "name": "stderr",
     "output_type": "stream",
     "text": [
      "Batch: 100%|██████████| 500/500 [00:59<00:00,  8.44it/s]\n"
     ]
    },
    {
     "name": "stdout",
     "output_type": "stream",
     "text": [
      "[INFO] Saved progress up to row 13403\n",
      "[INFO] Processing chunk 12403 to 12903\n"
     ]
    },
    {
     "name": "stderr",
     "output_type": "stream",
     "text": [
      "Batch: 100%|██████████| 500/500 [01:01<00:00,  8.07it/s]\n"
     ]
    },
    {
     "name": "stdout",
     "output_type": "stream",
     "text": [
      "[INFO] Saved progress up to row 12903\n",
      "[INFO] Processing chunk 11903 to 12403\n"
     ]
    },
    {
     "name": "stderr",
     "output_type": "stream",
     "text": [
      "Batch: 100%|██████████| 500/500 [00:56<00:00,  8.80it/s]\n"
     ]
    },
    {
     "name": "stdout",
     "output_type": "stream",
     "text": [
      "[INFO] Saved progress up to row 12403\n",
      "[INFO] Processing chunk 11403 to 11903\n"
     ]
    },
    {
     "name": "stderr",
     "output_type": "stream",
     "text": [
      "Batch: 100%|██████████| 500/500 [00:54<00:00,  9.22it/s]\n"
     ]
    },
    {
     "name": "stdout",
     "output_type": "stream",
     "text": [
      "[INFO] Saved progress up to row 11903\n",
      "[INFO] Processing chunk 10903 to 11403\n"
     ]
    },
    {
     "name": "stderr",
     "output_type": "stream",
     "text": [
      "Batch: 100%|██████████| 500/500 [00:56<00:00,  8.87it/s]\n"
     ]
    },
    {
     "name": "stdout",
     "output_type": "stream",
     "text": [
      "[INFO] Saved progress up to row 11403\n",
      "[INFO] Processing chunk 10403 to 10903\n"
     ]
    },
    {
     "name": "stderr",
     "output_type": "stream",
     "text": [
      "Batch: 100%|██████████| 500/500 [00:58<00:00,  8.62it/s]\n"
     ]
    },
    {
     "name": "stdout",
     "output_type": "stream",
     "text": [
      "[INFO] Saved progress up to row 10903\n",
      "[INFO] Processing chunk 9903 to 10403\n"
     ]
    },
    {
     "name": "stderr",
     "output_type": "stream",
     "text": [
      "Batch: 100%|██████████| 500/500 [00:37<00:00, 13.27it/s]\n"
     ]
    },
    {
     "name": "stdout",
     "output_type": "stream",
     "text": [
      "[INFO] Saved progress up to row 10403\n",
      "[INFO] Processing chunk 9403 to 9903\n"
     ]
    },
    {
     "name": "stderr",
     "output_type": "stream",
     "text": [
      "Batch: 100%|██████████| 500/500 [00:33<00:00, 15.14it/s]\n"
     ]
    },
    {
     "name": "stdout",
     "output_type": "stream",
     "text": [
      "[INFO] Saved progress up to row 9903\n",
      "[INFO] Processing chunk 8903 to 9403\n"
     ]
    },
    {
     "name": "stderr",
     "output_type": "stream",
     "text": [
      "Batch: 100%|██████████| 500/500 [00:35<00:00, 13.96it/s]\n"
     ]
    },
    {
     "name": "stdout",
     "output_type": "stream",
     "text": [
      "[INFO] Saved progress up to row 9403\n",
      "[INFO] Processing chunk 8403 to 8903\n"
     ]
    },
    {
     "name": "stderr",
     "output_type": "stream",
     "text": [
      "Batch: 100%|██████████| 500/500 [00:40<00:00, 12.31it/s]\n"
     ]
    },
    {
     "name": "stdout",
     "output_type": "stream",
     "text": [
      "[INFO] Saved progress up to row 8903\n",
      "[INFO] Processing chunk 7903 to 8403\n"
     ]
    },
    {
     "name": "stderr",
     "output_type": "stream",
     "text": [
      "Batch: 100%|██████████| 500/500 [00:36<00:00, 13.70it/s]\n"
     ]
    },
    {
     "name": "stdout",
     "output_type": "stream",
     "text": [
      "[INFO] Saved progress up to row 8403\n",
      "[INFO] Processing chunk 7403 to 7903\n"
     ]
    },
    {
     "name": "stderr",
     "output_type": "stream",
     "text": [
      "Batch: 100%|██████████| 500/500 [00:31<00:00, 15.70it/s]\n"
     ]
    },
    {
     "name": "stdout",
     "output_type": "stream",
     "text": [
      "[INFO] Saved progress up to row 7903\n",
      "[INFO] Processing chunk 6903 to 7403\n"
     ]
    },
    {
     "name": "stderr",
     "output_type": "stream",
     "text": [
      "Batch: 100%|██████████| 500/500 [00:30<00:00, 16.15it/s]\n"
     ]
    },
    {
     "name": "stdout",
     "output_type": "stream",
     "text": [
      "[INFO] Saved progress up to row 7403\n",
      "[INFO] Processing chunk 6403 to 6903\n"
     ]
    },
    {
     "name": "stderr",
     "output_type": "stream",
     "text": [
      "Batch: 100%|██████████| 500/500 [00:31<00:00, 15.97it/s]\n"
     ]
    },
    {
     "name": "stdout",
     "output_type": "stream",
     "text": [
      "[INFO] Saved progress up to row 6903\n",
      "[INFO] Processing chunk 5903 to 6403\n"
     ]
    },
    {
     "name": "stderr",
     "output_type": "stream",
     "text": [
      "Batch: 100%|██████████| 500/500 [00:31<00:00, 15.84it/s]\n"
     ]
    },
    {
     "name": "stdout",
     "output_type": "stream",
     "text": [
      "[INFO] Saved progress up to row 6403\n",
      "[INFO] Processing chunk 5403 to 5903\n"
     ]
    },
    {
     "name": "stderr",
     "output_type": "stream",
     "text": [
      "Batch: 100%|██████████| 500/500 [00:31<00:00, 15.66it/s]\n"
     ]
    },
    {
     "name": "stdout",
     "output_type": "stream",
     "text": [
      "[INFO] Saved progress up to row 5903\n",
      "[INFO] Processing chunk 4903 to 5403\n"
     ]
    },
    {
     "name": "stderr",
     "output_type": "stream",
     "text": [
      "Batch: 100%|██████████| 500/500 [00:30<00:00, 16.62it/s]\n"
     ]
    },
    {
     "name": "stdout",
     "output_type": "stream",
     "text": [
      "[INFO] Saved progress up to row 5403\n",
      "[INFO] Processing chunk 4403 to 4903\n"
     ]
    },
    {
     "name": "stderr",
     "output_type": "stream",
     "text": [
      "Batch: 100%|██████████| 500/500 [00:30<00:00, 16.51it/s]\n"
     ]
    },
    {
     "name": "stdout",
     "output_type": "stream",
     "text": [
      "[INFO] Saved progress up to row 4903\n",
      "[INFO] Processing chunk 3903 to 4403\n"
     ]
    },
    {
     "name": "stderr",
     "output_type": "stream",
     "text": [
      "Batch: 100%|██████████| 500/500 [00:30<00:00, 16.34it/s]\n"
     ]
    },
    {
     "name": "stdout",
     "output_type": "stream",
     "text": [
      "[INFO] Saved progress up to row 4403\n",
      "[INFO] Processing chunk 3403 to 3903\n"
     ]
    },
    {
     "name": "stderr",
     "output_type": "stream",
     "text": [
      "Batch: 100%|██████████| 500/500 [00:31<00:00, 16.01it/s]\n"
     ]
    },
    {
     "name": "stdout",
     "output_type": "stream",
     "text": [
      "[INFO] Saved progress up to row 3903\n",
      "[INFO] Processing chunk 2903 to 3403\n"
     ]
    },
    {
     "name": "stderr",
     "output_type": "stream",
     "text": [
      "Batch: 100%|██████████| 500/500 [00:29<00:00, 17.10it/s]\n"
     ]
    },
    {
     "name": "stdout",
     "output_type": "stream",
     "text": [
      "[INFO] Saved progress up to row 3403\n",
      "[INFO] Processing chunk 2403 to 2903\n"
     ]
    },
    {
     "name": "stderr",
     "output_type": "stream",
     "text": [
      "Batch: 100%|██████████| 500/500 [00:30<00:00, 16.59it/s]\n"
     ]
    },
    {
     "name": "stdout",
     "output_type": "stream",
     "text": [
      "[INFO] Saved progress up to row 2903\n",
      "[INFO] Processing chunk 1903 to 2403\n"
     ]
    },
    {
     "name": "stderr",
     "output_type": "stream",
     "text": [
      "Batch: 100%|██████████| 500/500 [00:28<00:00, 17.39it/s]\n"
     ]
    },
    {
     "name": "stdout",
     "output_type": "stream",
     "text": [
      "[INFO] Saved progress up to row 2403\n",
      "[INFO] Processing chunk 1403 to 1903\n"
     ]
    },
    {
     "name": "stderr",
     "output_type": "stream",
     "text": [
      "Batch: 100%|██████████| 500/500 [00:28<00:00, 17.36it/s]\n"
     ]
    },
    {
     "name": "stdout",
     "output_type": "stream",
     "text": [
      "[INFO] Saved progress up to row 1903\n",
      "[INFO] Processing chunk 903 to 1403\n"
     ]
    },
    {
     "name": "stderr",
     "output_type": "stream",
     "text": [
      "Batch: 100%|██████████| 500/500 [00:28<00:00, 17.32it/s]\n"
     ]
    },
    {
     "name": "stdout",
     "output_type": "stream",
     "text": [
      "[INFO] Saved progress up to row 1403\n",
      "[INFO] Processing chunk 403 to 903\n"
     ]
    },
    {
     "name": "stderr",
     "output_type": "stream",
     "text": [
      "Batch: 100%|██████████| 500/500 [00:31<00:00, 15.90it/s]\n"
     ]
    },
    {
     "name": "stdout",
     "output_type": "stream",
     "text": [
      "[INFO] Saved progress up to row 903\n",
      "[DONE] All records processed and saved to output.csv\n"
     ]
    },
    {
     "data": {
      "text/html": [
       "<div>\n",
       "<style scoped>\n",
       "    .dataframe tbody tr th:only-of-type {\n",
       "        vertical-align: middle;\n",
       "    }\n",
       "\n",
       "    .dataframe tbody tr th {\n",
       "        vertical-align: top;\n",
       "    }\n",
       "\n",
       "    .dataframe thead th {\n",
       "        text-align: right;\n",
       "    }\n",
       "</style>\n",
       "<table border=\"1\" class=\"dataframe\">\n",
       "  <thead>\n",
       "    <tr style=\"text-align: right;\">\n",
       "      <th></th>\n",
       "      <th>cve_id</th>\n",
       "      <th>sourceIdentifier</th>\n",
       "      <th>published</th>\n",
       "      <th>lastModified</th>\n",
       "      <th>vulnStatus</th>\n",
       "      <th>description_en</th>\n",
       "      <th>cvss_version</th>\n",
       "      <th>vectorString</th>\n",
       "      <th>baseScore</th>\n",
       "      <th>baseSeverity</th>\n",
       "      <th>...</th>\n",
       "      <th>Vulnerability_Type</th>\n",
       "      <th>Attack_Vector</th>\n",
       "      <th>Privileges_Required</th>\n",
       "      <th>User_Interaction</th>\n",
       "      <th>Exploit_Availability</th>\n",
       "      <th>Impact</th>\n",
       "      <th>Confidentiality_Impact</th>\n",
       "      <th>Integrity_Impact</th>\n",
       "      <th>Availability_Impact</th>\n",
       "      <th>Authentication</th>\n",
       "    </tr>\n",
       "  </thead>\n",
       "  <tbody>\n",
       "    <tr>\n",
       "      <th>0</th>\n",
       "      <td>CVE-1999-0095</td>\n",
       "      <td>cve@mitre.org</td>\n",
       "      <td>1988-10-01T04:00:00.000</td>\n",
       "      <td>2025-04-03T01:03:51.193</td>\n",
       "      <td>Deferred</td>\n",
       "      <td>The debug command in Sendmail is enabled, allo...</td>\n",
       "      <td>2.0</td>\n",
       "      <td>AV:N/AC:L/Au:N/C:C/I:C/A:C</td>\n",
       "      <td>10.0</td>\n",
       "      <td>NaN</td>\n",
       "      <td>...</td>\n",
       "      <td></td>\n",
       "      <td></td>\n",
       "      <td></td>\n",
       "      <td></td>\n",
       "      <td></td>\n",
       "      <td></td>\n",
       "      <td></td>\n",
       "      <td></td>\n",
       "      <td></td>\n",
       "      <td></td>\n",
       "    </tr>\n",
       "    <tr>\n",
       "      <th>1</th>\n",
       "      <td>CVE-1999-0082</td>\n",
       "      <td>cve@mitre.org</td>\n",
       "      <td>1988-11-11T05:00:00.000</td>\n",
       "      <td>2025-04-03T01:03:51.193</td>\n",
       "      <td>Deferred</td>\n",
       "      <td>CWD ~root command in ftpd allows root access.</td>\n",
       "      <td>2.0</td>\n",
       "      <td>AV:N/AC:L/Au:N/C:C/I:C/A:C</td>\n",
       "      <td>10.0</td>\n",
       "      <td>NaN</td>\n",
       "      <td>...</td>\n",
       "      <td></td>\n",
       "      <td></td>\n",
       "      <td></td>\n",
       "      <td></td>\n",
       "      <td></td>\n",
       "      <td></td>\n",
       "      <td></td>\n",
       "      <td></td>\n",
       "      <td></td>\n",
       "      <td></td>\n",
       "    </tr>\n",
       "    <tr>\n",
       "      <th>2</th>\n",
       "      <td>CVE-1999-1471</td>\n",
       "      <td>cve@mitre.org</td>\n",
       "      <td>1989-01-01T05:00:00.000</td>\n",
       "      <td>2025-04-03T01:03:51.193</td>\n",
       "      <td>Deferred</td>\n",
       "      <td>Buffer overflow in passwd in BSD based operati...</td>\n",
       "      <td>2.0</td>\n",
       "      <td>AV:L/AC:L/Au:N/C:C/I:C/A:C</td>\n",
       "      <td>7.2</td>\n",
       "      <td>NaN</td>\n",
       "      <td>...</td>\n",
       "      <td></td>\n",
       "      <td></td>\n",
       "      <td></td>\n",
       "      <td></td>\n",
       "      <td></td>\n",
       "      <td></td>\n",
       "      <td></td>\n",
       "      <td></td>\n",
       "      <td></td>\n",
       "      <td></td>\n",
       "    </tr>\n",
       "    <tr>\n",
       "      <th>3</th>\n",
       "      <td>CVE-1999-1122</td>\n",
       "      <td>cve@mitre.org</td>\n",
       "      <td>1989-07-26T04:00:00.000</td>\n",
       "      <td>2025-04-03T01:03:51.193</td>\n",
       "      <td>Deferred</td>\n",
       "      <td>Vulnerability in restore in SunOS 4.0.3 and ea...</td>\n",
       "      <td>2.0</td>\n",
       "      <td>AV:L/AC:L/Au:N/C:P/I:P/A:P</td>\n",
       "      <td>4.6</td>\n",
       "      <td>NaN</td>\n",
       "      <td>...</td>\n",
       "      <td></td>\n",
       "      <td></td>\n",
       "      <td></td>\n",
       "      <td></td>\n",
       "      <td></td>\n",
       "      <td></td>\n",
       "      <td></td>\n",
       "      <td></td>\n",
       "      <td></td>\n",
       "      <td></td>\n",
       "    </tr>\n",
       "    <tr>\n",
       "      <th>4</th>\n",
       "      <td>CVE-1999-1467</td>\n",
       "      <td>cve@mitre.org</td>\n",
       "      <td>1989-10-26T04:00:00.000</td>\n",
       "      <td>2025-04-03T01:03:51.193</td>\n",
       "      <td>Deferred</td>\n",
       "      <td>Vulnerability in rcp on SunOS 4.0.x allows rem...</td>\n",
       "      <td>2.0</td>\n",
       "      <td>AV:N/AC:L/Au:N/C:C/I:C/A:C</td>\n",
       "      <td>10.0</td>\n",
       "      <td>NaN</td>\n",
       "      <td>...</td>\n",
       "      <td></td>\n",
       "      <td></td>\n",
       "      <td></td>\n",
       "      <td></td>\n",
       "      <td></td>\n",
       "      <td></td>\n",
       "      <td></td>\n",
       "      <td></td>\n",
       "      <td></td>\n",
       "      <td></td>\n",
       "    </tr>\n",
       "  </tbody>\n",
       "</table>\n",
       "<p>5 rows × 27 columns</p>\n",
       "</div>"
      ],
      "text/plain": [
       "          cve_id sourceIdentifier                published  \\\n",
       "0  CVE-1999-0095    cve@mitre.org  1988-10-01T04:00:00.000   \n",
       "1  CVE-1999-0082    cve@mitre.org  1988-11-11T05:00:00.000   \n",
       "2  CVE-1999-1471    cve@mitre.org  1989-01-01T05:00:00.000   \n",
       "3  CVE-1999-1122    cve@mitre.org  1989-07-26T04:00:00.000   \n",
       "4  CVE-1999-1467    cve@mitre.org  1989-10-26T04:00:00.000   \n",
       "\n",
       "              lastModified vulnStatus  \\\n",
       "0  2025-04-03T01:03:51.193   Deferred   \n",
       "1  2025-04-03T01:03:51.193   Deferred   \n",
       "2  2025-04-03T01:03:51.193   Deferred   \n",
       "3  2025-04-03T01:03:51.193   Deferred   \n",
       "4  2025-04-03T01:03:51.193   Deferred   \n",
       "\n",
       "                                      description_en  cvss_version  \\\n",
       "0  The debug command in Sendmail is enabled, allo...           2.0   \n",
       "1      CWD ~root command in ftpd allows root access.           2.0   \n",
       "2  Buffer overflow in passwd in BSD based operati...           2.0   \n",
       "3  Vulnerability in restore in SunOS 4.0.3 and ea...           2.0   \n",
       "4  Vulnerability in rcp on SunOS 4.0.x allows rem...           2.0   \n",
       "\n",
       "                 vectorString  baseScore baseSeverity  ... Vulnerability_Type  \\\n",
       "0  AV:N/AC:L/Au:N/C:C/I:C/A:C       10.0          NaN  ...                      \n",
       "1  AV:N/AC:L/Au:N/C:C/I:C/A:C       10.0          NaN  ...                      \n",
       "2  AV:L/AC:L/Au:N/C:C/I:C/A:C        7.2          NaN  ...                      \n",
       "3  AV:L/AC:L/Au:N/C:P/I:P/A:P        4.6          NaN  ...                      \n",
       "4  AV:N/AC:L/Au:N/C:C/I:C/A:C       10.0          NaN  ...                      \n",
       "\n",
       "  Attack_Vector Privileges_Required User_Interaction Exploit_Availability  \\\n",
       "0                                                                           \n",
       "1                                                                           \n",
       "2                                                                           \n",
       "3                                                                           \n",
       "4                                                                           \n",
       "\n",
       "  Impact Confidentiality_Impact Integrity_Impact Availability_Impact  \\\n",
       "0                                                                      \n",
       "1                                                                      \n",
       "2                                                                      \n",
       "3                                                                      \n",
       "4                                                                      \n",
       "\n",
       "  Authentication  \n",
       "0                 \n",
       "1                 \n",
       "2                 \n",
       "3                 \n",
       "4                 \n",
       "\n",
       "[5 rows x 27 columns]"
      ]
     },
     "execution_count": 4,
     "metadata": {},
     "output_type": "execute_result"
    }
   ],
   "source": [
    "output = run_pipeline(\n",
    "    input_csv_path=\"nvd_cve_cleaned.csv\",\n",
    "    output_csv_path=\"output.csv\",\n",
    "    resume=True\n",
    ")\n",
    "output.head()"
   ]
  },
  {
   "cell_type": "code",
   "execution_count": 15,
   "metadata": {},
   "outputs": [],
   "source": [
    "import pandas as pd\n",
    "\n",
    "df = pd.read_csv(\"output.csv\")"
   ]
  },
  {
   "cell_type": "code",
   "execution_count": 6,
   "metadata": {},
   "outputs": [
    {
     "data": {
      "text/html": [
       "<div>\n",
       "<style scoped>\n",
       "    .dataframe tbody tr th:only-of-type {\n",
       "        vertical-align: middle;\n",
       "    }\n",
       "\n",
       "    .dataframe tbody tr th {\n",
       "        vertical-align: top;\n",
       "    }\n",
       "\n",
       "    .dataframe thead th {\n",
       "        text-align: right;\n",
       "    }\n",
       "</style>\n",
       "<table border=\"1\" class=\"dataframe\">\n",
       "  <thead>\n",
       "    <tr style=\"text-align: right;\">\n",
       "      <th></th>\n",
       "      <th>cve_id</th>\n",
       "      <th>sourceIdentifier</th>\n",
       "      <th>published</th>\n",
       "      <th>lastModified</th>\n",
       "      <th>vulnStatus</th>\n",
       "      <th>description_en</th>\n",
       "      <th>cvss_version</th>\n",
       "      <th>vectorString</th>\n",
       "      <th>baseScore</th>\n",
       "      <th>baseSeverity</th>\n",
       "      <th>...</th>\n",
       "      <th>Vulnerability_Type</th>\n",
       "      <th>Attack_Vector</th>\n",
       "      <th>Privileges_Required</th>\n",
       "      <th>User_Interaction</th>\n",
       "      <th>Exploit_Availability</th>\n",
       "      <th>Impact</th>\n",
       "      <th>Confidentiality_Impact</th>\n",
       "      <th>Integrity_Impact</th>\n",
       "      <th>Availability_Impact</th>\n",
       "      <th>Authentication</th>\n",
       "    </tr>\n",
       "  </thead>\n",
       "  <tbody>\n",
       "    <tr>\n",
       "      <th>291398</th>\n",
       "      <td>CVE-2025-2580</td>\n",
       "      <td>security@wordfence.com</td>\n",
       "      <td>2025-04-25T06:15:45.457</td>\n",
       "      <td>2025-04-25T06:15:45.457</td>\n",
       "      <td>Received</td>\n",
       "      <td>The Contact Form by Bit Form plugin for WordPr...</td>\n",
       "      <td>3.1</td>\n",
       "      <td>CVSS:3.1/AV:N/AC:H/PR:L/UI:N/S:C/C:L/I:L/A:N</td>\n",
       "      <td>4.9</td>\n",
       "      <td>MEDIUM</td>\n",
       "      <td>...</td>\n",
       "      <td>NaN</td>\n",
       "      <td>NaN</td>\n",
       "      <td>NaN</td>\n",
       "      <td>NaN</td>\n",
       "      <td>NaN</td>\n",
       "      <td>NaN</td>\n",
       "      <td>NaN</td>\n",
       "      <td>NaN</td>\n",
       "      <td>NaN</td>\n",
       "      <td>NaN</td>\n",
       "    </tr>\n",
       "    <tr>\n",
       "      <th>291399</th>\n",
       "      <td>CVE-2025-3511</td>\n",
       "      <td>Mitsubishielectric.Psirt@yd.MitsubishiElectric...</td>\n",
       "      <td>2025-04-25T06:15:45.753</td>\n",
       "      <td>2025-04-25T06:15:45.753</td>\n",
       "      <td>Received</td>\n",
       "      <td>Improper Validation of Specified Quantity in I...</td>\n",
       "      <td>3.1</td>\n",
       "      <td>CVSS:3.1/AV:N/AC:H/PR:N/UI:N/S:U/C:N/I:N/A:H</td>\n",
       "      <td>5.9</td>\n",
       "      <td>MEDIUM</td>\n",
       "      <td>...</td>\n",
       "      <td>NaN</td>\n",
       "      <td>NaN</td>\n",
       "      <td>NaN</td>\n",
       "      <td>NaN</td>\n",
       "      <td>NaN</td>\n",
       "      <td>NaN</td>\n",
       "      <td>NaN</td>\n",
       "      <td>NaN</td>\n",
       "      <td>NaN</td>\n",
       "      <td>NaN</td>\n",
       "    </tr>\n",
       "    <tr>\n",
       "      <th>291400</th>\n",
       "      <td>CVE-2025-3861</td>\n",
       "      <td>security@wordfence.com</td>\n",
       "      <td>2025-04-25T06:15:45.957</td>\n",
       "      <td>2025-04-25T06:15:45.957</td>\n",
       "      <td>Received</td>\n",
       "      <td>The Prevent Direct Access – Protect WordPress ...</td>\n",
       "      <td>3.1</td>\n",
       "      <td>CVSS:3.1/AV:N/AC:L/PR:L/UI:N/S:U/C:L/I:L/A:N</td>\n",
       "      <td>5.4</td>\n",
       "      <td>MEDIUM</td>\n",
       "      <td>...</td>\n",
       "      <td>NaN</td>\n",
       "      <td>NaN</td>\n",
       "      <td>NaN</td>\n",
       "      <td>NaN</td>\n",
       "      <td>NaN</td>\n",
       "      <td>NaN</td>\n",
       "      <td>NaN</td>\n",
       "      <td>NaN</td>\n",
       "      <td>NaN</td>\n",
       "      <td>NaN</td>\n",
       "    </tr>\n",
       "    <tr>\n",
       "      <th>291401</th>\n",
       "      <td>CVE-2025-3923</td>\n",
       "      <td>security@wordfence.com</td>\n",
       "      <td>2025-04-25T06:15:46.117</td>\n",
       "      <td>2025-04-25T06:15:46.117</td>\n",
       "      <td>Received</td>\n",
       "      <td>The Prevent Direct Access – Protect WordPress ...</td>\n",
       "      <td>3.1</td>\n",
       "      <td>CVSS:3.1/AV:N/AC:L/PR:N/UI:N/S:U/C:L/I:N/A:N</td>\n",
       "      <td>5.3</td>\n",
       "      <td>MEDIUM</td>\n",
       "      <td>...</td>\n",
       "      <td>NaN</td>\n",
       "      <td>NaN</td>\n",
       "      <td>NaN</td>\n",
       "      <td>NaN</td>\n",
       "      <td>NaN</td>\n",
       "      <td>NaN</td>\n",
       "      <td>NaN</td>\n",
       "      <td>NaN</td>\n",
       "      <td>NaN</td>\n",
       "      <td>NaN</td>\n",
       "    </tr>\n",
       "    <tr>\n",
       "      <th>291402</th>\n",
       "      <td>CVE-2025-46613</td>\n",
       "      <td>cve@mitre.org</td>\n",
       "      <td>2025-04-25T06:15:46.273</td>\n",
       "      <td>2025-04-25T06:15:46.273</td>\n",
       "      <td>Received</td>\n",
       "      <td>OpenPLC 3 through 64f9c11 has server.cpp Memor...</td>\n",
       "      <td>3.1</td>\n",
       "      <td>CVSS:3.1/AV:N/AC:H/PR:N/UI:N/S:C/C:N/I:L/A:H</td>\n",
       "      <td>7.5</td>\n",
       "      <td>HIGH</td>\n",
       "      <td>...</td>\n",
       "      <td>NaN</td>\n",
       "      <td>NaN</td>\n",
       "      <td>NaN</td>\n",
       "      <td>NaN</td>\n",
       "      <td>NaN</td>\n",
       "      <td>NaN</td>\n",
       "      <td>NaN</td>\n",
       "      <td>NaN</td>\n",
       "      <td>NaN</td>\n",
       "      <td>NaN</td>\n",
       "    </tr>\n",
       "  </tbody>\n",
       "</table>\n",
       "<p>5 rows × 27 columns</p>\n",
       "</div>"
      ],
      "text/plain": [
       "                cve_id                                   sourceIdentifier  \\\n",
       "291398   CVE-2025-2580                             security@wordfence.com   \n",
       "291399   CVE-2025-3511  Mitsubishielectric.Psirt@yd.MitsubishiElectric...   \n",
       "291400   CVE-2025-3861                             security@wordfence.com   \n",
       "291401   CVE-2025-3923                             security@wordfence.com   \n",
       "291402  CVE-2025-46613                                      cve@mitre.org   \n",
       "\n",
       "                      published             lastModified vulnStatus  \\\n",
       "291398  2025-04-25T06:15:45.457  2025-04-25T06:15:45.457   Received   \n",
       "291399  2025-04-25T06:15:45.753  2025-04-25T06:15:45.753   Received   \n",
       "291400  2025-04-25T06:15:45.957  2025-04-25T06:15:45.957   Received   \n",
       "291401  2025-04-25T06:15:46.117  2025-04-25T06:15:46.117   Received   \n",
       "291402  2025-04-25T06:15:46.273  2025-04-25T06:15:46.273   Received   \n",
       "\n",
       "                                           description_en  cvss_version  \\\n",
       "291398  The Contact Form by Bit Form plugin for WordPr...           3.1   \n",
       "291399  Improper Validation of Specified Quantity in I...           3.1   \n",
       "291400  The Prevent Direct Access – Protect WordPress ...           3.1   \n",
       "291401  The Prevent Direct Access – Protect WordPress ...           3.1   \n",
       "291402  OpenPLC 3 through 64f9c11 has server.cpp Memor...           3.1   \n",
       "\n",
       "                                        vectorString  baseScore baseSeverity  \\\n",
       "291398  CVSS:3.1/AV:N/AC:H/PR:L/UI:N/S:C/C:L/I:L/A:N        4.9       MEDIUM   \n",
       "291399  CVSS:3.1/AV:N/AC:H/PR:N/UI:N/S:U/C:N/I:N/A:H        5.9       MEDIUM   \n",
       "291400  CVSS:3.1/AV:N/AC:L/PR:L/UI:N/S:U/C:L/I:L/A:N        5.4       MEDIUM   \n",
       "291401  CVSS:3.1/AV:N/AC:L/PR:N/UI:N/S:U/C:L/I:N/A:N        5.3       MEDIUM   \n",
       "291402  CVSS:3.1/AV:N/AC:H/PR:N/UI:N/S:C/C:N/I:L/A:H        7.5         HIGH   \n",
       "\n",
       "        ... Vulnerability_Type  Attack_Vector Privileges_Required  \\\n",
       "291398  ...                NaN            NaN                 NaN   \n",
       "291399  ...                NaN            NaN                 NaN   \n",
       "291400  ...                NaN            NaN                 NaN   \n",
       "291401  ...                NaN            NaN                 NaN   \n",
       "291402  ...                NaN            NaN                 NaN   \n",
       "\n",
       "        User_Interaction  Exploit_Availability  Impact  \\\n",
       "291398               NaN                   NaN     NaN   \n",
       "291399               NaN                   NaN     NaN   \n",
       "291400               NaN                   NaN     NaN   \n",
       "291401               NaN                   NaN     NaN   \n",
       "291402               NaN                   NaN     NaN   \n",
       "\n",
       "        Confidentiality_Impact  Integrity_Impact Availability_Impact  \\\n",
       "291398                     NaN               NaN                 NaN   \n",
       "291399                     NaN               NaN                 NaN   \n",
       "291400                     NaN               NaN                 NaN   \n",
       "291401                     NaN               NaN                 NaN   \n",
       "291402                     NaN               NaN                 NaN   \n",
       "\n",
       "        Authentication  \n",
       "291398             NaN  \n",
       "291399             NaN  \n",
       "291400             NaN  \n",
       "291401             NaN  \n",
       "291402             NaN  \n",
       "\n",
       "[5 rows x 27 columns]"
      ]
     },
     "execution_count": 6,
     "metadata": {},
     "output_type": "execute_result"
    }
   ],
   "source": [
    "df.tail()"
   ]
  },
  {
   "cell_type": "code",
   "execution_count": 8,
   "metadata": {},
   "outputs": [
    {
     "name": "stdout",
     "output_type": "stream",
     "text": [
      "                cve_id                                   sourceIdentifier  \\\n",
      "291398   CVE-2025-2580                             security@wordfence.com   \n",
      "291399   CVE-2025-3511  Mitsubishielectric.Psirt@yd.MitsubishiElectric...   \n",
      "291400   CVE-2025-3861                             security@wordfence.com   \n",
      "291401   CVE-2025-3923                             security@wordfence.com   \n",
      "291402  CVE-2025-46613                                      cve@mitre.org   \n",
      "\n",
      "                      published             lastModified vulnStatus  \\\n",
      "291398  2025-04-25T06:15:45.457  2025-04-25T06:15:45.457   Received   \n",
      "291399  2025-04-25T06:15:45.753  2025-04-25T06:15:45.753   Received   \n",
      "291400  2025-04-25T06:15:45.957  2025-04-25T06:15:45.957   Received   \n",
      "291401  2025-04-25T06:15:46.117  2025-04-25T06:15:46.117   Received   \n",
      "291402  2025-04-25T06:15:46.273  2025-04-25T06:15:46.273   Received   \n",
      "\n",
      "                                           description_en  cvss_version  \\\n",
      "291398  The Contact Form by Bit Form plugin for WordPr...           3.1   \n",
      "291399  Improper Validation of Specified Quantity in I...           3.1   \n",
      "291400  The Prevent Direct Access – Protect WordPress ...           3.1   \n",
      "291401  The Prevent Direct Access – Protect WordPress ...           3.1   \n",
      "291402  OpenPLC 3 through 64f9c11 has server.cpp Memor...           3.1   \n",
      "\n",
      "                                        vectorString  baseScore baseSeverity  \\\n",
      "291398  CVSS:3.1/AV:N/AC:H/PR:L/UI:N/S:C/C:L/I:L/A:N        4.9       MEDIUM   \n",
      "291399  CVSS:3.1/AV:N/AC:H/PR:N/UI:N/S:U/C:N/I:N/A:H        5.9       MEDIUM   \n",
      "291400  CVSS:3.1/AV:N/AC:L/PR:L/UI:N/S:U/C:L/I:L/A:N        5.4       MEDIUM   \n",
      "291401  CVSS:3.1/AV:N/AC:L/PR:N/UI:N/S:U/C:L/I:N/A:N        5.3       MEDIUM   \n",
      "291402  CVSS:3.1/AV:N/AC:H/PR:N/UI:N/S:C/C:N/I:L/A:H        7.5         HIGH   \n",
      "\n",
      "        ... Vulnerability_Type  Attack_Vector Privileges_Required  \\\n",
      "291398  ...                NaN            NaN                 NaN   \n",
      "291399  ...                NaN            NaN                 NaN   \n",
      "291400  ...                NaN            NaN                 NaN   \n",
      "291401  ...                NaN            NaN                 NaN   \n",
      "291402  ...                NaN            NaN                 NaN   \n",
      "\n",
      "        User_Interaction  Exploit_Availability  Impact  \\\n",
      "291398               NaN                   NaN     NaN   \n",
      "291399               NaN                   NaN     NaN   \n",
      "291400               NaN                   NaN     NaN   \n",
      "291401               NaN                   NaN     NaN   \n",
      "291402               NaN                   NaN     NaN   \n",
      "\n",
      "        Confidentiality_Impact  Integrity_Impact Availability_Impact  \\\n",
      "291398                     NaN               NaN                 NaN   \n",
      "291399                     NaN               NaN                 NaN   \n",
      "291400                     NaN               NaN                 NaN   \n",
      "291401                     NaN               NaN                 NaN   \n",
      "291402                     NaN               NaN                 NaN   \n",
      "\n",
      "        Authentication  \n",
      "291398             NaN  \n",
      "291399             NaN  \n",
      "291400             NaN  \n",
      "291401             NaN  \n",
      "291402             NaN  \n",
      "\n",
      "[5 rows x 27 columns]\n"
     ]
    }
   ],
   "source": [
    "print(df.tail())"
   ]
  },
  {
   "cell_type": "code",
   "execution_count": 18,
   "metadata": {},
   "outputs": [],
   "source": [
    "df.dropna(subset=[\"description_en\"], inplace=True)  "
   ]
  },
  {
   "cell_type": "code",
   "execution_count": 19,
   "metadata": {},
   "outputs": [
    {
     "data": {
      "text/plain": [
       "(291403, 27)"
      ]
     },
     "execution_count": 19,
     "metadata": {},
     "output_type": "execute_result"
    }
   ],
   "source": [
    "df.shape"
   ]
  },
  {
   "cell_type": "code",
   "execution_count": 17,
   "metadata": {},
   "outputs": [
    {
     "data": {
      "text/html": [
       "<div>\n",
       "<style scoped>\n",
       "    .dataframe tbody tr th:only-of-type {\n",
       "        vertical-align: middle;\n",
       "    }\n",
       "\n",
       "    .dataframe tbody tr th {\n",
       "        vertical-align: top;\n",
       "    }\n",
       "\n",
       "    .dataframe thead th {\n",
       "        text-align: right;\n",
       "    }\n",
       "</style>\n",
       "<table border=\"1\" class=\"dataframe\">\n",
       "  <thead>\n",
       "    <tr style=\"text-align: right;\">\n",
       "      <th></th>\n",
       "      <th>cve_id</th>\n",
       "      <th>sourceIdentifier</th>\n",
       "      <th>published</th>\n",
       "      <th>lastModified</th>\n",
       "      <th>vulnStatus</th>\n",
       "      <th>description_en</th>\n",
       "      <th>cvss_version</th>\n",
       "      <th>vectorString</th>\n",
       "      <th>baseScore</th>\n",
       "      <th>baseSeverity</th>\n",
       "      <th>...</th>\n",
       "      <th>Vulnerability_Type</th>\n",
       "      <th>Attack_Vector</th>\n",
       "      <th>Privileges_Required</th>\n",
       "      <th>User_Interaction</th>\n",
       "      <th>Exploit_Availability</th>\n",
       "      <th>Impact</th>\n",
       "      <th>Confidentiality_Impact</th>\n",
       "      <th>Integrity_Impact</th>\n",
       "      <th>Availability_Impact</th>\n",
       "      <th>Authentication</th>\n",
       "    </tr>\n",
       "  </thead>\n",
       "  <tbody>\n",
       "    <tr>\n",
       "      <th>0</th>\n",
       "      <td>CVE-1999-0095</td>\n",
       "      <td>cve@mitre.org</td>\n",
       "      <td>1988-10-01T04:00:00.000</td>\n",
       "      <td>2025-04-03T01:03:51.193</td>\n",
       "      <td>Deferred</td>\n",
       "      <td>The debug command in Sendmail is enabled, allo...</td>\n",
       "      <td>2.0</td>\n",
       "      <td>AV:N/AC:L/Au:N/C:C/I:C/A:C</td>\n",
       "      <td>10.0</td>\n",
       "      <td>NaN</td>\n",
       "      <td>...</td>\n",
       "      <td>NaN</td>\n",
       "      <td>NaN</td>\n",
       "      <td>NaN</td>\n",
       "      <td>NaN</td>\n",
       "      <td>NaN</td>\n",
       "      <td>NaN</td>\n",
       "      <td>NaN</td>\n",
       "      <td>NaN</td>\n",
       "      <td>NaN</td>\n",
       "      <td>NaN</td>\n",
       "    </tr>\n",
       "    <tr>\n",
       "      <th>1</th>\n",
       "      <td>CVE-1999-0082</td>\n",
       "      <td>cve@mitre.org</td>\n",
       "      <td>1988-11-11T05:00:00.000</td>\n",
       "      <td>2025-04-03T01:03:51.193</td>\n",
       "      <td>Deferred</td>\n",
       "      <td>CWD ~root command in ftpd allows root access.</td>\n",
       "      <td>2.0</td>\n",
       "      <td>AV:N/AC:L/Au:N/C:C/I:C/A:C</td>\n",
       "      <td>10.0</td>\n",
       "      <td>NaN</td>\n",
       "      <td>...</td>\n",
       "      <td>NaN</td>\n",
       "      <td>NaN</td>\n",
       "      <td>NaN</td>\n",
       "      <td>NaN</td>\n",
       "      <td>NaN</td>\n",
       "      <td>NaN</td>\n",
       "      <td>NaN</td>\n",
       "      <td>NaN</td>\n",
       "      <td>NaN</td>\n",
       "      <td>NaN</td>\n",
       "    </tr>\n",
       "    <tr>\n",
       "      <th>2</th>\n",
       "      <td>CVE-1999-1471</td>\n",
       "      <td>cve@mitre.org</td>\n",
       "      <td>1989-01-01T05:00:00.000</td>\n",
       "      <td>2025-04-03T01:03:51.193</td>\n",
       "      <td>Deferred</td>\n",
       "      <td>Buffer overflow in passwd in BSD based operati...</td>\n",
       "      <td>2.0</td>\n",
       "      <td>AV:L/AC:L/Au:N/C:C/I:C/A:C</td>\n",
       "      <td>7.2</td>\n",
       "      <td>NaN</td>\n",
       "      <td>...</td>\n",
       "      <td>NaN</td>\n",
       "      <td>NaN</td>\n",
       "      <td>NaN</td>\n",
       "      <td>NaN</td>\n",
       "      <td>NaN</td>\n",
       "      <td>NaN</td>\n",
       "      <td>NaN</td>\n",
       "      <td>NaN</td>\n",
       "      <td>NaN</td>\n",
       "      <td>NaN</td>\n",
       "    </tr>\n",
       "    <tr>\n",
       "      <th>3</th>\n",
       "      <td>CVE-1999-1122</td>\n",
       "      <td>cve@mitre.org</td>\n",
       "      <td>1989-07-26T04:00:00.000</td>\n",
       "      <td>2025-04-03T01:03:51.193</td>\n",
       "      <td>Deferred</td>\n",
       "      <td>Vulnerability in restore in SunOS 4.0.3 and ea...</td>\n",
       "      <td>2.0</td>\n",
       "      <td>AV:L/AC:L/Au:N/C:P/I:P/A:P</td>\n",
       "      <td>4.6</td>\n",
       "      <td>NaN</td>\n",
       "      <td>...</td>\n",
       "      <td>NaN</td>\n",
       "      <td>NaN</td>\n",
       "      <td>NaN</td>\n",
       "      <td>NaN</td>\n",
       "      <td>NaN</td>\n",
       "      <td>NaN</td>\n",
       "      <td>NaN</td>\n",
       "      <td>NaN</td>\n",
       "      <td>NaN</td>\n",
       "      <td>NaN</td>\n",
       "    </tr>\n",
       "    <tr>\n",
       "      <th>4</th>\n",
       "      <td>CVE-1999-1467</td>\n",
       "      <td>cve@mitre.org</td>\n",
       "      <td>1989-10-26T04:00:00.000</td>\n",
       "      <td>2025-04-03T01:03:51.193</td>\n",
       "      <td>Deferred</td>\n",
       "      <td>Vulnerability in rcp on SunOS 4.0.x allows rem...</td>\n",
       "      <td>2.0</td>\n",
       "      <td>AV:N/AC:L/Au:N/C:C/I:C/A:C</td>\n",
       "      <td>10.0</td>\n",
       "      <td>NaN</td>\n",
       "      <td>...</td>\n",
       "      <td>NaN</td>\n",
       "      <td>NaN</td>\n",
       "      <td>NaN</td>\n",
       "      <td>NaN</td>\n",
       "      <td>NaN</td>\n",
       "      <td>NaN</td>\n",
       "      <td>NaN</td>\n",
       "      <td>NaN</td>\n",
       "      <td>NaN</td>\n",
       "      <td>NaN</td>\n",
       "    </tr>\n",
       "  </tbody>\n",
       "</table>\n",
       "<p>5 rows × 27 columns</p>\n",
       "</div>"
      ],
      "text/plain": [
       "          cve_id sourceIdentifier                published  \\\n",
       "0  CVE-1999-0095    cve@mitre.org  1988-10-01T04:00:00.000   \n",
       "1  CVE-1999-0082    cve@mitre.org  1988-11-11T05:00:00.000   \n",
       "2  CVE-1999-1471    cve@mitre.org  1989-01-01T05:00:00.000   \n",
       "3  CVE-1999-1122    cve@mitre.org  1989-07-26T04:00:00.000   \n",
       "4  CVE-1999-1467    cve@mitre.org  1989-10-26T04:00:00.000   \n",
       "\n",
       "              lastModified vulnStatus  \\\n",
       "0  2025-04-03T01:03:51.193   Deferred   \n",
       "1  2025-04-03T01:03:51.193   Deferred   \n",
       "2  2025-04-03T01:03:51.193   Deferred   \n",
       "3  2025-04-03T01:03:51.193   Deferred   \n",
       "4  2025-04-03T01:03:51.193   Deferred   \n",
       "\n",
       "                                      description_en  cvss_version  \\\n",
       "0  The debug command in Sendmail is enabled, allo...           2.0   \n",
       "1      CWD ~root command in ftpd allows root access.           2.0   \n",
       "2  Buffer overflow in passwd in BSD based operati...           2.0   \n",
       "3  Vulnerability in restore in SunOS 4.0.3 and ea...           2.0   \n",
       "4  Vulnerability in rcp on SunOS 4.0.x allows rem...           2.0   \n",
       "\n",
       "                 vectorString  baseScore baseSeverity  ... Vulnerability_Type  \\\n",
       "0  AV:N/AC:L/Au:N/C:C/I:C/A:C       10.0          NaN  ...                NaN   \n",
       "1  AV:N/AC:L/Au:N/C:C/I:C/A:C       10.0          NaN  ...                NaN   \n",
       "2  AV:L/AC:L/Au:N/C:C/I:C/A:C        7.2          NaN  ...                NaN   \n",
       "3  AV:L/AC:L/Au:N/C:P/I:P/A:P        4.6          NaN  ...                NaN   \n",
       "4  AV:N/AC:L/Au:N/C:C/I:C/A:C       10.0          NaN  ...                NaN   \n",
       "\n",
       "   Attack_Vector Privileges_Required  User_Interaction  Exploit_Availability  \\\n",
       "0            NaN                 NaN               NaN                   NaN   \n",
       "1            NaN                 NaN               NaN                   NaN   \n",
       "2            NaN                 NaN               NaN                   NaN   \n",
       "3            NaN                 NaN               NaN                   NaN   \n",
       "4            NaN                 NaN               NaN                   NaN   \n",
       "\n",
       "   Impact  Confidentiality_Impact  Integrity_Impact Availability_Impact  \\\n",
       "0     NaN                     NaN               NaN                 NaN   \n",
       "1     NaN                     NaN               NaN                 NaN   \n",
       "2     NaN                     NaN               NaN                 NaN   \n",
       "3     NaN                     NaN               NaN                 NaN   \n",
       "4     NaN                     NaN               NaN                 NaN   \n",
       "\n",
       "   Authentication  \n",
       "0             NaN  \n",
       "1             NaN  \n",
       "2             NaN  \n",
       "3             NaN  \n",
       "4             NaN  \n",
       "\n",
       "[5 rows x 27 columns]"
      ]
     },
     "execution_count": 17,
     "metadata": {},
     "output_type": "execute_result"
    }
   ],
   "source": [
    "df.head()"
   ]
  },
  {
   "cell_type": "code",
   "execution_count": null,
   "metadata": {},
   "outputs": [],
   "source": []
  }
 ],
 "metadata": {
  "kernelspec": {
   "display_name": "Python 3",
   "language": "python",
   "name": "python3"
  },
  "language_info": {
   "codemirror_mode": {
    "name": "ipython",
    "version": 3
   },
   "file_extension": ".py",
   "mimetype": "text/x-python",
   "name": "python",
   "nbconvert_exporter": "python",
   "pygments_lexer": "ipython3",
   "version": "3.13.1"
  }
 },
 "nbformat": 4,
 "nbformat_minor": 2
}
